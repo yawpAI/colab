{
  "nbformat": 4,
  "nbformat_minor": 0,
  "metadata": {
    "colab": {
      "name": "numpy.ipynb",
      "provenance": [],
      "collapsed_sections": [],
      "authorship_tag": "ABX9TyNP9bZhFSfcWUYTvue7Y5rE",
      "include_colab_link": true
    },
    "kernelspec": {
      "name": "python3",
      "display_name": "Python 3"
    },
    "language_info": {
      "name": "python"
    }
  },
  "cells": [
    {
      "cell_type": "markdown",
      "metadata": {
        "id": "view-in-github",
        "colab_type": "text"
      },
      "source": [
        "<a href=\"https://colab.research.google.com/github/yawpAI/colab/blob/main/numpy.ipynb\" target=\"_parent\"><img src=\"https://colab.research.google.com/assets/colab-badge.svg\" alt=\"Open In Colab\"/></a>"
      ]
    },
    {
      "cell_type": "code",
      "metadata": {
        "id": "UYX_B_kOejVI"
      },
      "source": [
        "import numpy as np"
      ],
      "execution_count": null,
      "outputs": []
    },
    {
      "cell_type": "code",
      "metadata": {
        "id": "eilE0hbwelVi"
      },
      "source": [
        "l = [1,2,3]"
      ],
      "execution_count": null,
      "outputs": []
    },
    {
      "cell_type": "code",
      "metadata": {
        "id": "oNnO6VRuenql"
      },
      "source": [
        "A = np.array(l)"
      ],
      "execution_count": null,
      "outputs": []
    },
    {
      "cell_type": "code",
      "metadata": {
        "colab": {
          "base_uri": "https://localhost:8080/"
        },
        "id": "xEyLSQtfernk",
        "outputId": "442ee8b3-2209-4ced-86b2-90e34e353949"
      },
      "source": [
        "for e in l:\n",
        "  print(e)"
      ],
      "execution_count": null,
      "outputs": [
        {
          "output_type": "stream",
          "text": [
            "1\n",
            "2\n",
            "3\n"
          ],
          "name": "stdout"
        }
      ]
    },
    {
      "cell_type": "code",
      "metadata": {
        "colab": {
          "base_uri": "https://localhost:8080/"
        },
        "id": "SoIvqdBReutH",
        "outputId": "d52ae3a2-7508-403d-e69a-6498c1f708fe"
      },
      "source": [
        "for i in A:\n",
        "  print(i)"
      ],
      "execution_count": null,
      "outputs": [
        {
          "output_type": "stream",
          "text": [
            "1\n",
            "2\n",
            "3\n"
          ],
          "name": "stdout"
        }
      ]
    },
    {
      "cell_type": "code",
      "metadata": {
        "id": "-9aWsGBjew4L"
      },
      "source": [
        "l.append(\"d\")"
      ],
      "execution_count": null,
      "outputs": []
    },
    {
      "cell_type": "code",
      "metadata": {
        "colab": {
          "base_uri": "https://localhost:8080/"
        },
        "id": "_dN8eJzJez7W",
        "outputId": "93720c8b-9b55-4342-a4eb-116cb51a2920"
      },
      "source": [
        "l"
      ],
      "execution_count": null,
      "outputs": [
        {
          "output_type": "execute_result",
          "data": {
            "text/plain": [
              "[1, 2, 3, 'd']"
            ]
          },
          "metadata": {
            "tags": []
          },
          "execution_count": 7
        }
      ]
    },
    {
      "cell_type": "code",
      "metadata": {
        "colab": {
          "base_uri": "https://localhost:8080/",
          "height": 164
        },
        "id": "6uUUvFcDe03T",
        "outputId": "195b9afe-da2e-47ae-de04-61e313fe6b3a"
      },
      "source": [
        "A.append(\"d\"). #arrays have fixed length"
      ],
      "execution_count": null,
      "outputs": [
        {
          "output_type": "error",
          "ename": "AttributeError",
          "evalue": "ignored",
          "traceback": [
            "\u001b[0;31m---------------------------------------------------------------------------\u001b[0m",
            "\u001b[0;31mAttributeError\u001b[0m                            Traceback (most recent call last)",
            "\u001b[0;32m<ipython-input-8-1fbc72f08c72>\u001b[0m in \u001b[0;36m<module>\u001b[0;34m()\u001b[0m\n\u001b[0;32m----> 1\u001b[0;31m \u001b[0mA\u001b[0m\u001b[0;34m.\u001b[0m\u001b[0mappend\u001b[0m\u001b[0;34m(\u001b[0m\u001b[0;34m\"d\"\u001b[0m\u001b[0;34m)\u001b[0m\u001b[0;34m\u001b[0m\u001b[0;34m\u001b[0m\u001b[0m\n\u001b[0m",
            "\u001b[0;31mAttributeError\u001b[0m: 'numpy.ndarray' object has no attribute 'append'"
          ]
        }
      ]
    },
    {
      "cell_type": "code",
      "metadata": {
        "colab": {
          "base_uri": "https://localhost:8080/"
        },
        "id": "SF_aNy3oe3ng",
        "outputId": "e40f54f6-7ec4-419e-8b2a-05676a0cbd90"
      },
      "source": [
        "l + [4,5,6]"
      ],
      "execution_count": null,
      "outputs": [
        {
          "output_type": "execute_result",
          "data": {
            "text/plain": [
              "[1, 2, 3, 'd', 4, 5, 6]"
            ]
          },
          "metadata": {
            "tags": []
          },
          "execution_count": 9
        }
      ]
    },
    {
      "cell_type": "code",
      "metadata": {
        "colab": {
          "base_uri": "https://localhost:8080/"
        },
        "id": "gbj-0GYwe_d9",
        "outputId": "1672d10c-b284-49bd-b6d2-fc4454eb535d"
      },
      "source": [
        "A + np.array([4]). #broadcasting, adding 4 to all elements in A"
      ],
      "execution_count": null,
      "outputs": [
        {
          "output_type": "execute_result",
          "data": {
            "text/plain": [
              "array([5, 6, 7])"
            ]
          },
          "metadata": {
            "tags": []
          },
          "execution_count": 10
        }
      ]
    },
    {
      "cell_type": "code",
      "metadata": {
        "colab": {
          "base_uri": "https://localhost:8080/"
        },
        "id": "CJecuKMmfC4T",
        "outputId": "69bcfa4c-760f-45f0-ed52-d5ca93beb7bd"
      },
      "source": [
        "A + np.array([4,5,6]). # vector addition since dims are the same"
      ],
      "execution_count": null,
      "outputs": [
        {
          "output_type": "execute_result",
          "data": {
            "text/plain": [
              "array([5, 7, 9])"
            ]
          },
          "metadata": {
            "tags": []
          },
          "execution_count": 11
        }
      ]
    },
    {
      "cell_type": "code",
      "metadata": {
        "colab": {
          "base_uri": "https://localhost:8080/",
          "height": 164
        },
        "id": "j7EOA575fQ1w",
        "outputId": "23562908-ca98-4835-970d-8487f9b4447b"
      },
      "source": [
        "A + np.array([4,5]). #incompatible shapes for broadcasting and cannot add 2 vectors of 2 sizes"
      ],
      "execution_count": null,
      "outputs": [
        {
          "output_type": "error",
          "ename": "ValueError",
          "evalue": "ignored",
          "traceback": [
            "\u001b[0;31m---------------------------------------------------------------------------\u001b[0m",
            "\u001b[0;31mValueError\u001b[0m                                Traceback (most recent call last)",
            "\u001b[0;32m<ipython-input-12-2a83055a136d>\u001b[0m in \u001b[0;36m<module>\u001b[0;34m()\u001b[0m\n\u001b[0;32m----> 1\u001b[0;31m \u001b[0mA\u001b[0m \u001b[0;34m+\u001b[0m \u001b[0mnp\u001b[0m\u001b[0;34m.\u001b[0m\u001b[0marray\u001b[0m\u001b[0;34m(\u001b[0m\u001b[0;34m[\u001b[0m\u001b[0;36m4\u001b[0m\u001b[0;34m,\u001b[0m\u001b[0;36m5\u001b[0m\u001b[0;34m]\u001b[0m\u001b[0;34m)\u001b[0m\u001b[0;34m\u001b[0m\u001b[0;34m\u001b[0m\u001b[0m\n\u001b[0m",
            "\u001b[0;31mValueError\u001b[0m: operands could not be broadcast together with shapes (3,) (2,) "
          ]
        }
      ]
    },
    {
      "cell_type": "code",
      "metadata": {
        "colab": {
          "base_uri": "https://localhost:8080/"
        },
        "id": "3UYQCgHWfWuy",
        "outputId": "b8b248d0-910b-44bf-89a1-e93de5b9f2c4"
      },
      "source": [
        "A * 2. # element wise multiplication"
      ],
      "execution_count": null,
      "outputs": [
        {
          "output_type": "execute_result",
          "data": {
            "text/plain": [
              "array([2, 4, 6])"
            ]
          },
          "metadata": {
            "tags": []
          },
          "execution_count": 13
        }
      ]
    },
    {
      "cell_type": "code",
      "metadata": {
        "colab": {
          "base_uri": "https://localhost:8080/"
        },
        "id": "0fSe7I2NfdRx",
        "outputId": "a35c0810-0876-4d44-f7d2-46f3ee70c3e9"
      },
      "source": [
        "l * 2. #repeated concatenation"
      ],
      "execution_count": null,
      "outputs": [
        {
          "output_type": "execute_result",
          "data": {
            "text/plain": [
              "[1, 2, 3, 'd', 1, 2, 3, 'd']"
            ]
          },
          "metadata": {
            "tags": []
          },
          "execution_count": 14
        }
      ]
    },
    {
      "cell_type": "code",
      "metadata": {
        "colab": {
          "base_uri": "https://localhost:8080/"
        },
        "id": "O012rSMLfhZO",
        "outputId": "5f1ac510-61e9-49e2-84cb-a8584ef2a618"
      },
      "source": [
        "l + l. #addition for lists is always concatenation"
      ],
      "execution_count": null,
      "outputs": [
        {
          "output_type": "execute_result",
          "data": {
            "text/plain": [
              "[1, 2, 3, 'd', 1, 2, 3, 'd']"
            ]
          },
          "metadata": {
            "tags": []
          },
          "execution_count": 15
        }
      ]
    },
    {
      "cell_type": "code",
      "metadata": {
        "colab": {
          "base_uri": "https://localhost:8080/"
        },
        "id": "IHEpgcDgfmNf",
        "outputId": "c350fc24-1a24-41f4-9c18-9d0d70827ac6"
      },
      "source": [
        "l = [1,2,3]. #must iterate to add to list elements\n",
        "l2 = []\n",
        "for i in l:\n",
        "  l2.append(i + 3)\n",
        "l2"
      ],
      "execution_count": null,
      "outputs": [
        {
          "output_type": "execute_result",
          "data": {
            "text/plain": [
              "[4, 5, 6]"
            ]
          },
          "metadata": {
            "tags": []
          },
          "execution_count": 18
        }
      ]
    },
    {
      "cell_type": "code",
      "metadata": {
        "colab": {
          "base_uri": "https://localhost:8080/"
        },
        "id": "iW6KVeh3fxLo",
        "outputId": "363ffef6-5d90-4fd4-e0f4-c72b70843f40"
      },
      "source": [
        "#list comprehensions\n",
        "l2 = [e + 3 for e in l]\n",
        "l2"
      ],
      "execution_count": null,
      "outputs": [
        {
          "output_type": "execute_result",
          "data": {
            "text/plain": [
              "[4, 5, 6]"
            ]
          },
          "metadata": {
            "tags": []
          },
          "execution_count": 19
        }
      ]
    },
    {
      "cell_type": "code",
      "metadata": {
        "colab": {
          "base_uri": "https://localhost:8080/",
          "height": 164
        },
        "id": "H538dulWgDR3",
        "outputId": "a9c0766a-0a9d-4119-d609-a5f8a503f038"
      },
      "source": [
        "l**2. #no multiplication for lists, must iterate"
      ],
      "execution_count": null,
      "outputs": [
        {
          "output_type": "error",
          "ename": "TypeError",
          "evalue": "ignored",
          "traceback": [
            "\u001b[0;31m---------------------------------------------------------------------------\u001b[0m",
            "\u001b[0;31mTypeError\u001b[0m                                 Traceback (most recent call last)",
            "\u001b[0;32m<ipython-input-20-c658a3e7cb37>\u001b[0m in \u001b[0;36m<module>\u001b[0;34m()\u001b[0m\n\u001b[0;32m----> 1\u001b[0;31m \u001b[0ml\u001b[0m\u001b[0;34m**\u001b[0m\u001b[0;36m2\u001b[0m\u001b[0;34m\u001b[0m\u001b[0;34m\u001b[0m\u001b[0m\n\u001b[0m",
            "\u001b[0;31mTypeError\u001b[0m: unsupported operand type(s) for ** or pow(): 'list' and 'int'"
          ]
        }
      ]
    },
    {
      "cell_type": "code",
      "metadata": {
        "colab": {
          "base_uri": "https://localhost:8080/"
        },
        "id": "oyQB9GHlgJRC",
        "outputId": "f948aa7f-1ae5-47f7-a924-2d1e51219e12"
      },
      "source": [
        "l3 = [e**2 for e in l]\n",
        "l3"
      ],
      "execution_count": null,
      "outputs": [
        {
          "output_type": "execute_result",
          "data": {
            "text/plain": [
              "[1, 4, 9]"
            ]
          },
          "metadata": {
            "tags": []
          },
          "execution_count": 21
        }
      ]
    },
    {
      "cell_type": "code",
      "metadata": {
        "colab": {
          "base_uri": "https://localhost:8080/"
        },
        "id": "fbEOJVG4gPqk",
        "outputId": "0d00b9da-acee-41d4-f6fa-6b0aaa3bc0f5"
      },
      "source": [
        "A**2"
      ],
      "execution_count": null,
      "outputs": [
        {
          "output_type": "execute_result",
          "data": {
            "text/plain": [
              "array([1, 4, 9])"
            ]
          },
          "metadata": {
            "tags": []
          },
          "execution_count": 22
        }
      ]
    },
    {
      "cell_type": "code",
      "metadata": {
        "colab": {
          "base_uri": "https://localhost:8080/"
        },
        "id": "RSyCgD8tgXST",
        "outputId": "a8cd9c35-baf5-4e00-b1f1-cbbd83649bc4"
      },
      "source": [
        "np.sqrt(A). #all functions over the vector"
      ],
      "execution_count": null,
      "outputs": [
        {
          "output_type": "execute_result",
          "data": {
            "text/plain": [
              "array([1.        , 1.41421356, 1.73205081])"
            ]
          },
          "metadata": {
            "tags": []
          },
          "execution_count": 23
        }
      ]
    },
    {
      "cell_type": "code",
      "metadata": {
        "colab": {
          "base_uri": "https://localhost:8080/"
        },
        "id": "TAb-rsNbgZ20",
        "outputId": "6cbc3618-1ccd-4df1-f7b1-8c3d2fdb3124"
      },
      "source": [
        "np.log(A)"
      ],
      "execution_count": null,
      "outputs": [
        {
          "output_type": "execute_result",
          "data": {
            "text/plain": [
              "array([0.        , 0.69314718, 1.09861229])"
            ]
          },
          "metadata": {
            "tags": []
          },
          "execution_count": 24
        }
      ]
    },
    {
      "cell_type": "code",
      "metadata": {
        "colab": {
          "base_uri": "https://localhost:8080/"
        },
        "id": "76_JuXOtgbb5",
        "outputId": "e6094f48-396a-4904-cbee-2b47f6c4e786"
      },
      "source": [
        "np.exp(A)"
      ],
      "execution_count": null,
      "outputs": [
        {
          "output_type": "execute_result",
          "data": {
            "text/plain": [
              "array([ 2.71828183,  7.3890561 , 20.08553692])"
            ]
          },
          "metadata": {
            "tags": []
          },
          "execution_count": 25
        }
      ]
    },
    {
      "cell_type": "code",
      "metadata": {
        "colab": {
          "base_uri": "https://localhost:8080/"
        },
        "id": "s_8UlrwugdBf",
        "outputId": "63e7199f-eee0-4883-95a0-cdb54602637a"
      },
      "source": [
        "np.tanh(A)"
      ],
      "execution_count": null,
      "outputs": [
        {
          "output_type": "execute_result",
          "data": {
            "text/plain": [
              "array([0.76159416, 0.96402758, 0.99505475])"
            ]
          },
          "metadata": {
            "tags": []
          },
          "execution_count": 26
        }
      ]
    },
    {
      "cell_type": "code",
      "metadata": {
        "colab": {
          "base_uri": "https://localhost:8080/"
        },
        "id": "MD6nI6lSgfQK",
        "outputId": "868a0f80-e72f-48d6-e700-108d91d8cd0d"
      },
      "source": [
        "np.sin(A)"
      ],
      "execution_count": null,
      "outputs": [
        {
          "output_type": "execute_result",
          "data": {
            "text/plain": [
              "array([0.84147098, 0.90929743, 0.14112001])"
            ]
          },
          "metadata": {
            "tags": []
          },
          "execution_count": 27
        }
      ]
    },
    {
      "cell_type": "code",
      "metadata": {
        "id": "tdso8ASEgkJw"
      },
      "source": [
        "A = np.array([1,2])\n",
        "B = [e**2 for e in A]"
      ],
      "execution_count": null,
      "outputs": []
    },
    {
      "cell_type": "code",
      "metadata": {
        "colab": {
          "base_uri": "https://localhost:8080/"
        },
        "id": "QxgKFmEigwgt",
        "outputId": "345fe99c-7bc4-4d36-b836-82d8cb5ba4ef"
      },
      "source": [
        "A.dot(B)"
      ],
      "execution_count": null,
      "outputs": [
        {
          "output_type": "execute_result",
          "data": {
            "text/plain": [
              "9"
            ]
          },
          "metadata": {
            "tags": []
          },
          "execution_count": 30
        }
      ]
    },
    {
      "cell_type": "code",
      "metadata": {
        "colab": {
          "base_uri": "https://localhost:8080/"
        },
        "id": "xFIwDsU8g0RU",
        "outputId": "78c5b504-ccf3-4d34-da07-e0eb050a32f7"
      },
      "source": [
        "dot = 0\n",
        "for i in range(len(A)):\n",
        "  dot += A[i] * B[i]\n",
        "dot"
      ],
      "execution_count": null,
      "outputs": [
        {
          "output_type": "execute_result",
          "data": {
            "text/plain": [
              "9"
            ]
          },
          "metadata": {
            "tags": []
          },
          "execution_count": 31
        }
      ]
    },
    {
      "cell_type": "code",
      "metadata": {
        "colab": {
          "base_uri": "https://localhost:8080/"
        },
        "id": "H31Y-rk7hHCC",
        "outputId": "edc0c4e1-2bdc-4f74-e944-3f6ac29f7430"
      },
      "source": [
        "A * B. #element wise"
      ],
      "execution_count": null,
      "outputs": [
        {
          "output_type": "execute_result",
          "data": {
            "text/plain": [
              "array([1, 8])"
            ]
          },
          "metadata": {
            "tags": []
          },
          "execution_count": 32
        }
      ]
    },
    {
      "cell_type": "code",
      "metadata": {
        "colab": {
          "base_uri": "https://localhost:8080/"
        },
        "id": "SHLAGoDShJUX",
        "outputId": "bb59de03-4186-429b-ad22-2a16693ea165"
      },
      "source": [
        "np.sum(A*B)"
      ],
      "execution_count": null,
      "outputs": [
        {
          "output_type": "execute_result",
          "data": {
            "text/plain": [
              "9"
            ]
          },
          "metadata": {
            "tags": []
          },
          "execution_count": 33
        }
      ]
    },
    {
      "cell_type": "code",
      "metadata": {
        "colab": {
          "base_uri": "https://localhost:8080/"
        },
        "id": "xg1elzUKhNk-",
        "outputId": "53774775-5591-4df1-93e2-b26356fa578a"
      },
      "source": [
        "(A*B).sum()"
      ],
      "execution_count": null,
      "outputs": [
        {
          "output_type": "execute_result",
          "data": {
            "text/plain": [
              "9"
            ]
          },
          "metadata": {
            "tags": []
          },
          "execution_count": 34
        }
      ]
    },
    {
      "cell_type": "code",
      "metadata": {
        "colab": {
          "base_uri": "https://localhost:8080/"
        },
        "id": "gHAuwDkHhQMM",
        "outputId": "434fbeb0-dda2-4f1d-a011-228297ec0a70"
      },
      "source": [
        "np.dot(A,B)"
      ],
      "execution_count": null,
      "outputs": [
        {
          "output_type": "execute_result",
          "data": {
            "text/plain": [
              "9"
            ]
          },
          "metadata": {
            "tags": []
          },
          "execution_count": 35
        }
      ]
    },
    {
      "cell_type": "code",
      "metadata": {
        "colab": {
          "base_uri": "https://localhost:8080/"
        },
        "id": "SYQScTr5hUGI",
        "outputId": "2cf71f3f-7a06-45fc-d754-0261370fcc9f"
      },
      "source": [
        "# new operator\n",
        "A @ B"
      ],
      "execution_count": null,
      "outputs": [
        {
          "output_type": "execute_result",
          "data": {
            "text/plain": [
              "9"
            ]
          },
          "metadata": {
            "tags": []
          },
          "execution_count": 36
        }
      ]
    },
    {
      "cell_type": "code",
      "metadata": {
        "colab": {
          "base_uri": "https://localhost:8080/",
          "height": 283
        },
        "id": "y5KmOIfNhYPr",
        "outputId": "99b5bf94-2b1a-435f-b374-78e26c579147"
      },
      "source": [
        "np.norm(A)"
      ],
      "execution_count": null,
      "outputs": [
        {
          "output_type": "error",
          "ename": "AttributeError",
          "evalue": "ignored",
          "traceback": [
            "\u001b[0;31m---------------------------------------------------------------------------\u001b[0m",
            "\u001b[0;31mAttributeError\u001b[0m                            Traceback (most recent call last)",
            "\u001b[0;32m<ipython-input-37-aef727db0e49>\u001b[0m in \u001b[0;36m<module>\u001b[0;34m()\u001b[0m\n\u001b[0;32m----> 1\u001b[0;31m \u001b[0mnp\u001b[0m\u001b[0;34m.\u001b[0m\u001b[0mnorm\u001b[0m\u001b[0;34m(\u001b[0m\u001b[0mA\u001b[0m\u001b[0;34m)\u001b[0m\u001b[0;34m\u001b[0m\u001b[0;34m\u001b[0m\u001b[0m\n\u001b[0m",
            "\u001b[0;32m/usr/local/lib/python3.7/dist-packages/numpy/__init__.py\u001b[0m in \u001b[0;36m__getattr__\u001b[0;34m(attr)\u001b[0m\n\u001b[1;32m    213\u001b[0m             \u001b[0;32melse\u001b[0m\u001b[0;34m:\u001b[0m\u001b[0;34m\u001b[0m\u001b[0;34m\u001b[0m\u001b[0m\n\u001b[1;32m    214\u001b[0m                 raise AttributeError(\"module {!r} has no attribute \"\n\u001b[0;32m--> 215\u001b[0;31m                                      \"{!r}\".format(__name__, attr))\n\u001b[0m\u001b[1;32m    216\u001b[0m \u001b[0;34m\u001b[0m\u001b[0m\n\u001b[1;32m    217\u001b[0m         \u001b[0;32mdef\u001b[0m \u001b[0m__dir__\u001b[0m\u001b[0;34m(\u001b[0m\u001b[0;34m)\u001b[0m\u001b[0;34m:\u001b[0m\u001b[0;34m\u001b[0m\u001b[0;34m\u001b[0m\u001b[0m\n",
            "\u001b[0;31mAttributeError\u001b[0m: module 'numpy' has no attribute 'norm'"
          ]
        }
      ]
    },
    {
      "cell_type": "code",
      "metadata": {
        "colab": {
          "base_uri": "https://localhost:8080/"
        },
        "id": "ael8YDiehf5U",
        "outputId": "2c202bcb-5499-44a4-f8a5-09ee1caa43c1"
      },
      "source": [
        "Amag = np.sqrt(A @ A)\n",
        "print(Amag)"
      ],
      "execution_count": null,
      "outputs": [
        {
          "output_type": "stream",
          "text": [
            "2.23606797749979\n"
          ],
          "name": "stdout"
        }
      ]
    },
    {
      "cell_type": "code",
      "metadata": {
        "colab": {
          "base_uri": "https://localhost:8080/"
        },
        "id": "aEZPrSNshm-q",
        "outputId": "4133c903-3d56-4109-d4a4-dfba0c71f761"
      },
      "source": [
        "np.linalg.norm(A). #norm"
      ],
      "execution_count": null,
      "outputs": [
        {
          "output_type": "execute_result",
          "data": {
            "text/plain": [
              "2.23606797749979"
            ]
          },
          "metadata": {
            "tags": []
          },
          "execution_count": 39
        }
      ]
    },
    {
      "cell_type": "code",
      "metadata": {
        "colab": {
          "base_uri": "https://localhost:8080/"
        },
        "id": "9K51hloThtgo",
        "outputId": "c4c096fb-db4b-474c-994f-8a8fa6a4088e"
      },
      "source": [
        "# cosine\n",
        "cos = A @ B / (np.linalg.norm(A) * np.linalg.norm(B))\n",
        "cos"
      ],
      "execution_count": null,
      "outputs": [
        {
          "output_type": "execute_result",
          "data": {
            "text/plain": [
              "0.9761870601839528"
            ]
          },
          "metadata": {
            "tags": []
          },
          "execution_count": 40
        }
      ]
    },
    {
      "cell_type": "code",
      "metadata": {
        "colab": {
          "base_uri": "https://localhost:8080/"
        },
        "id": "0hBgKA2kh7eQ",
        "outputId": "fc59b696-4d00-4a32-a836-f7a008ae5251"
      },
      "source": [
        "angle = np.arccos(cos)\n",
        "angle"
      ],
      "execution_count": null,
      "outputs": [
        {
          "output_type": "execute_result",
          "data": {
            "text/plain": [
              "0.21866894587394162"
            ]
          },
          "metadata": {
            "tags": []
          },
          "execution_count": 44
        }
      ]
    },
    {
      "cell_type": "code",
      "metadata": {
        "id": "hfGqZ2MViA51",
        "colab": {
          "base_uri": "https://localhost:8080/"
        },
        "outputId": "490acdf2-b341-4725-e987-f7bf40680faf"
      },
      "source": [
        "L = [[1,2],[3,4]]\n",
        "L"
      ],
      "execution_count": 45,
      "outputs": [
        {
          "output_type": "execute_result",
          "data": {
            "text/plain": [
              "[[1, 2], [3, 4]]"
            ]
          },
          "metadata": {
            "tags": []
          },
          "execution_count": 45
        }
      ]
    },
    {
      "cell_type": "code",
      "metadata": {
        "colab": {
          "base_uri": "https://localhost:8080/"
        },
        "id": "nzuAad4-kEYi",
        "outputId": "763edb11-67c8-4534-cbf0-ba9b6e76fc77"
      },
      "source": [
        "L[0]"
      ],
      "execution_count": 46,
      "outputs": [
        {
          "output_type": "execute_result",
          "data": {
            "text/plain": [
              "[1, 2]"
            ]
          },
          "metadata": {
            "tags": []
          },
          "execution_count": 46
        }
      ]
    },
    {
      "cell_type": "code",
      "metadata": {
        "colab": {
          "base_uri": "https://localhost:8080/"
        },
        "id": "WS3_9uKvkH3G",
        "outputId": "51f69778-13e4-4a79-ea19-58df684bc763"
      },
      "source": [
        "L[0][1]"
      ],
      "execution_count": 47,
      "outputs": [
        {
          "output_type": "execute_result",
          "data": {
            "text/plain": [
              "2"
            ]
          },
          "metadata": {
            "tags": []
          },
          "execution_count": 47
        }
      ]
    },
    {
      "cell_type": "code",
      "metadata": {
        "colab": {
          "base_uri": "https://localhost:8080/"
        },
        "id": "r7QTPEIKkMvb",
        "outputId": "3f8b72f1-d185-49ab-a981-998e448768b9"
      },
      "source": [
        "A = np.array(L)\n",
        "A"
      ],
      "execution_count": 49,
      "outputs": [
        {
          "output_type": "execute_result",
          "data": {
            "text/plain": [
              "array([[1, 2],\n",
              "       [3, 4]])"
            ]
          },
          "metadata": {
            "tags": []
          },
          "execution_count": 49
        }
      ]
    },
    {
      "cell_type": "code",
      "metadata": {
        "colab": {
          "base_uri": "https://localhost:8080/"
        },
        "id": "wOkAZ-e1kQ-c",
        "outputId": "25f6e216-0246-4465-9890-d6e18011ca01"
      },
      "source": [
        "A[0][1]"
      ],
      "execution_count": 50,
      "outputs": [
        {
          "output_type": "execute_result",
          "data": {
            "text/plain": [
              "2"
            ]
          },
          "metadata": {
            "tags": []
          },
          "execution_count": 50
        }
      ]
    },
    {
      "cell_type": "code",
      "metadata": {
        "colab": {
          "base_uri": "https://localhost:8080/"
        },
        "id": "cDIcQ6d2kWVp",
        "outputId": "ef8fe840-16bd-4060-cbbb-2f1d264814d7"
      },
      "source": [
        "A[0,1]"
      ],
      "execution_count": 51,
      "outputs": [
        {
          "output_type": "execute_result",
          "data": {
            "text/plain": [
              "2"
            ]
          },
          "metadata": {
            "tags": []
          },
          "execution_count": 51
        }
      ]
    },
    {
      "cell_type": "code",
      "metadata": {
        "colab": {
          "base_uri": "https://localhost:8080/"
        },
        "id": "8e-J69V2kZGy",
        "outputId": "025a9a7a-b7a6-4ae9-9274-24d1dfbb26f5"
      },
      "source": [
        "A[:,0]"
      ],
      "execution_count": 53,
      "outputs": [
        {
          "output_type": "execute_result",
          "data": {
            "text/plain": [
              "array([1, 3])"
            ]
          },
          "metadata": {
            "tags": []
          },
          "execution_count": 53
        }
      ]
    },
    {
      "cell_type": "code",
      "metadata": {
        "colab": {
          "base_uri": "https://localhost:8080/"
        },
        "id": "H0lZSFAOkbMz",
        "outputId": "c6cba466-111e-43a9-8a63-459b73b84267"
      },
      "source": [
        "A.T"
      ],
      "execution_count": 54,
      "outputs": [
        {
          "output_type": "execute_result",
          "data": {
            "text/plain": [
              "array([[1, 3],\n",
              "       [2, 4]])"
            ]
          },
          "metadata": {
            "tags": []
          },
          "execution_count": 54
        }
      ]
    },
    {
      "cell_type": "code",
      "metadata": {
        "colab": {
          "base_uri": "https://localhost:8080/"
        },
        "id": "eF_UMXVIkfpo",
        "outputId": "b032ab23-8ae9-404a-fa21-e8a4851083fc"
      },
      "source": [
        "np.exp(A)"
      ],
      "execution_count": 55,
      "outputs": [
        {
          "output_type": "execute_result",
          "data": {
            "text/plain": [
              "array([[ 2.71828183,  7.3890561 ],\n",
              "       [20.08553692, 54.59815003]])"
            ]
          },
          "metadata": {
            "tags": []
          },
          "execution_count": 55
        }
      ]
    },
    {
      "cell_type": "code",
      "metadata": {
        "colab": {
          "base_uri": "https://localhost:8080/"
        },
        "id": "duGNgU4tki-5",
        "outputId": "cc2a7b57-ac16-4cc9-e13b-e7328a8c7f6d"
      },
      "source": [
        "np.exp(L). #pass in a list and converted to array"
      ],
      "execution_count": 56,
      "outputs": [
        {
          "output_type": "execute_result",
          "data": {
            "text/plain": [
              "array([[ 2.71828183,  7.3890561 ],\n",
              "       [20.08553692, 54.59815003]])"
            ]
          },
          "metadata": {
            "tags": []
          },
          "execution_count": 56
        }
      ]
    },
    {
      "cell_type": "code",
      "metadata": {
        "colab": {
          "base_uri": "https://localhost:8080/"
        },
        "id": "5weY7mbekkg3",
        "outputId": "d781bd74-250d-4c15-cb2f-f6fcf5386cc3"
      },
      "source": [
        "B = np.array([[1,2,3],[4,5,6]])\n",
        "B"
      ],
      "execution_count": 58,
      "outputs": [
        {
          "output_type": "execute_result",
          "data": {
            "text/plain": [
              "array([[1, 2, 3],\n",
              "       [4, 5, 6]])"
            ]
          },
          "metadata": {
            "tags": []
          },
          "execution_count": 58
        }
      ]
    },
    {
      "cell_type": "code",
      "metadata": {
        "colab": {
          "base_uri": "https://localhost:8080/",
          "height": 164
        },
        "id": "TOGB0FhzkwcI",
        "outputId": "b254f994-4ab4-4ff8-ab22-2820c94a94da"
      },
      "source": [
        "A & B. #not for matrices"
      ],
      "execution_count": 59,
      "outputs": [
        {
          "output_type": "error",
          "ename": "ValueError",
          "evalue": "ignored",
          "traceback": [
            "\u001b[0;31m---------------------------------------------------------------------------\u001b[0m",
            "\u001b[0;31mValueError\u001b[0m                                Traceback (most recent call last)",
            "\u001b[0;32m<ipython-input-59-91c4483f10a3>\u001b[0m in \u001b[0;36m<module>\u001b[0;34m()\u001b[0m\n\u001b[0;32m----> 1\u001b[0;31m \u001b[0mA\u001b[0m \u001b[0;34m&\u001b[0m \u001b[0mB\u001b[0m\u001b[0;34m\u001b[0m\u001b[0;34m\u001b[0m\u001b[0m\n\u001b[0m",
            "\u001b[0;31mValueError\u001b[0m: operands could not be broadcast together with shapes (2,2) (2,3) "
          ]
        }
      ]
    },
    {
      "cell_type": "code",
      "metadata": {
        "colab": {
          "base_uri": "https://localhost:8080/"
        },
        "id": "zXI4KH5qk6C6",
        "outputId": "37893ea3-6e90-4d50-d177-a9975c142a7d"
      },
      "source": [
        "A.dot(B) #matrix multiplication"
      ],
      "execution_count": 60,
      "outputs": [
        {
          "output_type": "execute_result",
          "data": {
            "text/plain": [
              "array([[ 9, 12, 15],\n",
              "       [19, 26, 33]])"
            ]
          },
          "metadata": {
            "tags": []
          },
          "execution_count": 60
        }
      ]
    },
    {
      "cell_type": "code",
      "metadata": {
        "colab": {
          "base_uri": "https://localhost:8080/",
          "height": 164
        },
        "id": "oWZrtmHQk7c1",
        "outputId": "0790949c-1177-40fa-a34c-32af35e3648e"
      },
      "source": [
        "A * B. # element wise won't work as dims are wrong"
      ],
      "execution_count": 61,
      "outputs": [
        {
          "output_type": "error",
          "ename": "ValueError",
          "evalue": "ignored",
          "traceback": [
            "\u001b[0;31m---------------------------------------------------------------------------\u001b[0m",
            "\u001b[0;31mValueError\u001b[0m                                Traceback (most recent call last)",
            "\u001b[0;32m<ipython-input-61-a4cedde81ed0>\u001b[0m in \u001b[0;36m<module>\u001b[0;34m()\u001b[0m\n\u001b[0;32m----> 1\u001b[0;31m \u001b[0mA\u001b[0m \u001b[0;34m*\u001b[0m \u001b[0mB\u001b[0m\u001b[0;34m\u001b[0m\u001b[0;34m\u001b[0m\u001b[0m\n\u001b[0m",
            "\u001b[0;31mValueError\u001b[0m: operands could not be broadcast together with shapes (2,2) (2,3) "
          ]
        }
      ]
    },
    {
      "cell_type": "code",
      "metadata": {
        "colab": {
          "base_uri": "https://localhost:8080/"
        },
        "id": "sPByIKY9lPEB",
        "outputId": "8523e830-9ed2-415e-b4ef-3f589af77fd1"
      },
      "source": [
        "A.dot(A.T)"
      ],
      "execution_count": 62,
      "outputs": [
        {
          "output_type": "execute_result",
          "data": {
            "text/plain": [
              "array([[ 5, 11],\n",
              "       [11, 25]])"
            ]
          },
          "metadata": {
            "tags": []
          },
          "execution_count": 62
        }
      ]
    },
    {
      "cell_type": "code",
      "metadata": {
        "colab": {
          "base_uri": "https://localhost:8080/"
        },
        "id": "4TMJDAFUlU_K",
        "outputId": "a59e5b0b-d944-4f31-fd32-6571660b9d72"
      },
      "source": [
        "np.linalg.det(A)"
      ],
      "execution_count": 63,
      "outputs": [
        {
          "output_type": "execute_result",
          "data": {
            "text/plain": [
              "-2.0000000000000004"
            ]
          },
          "metadata": {
            "tags": []
          },
          "execution_count": 63
        }
      ]
    },
    {
      "cell_type": "code",
      "metadata": {
        "colab": {
          "base_uri": "https://localhost:8080/"
        },
        "id": "TBeYNe2PlZqz",
        "outputId": "c096a6b9-1825-40ba-b5d2-2aae07072368"
      },
      "source": [
        "np.linalg.inv(A)\n"
      ],
      "execution_count": 64,
      "outputs": [
        {
          "output_type": "execute_result",
          "data": {
            "text/plain": [
              "array([[-2. ,  1. ],\n",
              "       [ 1.5, -0.5]])"
            ]
          },
          "metadata": {
            "tags": []
          },
          "execution_count": 64
        }
      ]
    },
    {
      "cell_type": "code",
      "metadata": {
        "colab": {
          "base_uri": "https://localhost:8080/"
        },
        "id": "0Of2ncz2lb6j",
        "outputId": "aaf4ac7e-99f9-48cd-be4b-1384582251b8"
      },
      "source": [
        "A.dot(np.linalg.inv(A))"
      ],
      "execution_count": 65,
      "outputs": [
        {
          "output_type": "execute_result",
          "data": {
            "text/plain": [
              "array([[1.0000000e+00, 0.0000000e+00],\n",
              "       [8.8817842e-16, 1.0000000e+00]])"
            ]
          },
          "metadata": {
            "tags": []
          },
          "execution_count": 65
        }
      ]
    },
    {
      "cell_type": "code",
      "metadata": {
        "colab": {
          "base_uri": "https://localhost:8080/"
        },
        "id": "HgnzGTsQlfQ4",
        "outputId": "8f0ecd9f-3d66-4057-c25e-81eb4e29dfc9"
      },
      "source": [
        "np.trace(A)"
      ],
      "execution_count": 66,
      "outputs": [
        {
          "output_type": "execute_result",
          "data": {
            "text/plain": [
              "5"
            ]
          },
          "metadata": {
            "tags": []
          },
          "execution_count": 66
        }
      ]
    },
    {
      "cell_type": "code",
      "metadata": {
        "colab": {
          "base_uri": "https://localhost:8080/"
        },
        "id": "NEvPQs0jlme8",
        "outputId": "d3b17095-4031-467c-d9de-23ed3711954e"
      },
      "source": [
        "np.diag(A)"
      ],
      "execution_count": 67,
      "outputs": [
        {
          "output_type": "execute_result",
          "data": {
            "text/plain": [
              "array([1, 4])"
            ]
          },
          "metadata": {
            "tags": []
          },
          "execution_count": 67
        }
      ]
    },
    {
      "cell_type": "code",
      "metadata": {
        "colab": {
          "base_uri": "https://localhost:8080/"
        },
        "id": "pDyIhMQXlpVK",
        "outputId": "ac90c41f-aeed-48b6-ecc2-d00a0992bd7f"
      },
      "source": [
        "np.diag([1,4]) #creates a diagonal matrix, overloaded function"
      ],
      "execution_count": 75,
      "outputs": [
        {
          "output_type": "execute_result",
          "data": {
            "text/plain": [
              "array([[1, 0],\n",
              "       [0, 4]])"
            ]
          },
          "metadata": {
            "tags": []
          },
          "execution_count": 75
        }
      ]
    },
    {
      "cell_type": "code",
      "metadata": {
        "colab": {
          "base_uri": "https://localhost:8080/"
        },
        "id": "QvTWIiQWlsZV",
        "outputId": "6cfde2b0-a77d-4043-a40c-bd9242b2975e"
      },
      "source": [
        "np.linalg.eig(A). #eigenvalues followed by eigenvectors"
      ],
      "execution_count": 69,
      "outputs": [
        {
          "output_type": "execute_result",
          "data": {
            "text/plain": [
              "(array([-0.37228132,  5.37228132]), array([[-0.82456484, -0.41597356],\n",
              "        [ 0.56576746, -0.90937671]]))"
            ]
          },
          "metadata": {
            "tags": []
          },
          "execution_count": 69
        }
      ]
    },
    {
      "cell_type": "code",
      "metadata": {
        "id": "nd2QsFy1lxfi"
      },
      "source": [
        "Lam, V = np.linalg.eig(A)"
      ],
      "execution_count": 70,
      "outputs": []
    },
    {
      "cell_type": "code",
      "metadata": {
        "colab": {
          "base_uri": "https://localhost:8080/"
        },
        "id": "iFXsBxTNl7jP",
        "outputId": "21cedeb8-e8bd-4472-a652-e446f2e5314b"
      },
      "source": [
        "V[:,0] * Lam[0] == A @ V[:,0] #false only due to numerical rounding"
      ],
      "execution_count": 72,
      "outputs": [
        {
          "output_type": "execute_result",
          "data": {
            "text/plain": [
              "array([ True, False])"
            ]
          },
          "metadata": {
            "tags": []
          },
          "execution_count": 72
        }
      ]
    },
    {
      "cell_type": "code",
      "metadata": {
        "colab": {
          "base_uri": "https://localhost:8080/"
        },
        "id": "qPXA3Gv6mC_T",
        "outputId": "ce5c7239-d72b-4a82-9e75-c93f0d8711d9"
      },
      "source": [
        "np.allclose(V[:,0] * Lam[0], A @ V[:,0])  #USE THE np.allclose() to show equality within tolerance of round off (numerical precision)"
      ],
      "execution_count": 76,
      "outputs": [
        {
          "output_type": "execute_result",
          "data": {
            "text/plain": [
              "True"
            ]
          },
          "metadata": {
            "tags": []
          },
          "execution_count": 76
        }
      ]
    },
    {
      "cell_type": "code",
      "metadata": {
        "colab": {
          "base_uri": "https://localhost:8080/"
        },
        "id": "SYkaDp0Nmm-X",
        "outputId": "a84f037a-7e04-4632-ff86-bdeebcda085f"
      },
      "source": [
        "np.allclose(V @ np.diag(Lam), A @ V)"
      ],
      "execution_count": 81,
      "outputs": [
        {
          "output_type": "execute_result",
          "data": {
            "text/plain": [
              "True"
            ]
          },
          "metadata": {
            "tags": []
          },
          "execution_count": 81
        }
      ]
    },
    {
      "cell_type": "code",
      "metadata": {
        "colab": {
          "base_uri": "https://localhost:8080/"
        },
        "id": "HPDPO3vom8dv",
        "outputId": "6d2bf5da-80c9-4781-dc26-8f686c9613d1"
      },
      "source": [
        "np.linalg.eigh(np.array([[1,2],[2,1]])) #use on real symmetric or complex Hermitian"
      ],
      "execution_count": 85,
      "outputs": [
        {
          "output_type": "execute_result",
          "data": {
            "text/plain": [
              "(array([-1.,  3.]), array([[-0.70710678,  0.70710678],\n",
              "        [ 0.70710678,  0.70710678]]))"
            ]
          },
          "metadata": {
            "tags": []
          },
          "execution_count": 85
        }
      ]
    },
    {
      "cell_type": "code",
      "metadata": {
        "id": "tBAWjuBcnjzy"
      },
      "source": [
        "import numpy as np\n",
        "A = np.array([[1,1],[1.5,4]])"
      ],
      "execution_count": 5,
      "outputs": []
    },
    {
      "cell_type": "code",
      "metadata": {
        "id": "4uSSBVS6jGjr"
      },
      "source": [
        "b = np.array([2200,5050])"
      ],
      "execution_count": 8,
      "outputs": []
    },
    {
      "cell_type": "code",
      "metadata": {
        "colab": {
          "base_uri": "https://localhost:8080/"
        },
        "id": "8y_rwJLjjbJs",
        "outputId": "bbea9b67-0a56-42f3-ebac-9b35f6de80c1"
      },
      "source": [
        "np.linalg.solve(A,b). # use this, not inv, to solve linear systems"
      ],
      "execution_count": 9,
      "outputs": [
        {
          "output_type": "execute_result",
          "data": {
            "text/plain": [
              "array([1500.,  700.])"
            ]
          },
          "metadata": {
            "tags": []
          },
          "execution_count": 9
        }
      ]
    },
    {
      "cell_type": "code",
      "metadata": {
        "colab": {
          "base_uri": "https://localhost:8080/"
        },
        "id": "nehhRVGUjd0W",
        "outputId": "dd127dae-149f-4ee4-fca1-1a26edec13cc"
      },
      "source": [
        "np.linalg.inv(A).dot(b)"
      ],
      "execution_count": 10,
      "outputs": [
        {
          "output_type": "execute_result",
          "data": {
            "text/plain": [
              "array([1500.,  700.])"
            ]
          },
          "metadata": {
            "tags": []
          },
          "execution_count": 10
        }
      ]
    },
    {
      "cell_type": "code",
      "metadata": {
        "colab": {
          "base_uri": "https://localhost:8080/"
        },
        "id": "TkDiMB7yjt-H",
        "outputId": "d453761a-b15b-42e7-de26-ffcf2ed89688"
      },
      "source": [
        "np.zeros([2,3])"
      ],
      "execution_count": 11,
      "outputs": [
        {
          "output_type": "execute_result",
          "data": {
            "text/plain": [
              "array([[0., 0., 0.],\n",
              "       [0., 0., 0.]])"
            ]
          },
          "metadata": {
            "tags": []
          },
          "execution_count": 11
        }
      ]
    },
    {
      "cell_type": "code",
      "metadata": {
        "colab": {
          "base_uri": "https://localhost:8080/"
        },
        "id": "SoPnjfLJkJHs",
        "outputId": "f7619bbb-bb78-4cf0-e642-4aa30b10b3e6"
      },
      "source": [
        "np.ones([2,3])"
      ],
      "execution_count": 12,
      "outputs": [
        {
          "output_type": "execute_result",
          "data": {
            "text/plain": [
              "array([[1., 1., 1.],\n",
              "       [1., 1., 1.]])"
            ]
          },
          "metadata": {
            "tags": []
          },
          "execution_count": 12
        }
      ]
    },
    {
      "cell_type": "code",
      "metadata": {
        "colab": {
          "base_uri": "https://localhost:8080/"
        },
        "id": "8novB-KYkLwU",
        "outputId": "9ea7d1fe-81a8-409a-d888-b34d4b4e61e1"
      },
      "source": [
        "10*np.ones([2,3])"
      ],
      "execution_count": 13,
      "outputs": [
        {
          "output_type": "execute_result",
          "data": {
            "text/plain": [
              "array([[10., 10., 10.],\n",
              "       [10., 10., 10.]])"
            ]
          },
          "metadata": {
            "tags": []
          },
          "execution_count": 13
        }
      ]
    },
    {
      "cell_type": "code",
      "metadata": {
        "colab": {
          "base_uri": "https://localhost:8080/"
        },
        "id": "uFa1-TiGkQPG",
        "outputId": "f98ac3f6-915c-42aa-b6a2-147ea30b168c"
      },
      "source": [
        "np.eye(3)"
      ],
      "execution_count": 14,
      "outputs": [
        {
          "output_type": "execute_result",
          "data": {
            "text/plain": [
              "array([[1., 0., 0.],\n",
              "       [0., 1., 0.],\n",
              "       [0., 0., 1.]])"
            ]
          },
          "metadata": {
            "tags": []
          },
          "execution_count": 14
        }
      ]
    },
    {
      "cell_type": "code",
      "metadata": {
        "colab": {
          "base_uri": "https://localhost:8080/"
        },
        "id": "UX3u14SnkVOd",
        "outputId": "b15880e4-0861-4a9b-b655-19ae2a11ed3d"
      },
      "source": [
        "np.random.random()"
      ],
      "execution_count": 15,
      "outputs": [
        {
          "output_type": "execute_result",
          "data": {
            "text/plain": [
              "0.5895998414378812"
            ]
          },
          "metadata": {
            "tags": []
          },
          "execution_count": 15
        }
      ]
    },
    {
      "cell_type": "code",
      "metadata": {
        "colab": {
          "base_uri": "https://localhost:8080/"
        },
        "id": "SvUCICLAkio-",
        "outputId": "04b70444-6bd5-4934-9fbe-6ae7ec095d3d"
      },
      "source": [
        "np.random.random([2,3]) #uniform [0.1]"
      ],
      "execution_count": 16,
      "outputs": [
        {
          "output_type": "execute_result",
          "data": {
            "text/plain": [
              "array([[0.8390736 , 0.18670403, 0.02163782],\n",
              "       [0.36084257, 0.68834323, 0.71402946]])"
            ]
          },
          "metadata": {
            "tags": []
          },
          "execution_count": 16
        }
      ]
    },
    {
      "cell_type": "code",
      "metadata": {
        "colab": {
          "base_uri": "https://localhost:8080/"
        },
        "id": "id9usASeknIf",
        "outputId": "bf6feefe-81a7-4360-de9b-d08d7b8555af"
      },
      "source": [
        "np.random.randn(2,3)   #not a tuple as shape but dims separately"
      ],
      "execution_count": 19,
      "outputs": [
        {
          "output_type": "execute_result",
          "data": {
            "text/plain": [
              "array([[-0.59295511, -0.42165964,  0.48330711],\n",
              "       [ 0.05568073, -0.53611651, -0.22119603]])"
            ]
          },
          "metadata": {
            "tags": []
          },
          "execution_count": 19
        }
      ]
    },
    {
      "cell_type": "code",
      "metadata": {
        "id": "buB18eSSky0r"
      },
      "source": [
        "R = np.random.randn(10000)"
      ],
      "execution_count": 21,
      "outputs": []
    },
    {
      "cell_type": "code",
      "metadata": {
        "colab": {
          "base_uri": "https://localhost:8080/"
        },
        "id": "THKLdXFrlOTe",
        "outputId": "aeb3113c-a378-4c24-c26e-03449fb82332"
      },
      "source": [
        "R.mean()"
      ],
      "execution_count": 22,
      "outputs": [
        {
          "output_type": "execute_result",
          "data": {
            "text/plain": [
              "0.0012363647466054498"
            ]
          },
          "metadata": {
            "tags": []
          },
          "execution_count": 22
        }
      ]
    },
    {
      "cell_type": "code",
      "metadata": {
        "colab": {
          "base_uri": "https://localhost:8080/"
        },
        "id": "7Vgv3dv_lWlm",
        "outputId": "2fbc3055-575c-40cf-8e2b-89f02a986d6a"
      },
      "source": [
        "np.mean(R)"
      ],
      "execution_count": 23,
      "outputs": [
        {
          "output_type": "execute_result",
          "data": {
            "text/plain": [
              "0.0012363647466054498"
            ]
          },
          "metadata": {
            "tags": []
          },
          "execution_count": 23
        }
      ]
    },
    {
      "cell_type": "code",
      "metadata": {
        "colab": {
          "base_uri": "https://localhost:8080/"
        },
        "id": "tHcEmUlXlcEA",
        "outputId": "477904ee-722d-4f0a-c7c0-63ade68a51c1"
      },
      "source": [
        "R.var()"
      ],
      "execution_count": 24,
      "outputs": [
        {
          "output_type": "execute_result",
          "data": {
            "text/plain": [
              "0.986898039139008"
            ]
          },
          "metadata": {
            "tags": []
          },
          "execution_count": 24
        }
      ]
    },
    {
      "cell_type": "code",
      "metadata": {
        "colab": {
          "base_uri": "https://localhost:8080/"
        },
        "id": "9mgJr3NCldGu",
        "outputId": "e942f0dc-7573-4cc4-fd82-687ca2e9700d"
      },
      "source": [
        "R.std()"
      ],
      "execution_count": 25,
      "outputs": [
        {
          "output_type": "execute_result",
          "data": {
            "text/plain": [
              "0.9934274201666713"
            ]
          },
          "metadata": {
            "tags": []
          },
          "execution_count": 25
        }
      ]
    },
    {
      "cell_type": "code",
      "metadata": {
        "colab": {
          "base_uri": "https://localhost:8080/"
        },
        "id": "UUsMSUcelfnY",
        "outputId": "3390026a-7950-4f32-9d58-e252d45883b1"
      },
      "source": [
        "np.sqrt(R.var())"
      ],
      "execution_count": 26,
      "outputs": [
        {
          "output_type": "execute_result",
          "data": {
            "text/plain": [
              "0.9934274201666713"
            ]
          },
          "metadata": {
            "tags": []
          },
          "execution_count": 26
        }
      ]
    },
    {
      "cell_type": "code",
      "metadata": {
        "colab": {
          "base_uri": "https://localhost:8080/"
        },
        "id": "ECmMAiN3liqf",
        "outputId": "faf952e2-53c1-4ede-a47e-a3ebaa3a50c5"
      },
      "source": [
        "R = np.random.randn(10000,3)\n",
        "R"
      ],
      "execution_count": 30,
      "outputs": [
        {
          "output_type": "execute_result",
          "data": {
            "text/plain": [
              "array([[-0.43855667,  1.24667769,  0.43436546],\n",
              "       [-0.16502832,  0.03007189,  0.30369541],\n",
              "       [-0.17925272, -0.1218918 ,  0.37170532],\n",
              "       ...,\n",
              "       [ 0.17194284, -0.47436069, -0.92469024],\n",
              "       [ 0.81471341,  0.43130153, -0.9211342 ],\n",
              "       [-0.82272615, -0.73318291, -0.26393134]])"
            ]
          },
          "metadata": {
            "tags": []
          },
          "execution_count": 30
        }
      ]
    },
    {
      "cell_type": "code",
      "metadata": {
        "colab": {
          "base_uri": "https://localhost:8080/"
        },
        "id": "Y6vfapnIlnn6",
        "outputId": "1a8ac48d-8521-46dd-e5ad-abc669f6265f"
      },
      "source": [
        "R.mean(axis=0)   #mean of each col"
      ],
      "execution_count": 28,
      "outputs": [
        {
          "output_type": "execute_result",
          "data": {
            "text/plain": [
              "array([ 0.01443273, -0.01411507,  0.00397542])"
            ]
          },
          "metadata": {
            "tags": []
          },
          "execution_count": 28
        }
      ]
    },
    {
      "cell_type": "code",
      "metadata": {
        "colab": {
          "base_uri": "https://localhost:8080/"
        },
        "id": "2oja33Splp5w",
        "outputId": "bd8ec7f4-32fd-42c2-c6e1-910f4691805b"
      },
      "source": [
        "R.mean(axis=1) #mean of each row"
      ],
      "execution_count": 29,
      "outputs": [
        {
          "output_type": "execute_result",
          "data": {
            "text/plain": [
              "array([-0.35663288, -0.43124011,  0.82614724, ...,  0.25305025,\n",
              "        0.32292007, -0.32846902])"
            ]
          },
          "metadata": {
            "tags": []
          },
          "execution_count": 29
        }
      ]
    },
    {
      "cell_type": "code",
      "metadata": {
        "colab": {
          "base_uri": "https://localhost:8080/"
        },
        "id": "UI9hb9CqmlsN",
        "outputId": "a66b7e65-870b-401a-8dab-6054032d05d3"
      },
      "source": [
        "R.var(axis=0)"
      ],
      "execution_count": 34,
      "outputs": [
        {
          "output_type": "execute_result",
          "data": {
            "text/plain": [
              "array([0.99414444, 1.01092006, 0.99538686])"
            ]
          },
          "metadata": {
            "tags": []
          },
          "execution_count": 34
        }
      ]
    },
    {
      "cell_type": "code",
      "metadata": {
        "colab": {
          "base_uri": "https://localhost:8080/"
        },
        "id": "dVwrP6OgmvT0",
        "outputId": "f0c73bcf-e308-4b83-ef60-18fe3f5d2dc2"
      },
      "source": [
        "R.var(axis=1). #each col is N(0,1) so rows are NOT"
      ],
      "execution_count": 35,
      "outputs": [
        {
          "output_type": "execute_result",
          "data": {
            "text/plain": [
              "array([0.4735399 , 0.03695954, 0.06116479, ..., 0.20256767, 0.55436156,\n",
              "       0.06005185])"
            ]
          },
          "metadata": {
            "tags": []
          },
          "execution_count": 35
        }
      ]
    },
    {
      "cell_type": "code",
      "metadata": {
        "colab": {
          "base_uri": "https://localhost:8080/"
        },
        "id": "6pXaLEdvl01s",
        "outputId": "4f8748dd-ca9b-4b01-cdbf-6cd6a7368fac"
      },
      "source": [
        "np.cov(R) #cov matrix with rows as features - opposite of other libs and what one wants, so use transpose in this particular function"
      ],
      "execution_count": 31,
      "outputs": [
        {
          "output_type": "execute_result",
          "data": {
            "text/plain": [
              "array([[ 0.71030985,  0.08594686,  0.02944251, ..., -0.28010667,\n",
              "        -0.1771331 ,  0.04291782],\n",
              "       [ 0.08594686,  0.05543931,  0.06741633, ..., -0.12722211,\n",
              "        -0.20974915,  0.06796476],\n",
              "       [ 0.02944251,  0.06741633,  0.09174719, ..., -0.14392546,\n",
              "        -0.27432174,  0.09077167],\n",
              "       ...,\n",
              "       [-0.28010667, -0.12722211, -0.14392546, ...,  0.30385151,\n",
              "         0.46007169, -0.14699714],\n",
              "       [-0.1771331 , -0.20974915, -0.27432174, ...,  0.46007169,\n",
              "         0.83154233, -0.27315786],\n",
              "       [ 0.04291782,  0.06796476,  0.09077167, ..., -0.14699714,\n",
              "        -0.27315786,  0.09007778]])"
            ]
          },
          "metadata": {
            "tags": []
          },
          "execution_count": 31
        }
      ]
    },
    {
      "cell_type": "code",
      "metadata": {
        "colab": {
          "base_uri": "https://localhost:8080/"
        },
        "id": "z_cqrRy6mVZ6",
        "outputId": "25555794-c509-4f87-90e4-06065342cafa"
      },
      "source": [
        "np.cov(R).shape"
      ],
      "execution_count": 33,
      "outputs": [
        {
          "output_type": "execute_result",
          "data": {
            "text/plain": [
              "(10000, 10000)"
            ]
          },
          "metadata": {
            "tags": []
          },
          "execution_count": 33
        }
      ]
    },
    {
      "cell_type": "code",
      "metadata": {
        "colab": {
          "base_uri": "https://localhost:8080/"
        },
        "id": "LGwe_fc4mX_g",
        "outputId": "df8138b0-1c69-4e65-85e6-8f91b841216a"
      },
      "source": [
        "np.cov(R.T) # the proper COV matrix for 3 col, 10k observations"
      ],
      "execution_count": 36,
      "outputs": [
        {
          "output_type": "execute_result",
          "data": {
            "text/plain": [
              "array([[ 0.99424387, -0.00314512, -0.0100045 ],\n",
              "       [-0.00314512,  1.01102116,  0.00950371],\n",
              "       [-0.0100045 ,  0.00950371,  0.99548641]])"
            ]
          },
          "metadata": {
            "tags": []
          },
          "execution_count": 36
        }
      ]
    },
    {
      "cell_type": "code",
      "metadata": {
        "colab": {
          "base_uri": "https://localhost:8080/"
        },
        "id": "lhd3zmi6oKbF",
        "outputId": "bf0bf6cd-a8de-4380-cafc-094ebb902270"
      },
      "source": [
        "np.cov(R, rowvar=False)"
      ],
      "execution_count": 37,
      "outputs": [
        {
          "output_type": "execute_result",
          "data": {
            "text/plain": [
              "array([[ 0.99424387, -0.00314512, -0.0100045 ],\n",
              "       [-0.00314512,  1.01102116,  0.00950371],\n",
              "       [-0.0100045 ,  0.00950371,  0.99548641]])"
            ]
          },
          "metadata": {
            "tags": []
          },
          "execution_count": 37
        }
      ]
    },
    {
      "cell_type": "code",
      "metadata": {
        "colab": {
          "base_uri": "https://localhost:8080/"
        },
        "id": "BETseoJUoc9y",
        "outputId": "5383d067-e7b5-4e1e-d9b9-634831f43be2"
      },
      "source": [
        "np.random.randint(0, 10, [3,3]). # low, high (exclusive), and shape"
      ],
      "execution_count": 38,
      "outputs": [
        {
          "output_type": "execute_result",
          "data": {
            "text/plain": [
              "array([[0, 9, 2],\n",
              "       [1, 3, 8],\n",
              "       [7, 5, 4]])"
            ]
          },
          "metadata": {
            "tags": []
          },
          "execution_count": 38
        }
      ]
    },
    {
      "cell_type": "code",
      "metadata": {
        "colab": {
          "base_uri": "https://localhost:8080/"
        },
        "id": "G7jmFPoDos5y",
        "outputId": "c906ab65-d0cf-4a46-d5bf-6b5d9928072f"
      },
      "source": [
        "np.random.choice([1,2,3,4,5], size=[3,3], replace=True, p=[.1, .1, .1, .6, .1]) # choose from first arg, to size, with/without replacement, with given probs (if absent, uniform)"
      ],
      "execution_count": 40,
      "outputs": [
        {
          "output_type": "execute_result",
          "data": {
            "text/plain": [
              "array([[4, 1, 4],\n",
              "       [1, 4, 1],\n",
              "       [2, 4, 4]])"
            ]
          },
          "metadata": {
            "tags": []
          },
          "execution_count": 40
        }
      ]
    },
    {
      "cell_type": "code",
      "metadata": {
        "colab": {
          "base_uri": "https://localhost:8080/"
        },
        "id": "_Zwwm9_fpNov",
        "outputId": "900c69d4-0610-4921-d027-4a142dd59161"
      },
      "source": [
        "np.random.choice(100, size=[10,10], replace=False) # choose from 0 to 99 in uniform distribution without replacement"
      ],
      "execution_count": 43,
      "outputs": [
        {
          "output_type": "execute_result",
          "data": {
            "text/plain": [
              "array([[24, 22, 86, 64, 34, 43, 93, 38, 30, 76],\n",
              "       [70, 68, 46, 29, 60, 74, 44, 31, 91, 57],\n",
              "       [26, 72, 16, 39, 59, 15,  2,  4, 33, 45],\n",
              "       [32, 40, 49, 47, 75, 17, 81, 98, 36,  8],\n",
              "       [53, 50, 10, 99, 51, 63, 12, 84, 66, 96],\n",
              "       [67, 14, 89, 97, 21, 48, 37,  5,  9, 42],\n",
              "       [25,  1, 54, 90, 20, 85, 79, 94, 87, 58],\n",
              "       [83, 56,  0, 11,  3, 13, 55, 41, 80, 35],\n",
              "       [69, 62, 19, 18, 27, 92, 65, 71, 82, 88],\n",
              "       [61,  6, 73,  7, 28, 78, 77, 23, 95, 52]])"
            ]
          },
          "metadata": {
            "tags": []
          },
          "execution_count": 43
        }
      ]
    },
    {
      "cell_type": "code",
      "metadata": {
        "id": "-CIsXJiNpfOz"
      },
      "source": [
        ""
      ],
      "execution_count": null,
      "outputs": []
    }
  ]
}