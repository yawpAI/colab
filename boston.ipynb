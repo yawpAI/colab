{
  "nbformat": 4,
  "nbformat_minor": 0,
  "metadata": {
    "colab": {
      "name": "boston.ipynb",
      "provenance": [],
      "collapsed_sections": [],
      "authorship_tag": "ABX9TyPYbut6TN6VHGlBQvd3d/Vc",
      "include_colab_link": true
    },
    "kernelspec": {
      "name": "python3",
      "display_name": "Python 3"
    },
    "language_info": {
      "name": "python"
    }
  },
  "cells": [
    {
      "cell_type": "markdown",
      "metadata": {
        "id": "view-in-github",
        "colab_type": "text"
      },
      "source": [
        "<a href=\"https://colab.research.google.com/github/yawpAI/colab/blob/main/boston.ipynb\" target=\"_parent\"><img src=\"https://colab.research.google.com/assets/colab-badge.svg\" alt=\"Open In Colab\"/></a>"
      ]
    },
    {
      "cell_type": "code",
      "metadata": {
        "id": "TMtZBBXpfFyF"
      },
      "source": [
        "from sklearn.datasets import load_boston \n",
        "from sklearn.model_selection import train_test_split\n",
        "from sklearn.preprocessing import StandardScaler\n",
        "import tensorflow as tf\n",
        " \n"
      ],
      "execution_count": 166,
      "outputs": []
    },
    {
      "cell_type": "code",
      "metadata": {
        "colab": {
          "base_uri": "https://localhost:8080/"
        },
        "id": "1eNFEDIsfilB",
        "outputId": "1d296892-e043-4124-a1cf-6bea666e1171"
      },
      "source": [
        "bunch = load_boston()\n",
        "print(bunch.data.shape)\n",
        "print(bunch.target.shape)"
      ],
      "execution_count": 167,
      "outputs": [
        {
          "output_type": "stream",
          "text": [
            "(506, 13)\n",
            "(506,)\n"
          ],
          "name": "stdout"
        }
      ]
    },
    {
      "cell_type": "code",
      "metadata": {
        "colab": {
          "base_uri": "https://localhost:8080/"
        },
        "id": "EK7IShfgpEbQ",
        "outputId": "9748dcd5-f163-4972-f840-561987c1f70b"
      },
      "source": [
        "bunch.data"
      ],
      "execution_count": 168,
      "outputs": [
        {
          "output_type": "execute_result",
          "data": {
            "text/plain": [
              "array([[6.3200e-03, 1.8000e+01, 2.3100e+00, ..., 1.5300e+01, 3.9690e+02,\n",
              "        4.9800e+00],\n",
              "       [2.7310e-02, 0.0000e+00, 7.0700e+00, ..., 1.7800e+01, 3.9690e+02,\n",
              "        9.1400e+00],\n",
              "       [2.7290e-02, 0.0000e+00, 7.0700e+00, ..., 1.7800e+01, 3.9283e+02,\n",
              "        4.0300e+00],\n",
              "       ...,\n",
              "       [6.0760e-02, 0.0000e+00, 1.1930e+01, ..., 2.1000e+01, 3.9690e+02,\n",
              "        5.6400e+00],\n",
              "       [1.0959e-01, 0.0000e+00, 1.1930e+01, ..., 2.1000e+01, 3.9345e+02,\n",
              "        6.4800e+00],\n",
              "       [4.7410e-02, 0.0000e+00, 1.1930e+01, ..., 2.1000e+01, 3.9690e+02,\n",
              "        7.8800e+00]])"
            ]
          },
          "metadata": {
            "tags": []
          },
          "execution_count": 168
        }
      ]
    },
    {
      "cell_type": "code",
      "metadata": {
        "colab": {
          "base_uri": "https://localhost:8080/"
        },
        "id": "22wDBZuzpGse",
        "outputId": "5c816498-b73e-4114-b634-44cb69ad5046"
      },
      "source": [
        "bunch.target"
      ],
      "execution_count": 169,
      "outputs": [
        {
          "output_type": "execute_result",
          "data": {
            "text/plain": [
              "array([24. , 21.6, 34.7, 33.4, 36.2, 28.7, 22.9, 27.1, 16.5, 18.9, 15. ,\n",
              "       18.9, 21.7, 20.4, 18.2, 19.9, 23.1, 17.5, 20.2, 18.2, 13.6, 19.6,\n",
              "       15.2, 14.5, 15.6, 13.9, 16.6, 14.8, 18.4, 21. , 12.7, 14.5, 13.2,\n",
              "       13.1, 13.5, 18.9, 20. , 21. , 24.7, 30.8, 34.9, 26.6, 25.3, 24.7,\n",
              "       21.2, 19.3, 20. , 16.6, 14.4, 19.4, 19.7, 20.5, 25. , 23.4, 18.9,\n",
              "       35.4, 24.7, 31.6, 23.3, 19.6, 18.7, 16. , 22.2, 25. , 33. , 23.5,\n",
              "       19.4, 22. , 17.4, 20.9, 24.2, 21.7, 22.8, 23.4, 24.1, 21.4, 20. ,\n",
              "       20.8, 21.2, 20.3, 28. , 23.9, 24.8, 22.9, 23.9, 26.6, 22.5, 22.2,\n",
              "       23.6, 28.7, 22.6, 22. , 22.9, 25. , 20.6, 28.4, 21.4, 38.7, 43.8,\n",
              "       33.2, 27.5, 26.5, 18.6, 19.3, 20.1, 19.5, 19.5, 20.4, 19.8, 19.4,\n",
              "       21.7, 22.8, 18.8, 18.7, 18.5, 18.3, 21.2, 19.2, 20.4, 19.3, 22. ,\n",
              "       20.3, 20.5, 17.3, 18.8, 21.4, 15.7, 16.2, 18. , 14.3, 19.2, 19.6,\n",
              "       23. , 18.4, 15.6, 18.1, 17.4, 17.1, 13.3, 17.8, 14. , 14.4, 13.4,\n",
              "       15.6, 11.8, 13.8, 15.6, 14.6, 17.8, 15.4, 21.5, 19.6, 15.3, 19.4,\n",
              "       17. , 15.6, 13.1, 41.3, 24.3, 23.3, 27. , 50. , 50. , 50. , 22.7,\n",
              "       25. , 50. , 23.8, 23.8, 22.3, 17.4, 19.1, 23.1, 23.6, 22.6, 29.4,\n",
              "       23.2, 24.6, 29.9, 37.2, 39.8, 36.2, 37.9, 32.5, 26.4, 29.6, 50. ,\n",
              "       32. , 29.8, 34.9, 37. , 30.5, 36.4, 31.1, 29.1, 50. , 33.3, 30.3,\n",
              "       34.6, 34.9, 32.9, 24.1, 42.3, 48.5, 50. , 22.6, 24.4, 22.5, 24.4,\n",
              "       20. , 21.7, 19.3, 22.4, 28.1, 23.7, 25. , 23.3, 28.7, 21.5, 23. ,\n",
              "       26.7, 21.7, 27.5, 30.1, 44.8, 50. , 37.6, 31.6, 46.7, 31.5, 24.3,\n",
              "       31.7, 41.7, 48.3, 29. , 24. , 25.1, 31.5, 23.7, 23.3, 22. , 20.1,\n",
              "       22.2, 23.7, 17.6, 18.5, 24.3, 20.5, 24.5, 26.2, 24.4, 24.8, 29.6,\n",
              "       42.8, 21.9, 20.9, 44. , 50. , 36. , 30.1, 33.8, 43.1, 48.8, 31. ,\n",
              "       36.5, 22.8, 30.7, 50. , 43.5, 20.7, 21.1, 25.2, 24.4, 35.2, 32.4,\n",
              "       32. , 33.2, 33.1, 29.1, 35.1, 45.4, 35.4, 46. , 50. , 32.2, 22. ,\n",
              "       20.1, 23.2, 22.3, 24.8, 28.5, 37.3, 27.9, 23.9, 21.7, 28.6, 27.1,\n",
              "       20.3, 22.5, 29. , 24.8, 22. , 26.4, 33.1, 36.1, 28.4, 33.4, 28.2,\n",
              "       22.8, 20.3, 16.1, 22.1, 19.4, 21.6, 23.8, 16.2, 17.8, 19.8, 23.1,\n",
              "       21. , 23.8, 23.1, 20.4, 18.5, 25. , 24.6, 23. , 22.2, 19.3, 22.6,\n",
              "       19.8, 17.1, 19.4, 22.2, 20.7, 21.1, 19.5, 18.5, 20.6, 19. , 18.7,\n",
              "       32.7, 16.5, 23.9, 31.2, 17.5, 17.2, 23.1, 24.5, 26.6, 22.9, 24.1,\n",
              "       18.6, 30.1, 18.2, 20.6, 17.8, 21.7, 22.7, 22.6, 25. , 19.9, 20.8,\n",
              "       16.8, 21.9, 27.5, 21.9, 23.1, 50. , 50. , 50. , 50. , 50. , 13.8,\n",
              "       13.8, 15. , 13.9, 13.3, 13.1, 10.2, 10.4, 10.9, 11.3, 12.3,  8.8,\n",
              "        7.2, 10.5,  7.4, 10.2, 11.5, 15.1, 23.2,  9.7, 13.8, 12.7, 13.1,\n",
              "       12.5,  8.5,  5. ,  6.3,  5.6,  7.2, 12.1,  8.3,  8.5,  5. , 11.9,\n",
              "       27.9, 17.2, 27.5, 15. , 17.2, 17.9, 16.3,  7. ,  7.2,  7.5, 10.4,\n",
              "        8.8,  8.4, 16.7, 14.2, 20.8, 13.4, 11.7,  8.3, 10.2, 10.9, 11. ,\n",
              "        9.5, 14.5, 14.1, 16.1, 14.3, 11.7, 13.4,  9.6,  8.7,  8.4, 12.8,\n",
              "       10.5, 17.1, 18.4, 15.4, 10.8, 11.8, 14.9, 12.6, 14.1, 13. , 13.4,\n",
              "       15.2, 16.1, 17.8, 14.9, 14.1, 12.7, 13.5, 14.9, 20. , 16.4, 17.7,\n",
              "       19.5, 20.2, 21.4, 19.9, 19. , 19.1, 19.1, 20.1, 19.9, 19.6, 23.2,\n",
              "       29.8, 13.8, 13.3, 16.7, 12. , 14.6, 21.4, 23. , 23.7, 25. , 21.8,\n",
              "       20.6, 21.2, 19.1, 20.6, 15.2,  7. ,  8.1, 13.6, 20.1, 21.8, 24.5,\n",
              "       23.1, 19.7, 18.3, 21.2, 17.5, 16.8, 22.4, 20.6, 23.9, 22. , 11.9])"
            ]
          },
          "metadata": {
            "tags": []
          },
          "execution_count": 169
        }
      ]
    },
    {
      "cell_type": "code",
      "metadata": {
        "colab": {
          "base_uri": "https://localhost:8080/"
        },
        "id": "LIt4dO6ifrd6",
        "outputId": "f0383bbe-5943-48d5-ba6c-ded4c69bc540"
      },
      "source": [
        "print(bunch.feature_names)\n",
        "print(bunch.DESCR)"
      ],
      "execution_count": 170,
      "outputs": [
        {
          "output_type": "stream",
          "text": [
            "['CRIM' 'ZN' 'INDUS' 'CHAS' 'NOX' 'RM' 'AGE' 'DIS' 'RAD' 'TAX' 'PTRATIO'\n",
            " 'B' 'LSTAT']\n",
            ".. _boston_dataset:\n",
            "\n",
            "Boston house prices dataset\n",
            "---------------------------\n",
            "\n",
            "**Data Set Characteristics:**  \n",
            "\n",
            "    :Number of Instances: 506 \n",
            "\n",
            "    :Number of Attributes: 13 numeric/categorical predictive. Median Value (attribute 14) is usually the target.\n",
            "\n",
            "    :Attribute Information (in order):\n",
            "        - CRIM     per capita crime rate by town\n",
            "        - ZN       proportion of residential land zoned for lots over 25,000 sq.ft.\n",
            "        - INDUS    proportion of non-retail business acres per town\n",
            "        - CHAS     Charles River dummy variable (= 1 if tract bounds river; 0 otherwise)\n",
            "        - NOX      nitric oxides concentration (parts per 10 million)\n",
            "        - RM       average number of rooms per dwelling\n",
            "        - AGE      proportion of owner-occupied units built prior to 1940\n",
            "        - DIS      weighted distances to five Boston employment centres\n",
            "        - RAD      index of accessibility to radial highways\n",
            "        - TAX      full-value property-tax rate per $10,000\n",
            "        - PTRATIO  pupil-teacher ratio by town\n",
            "        - B        1000(Bk - 0.63)^2 where Bk is the proportion of blacks by town\n",
            "        - LSTAT    % lower status of the population\n",
            "        - MEDV     Median value of owner-occupied homes in $1000's\n",
            "\n",
            "    :Missing Attribute Values: None\n",
            "\n",
            "    :Creator: Harrison, D. and Rubinfeld, D.L.\n",
            "\n",
            "This is a copy of UCI ML housing dataset.\n",
            "https://archive.ics.uci.edu/ml/machine-learning-databases/housing/\n",
            "\n",
            "\n",
            "This dataset was taken from the StatLib library which is maintained at Carnegie Mellon University.\n",
            "\n",
            "The Boston house-price data of Harrison, D. and Rubinfeld, D.L. 'Hedonic\n",
            "prices and the demand for clean air', J. Environ. Economics & Management,\n",
            "vol.5, 81-102, 1978.   Used in Belsley, Kuh & Welsch, 'Regression diagnostics\n",
            "...', Wiley, 1980.   N.B. Various transformations are used in the table on\n",
            "pages 244-261 of the latter.\n",
            "\n",
            "The Boston house-price data has been used in many machine learning papers that address regression\n",
            "problems.   \n",
            "     \n",
            ".. topic:: References\n",
            "\n",
            "   - Belsley, Kuh & Welsch, 'Regression diagnostics: Identifying Influential Data and Sources of Collinearity', Wiley, 1980. 244-261.\n",
            "   - Quinlan,R. (1993). Combining Instance-Based and Model-Based Learning. In Proceedings on the Tenth International Conference of Machine Learning, 236-243, University of Massachusetts, Amherst. Morgan Kaufmann.\n",
            "\n"
          ],
          "name": "stdout"
        }
      ]
    },
    {
      "cell_type": "code",
      "metadata": {
        "id": "sLSqgLAWfxmk"
      },
      "source": [
        "X_train, X_test, y_train, y_test = train_test_split(bunch.data, bunch.target, test_size=0.20)"
      ],
      "execution_count": 171,
      "outputs": []
    },
    {
      "cell_type": "code",
      "metadata": {
        "id": "-Q6-cpIogUzq"
      },
      "source": [
        "scaler = StandardScaler()\n",
        "X_train_scaled = scaler.fit_transform(X_train)\n",
        "X_test_scaled = scaler.transform(X_test)"
      ],
      "execution_count": 172,
      "outputs": []
    },
    {
      "cell_type": "code",
      "metadata": {
        "colab": {
          "base_uri": "https://localhost:8080/"
        },
        "id": "ZXtCAnCQgl3R",
        "outputId": "c55e2eb1-3b93-4e50-aee8-67bd84e7fbdf"
      },
      "source": [
        "val_size = int(len(X_train) * 0.2)\n",
        "print(val_size)"
      ],
      "execution_count": 173,
      "outputs": [
        {
          "output_type": "stream",
          "text": [
            "80\n"
          ],
          "name": "stdout"
        }
      ]
    },
    {
      "cell_type": "code",
      "metadata": {
        "id": "XyG99ZhAgqre"
      },
      "source": [
        "X_val_scaled = X_train_scaled[-val_size:]\n",
        "y_val = y_train[-val_size:]\n",
        "X_train_scaled = X_train_scaled[:-val_size]\n",
        "y_train = y_train[:-val_size]"
      ],
      "execution_count": 174,
      "outputs": []
    },
    {
      "cell_type": "code",
      "metadata": {
        "id": "WamMsWSfg-ld"
      },
      "source": [
        "modelTF = tf.keras.models.Sequential()\n",
        "modelTF.add(tf.keras.layers.Dense(1, input_shape=(X_train_scaled.shape[1],)))"
      ],
      "execution_count": 175,
      "outputs": []
    },
    {
      "cell_type": "code",
      "metadata": {
        "id": "I8aZtPhfhSKA"
      },
      "source": [
        "modelTF.compile(optimizer=tf.keras.optimizers.SGD(learning_rate=0.01, momentum=0.9), loss='mse')"
      ],
      "execution_count": 176,
      "outputs": []
    },
    {
      "cell_type": "code",
      "metadata": {
        "id": "AsibE10ilAop"
      },
      "source": [
        "def scheduler(epoch, lr):\n",
        "  if epoch < 10:\n",
        "    return lr\n",
        "  else:\n",
        "    return lr * tf.math.exp(-0.1)"
      ],
      "execution_count": 177,
      "outputs": []
    },
    {
      "cell_type": "code",
      "metadata": {
        "colab": {
          "base_uri": "https://localhost:8080/"
        },
        "id": "xo1UEdm6iYO-",
        "outputId": "0a07f9fb-a511-4de0-d43e-686a573872ef"
      },
      "source": [
        "modelTF.fit(X_train_scaled, y_train, validation_data=(X_val_scaled, y_val), epochs = 100, callbacks=[tf.keras.callbacks.LearningRateScheduler(scheduler)])"
      ],
      "execution_count": 178,
      "outputs": [
        {
          "output_type": "stream",
          "text": [
            "Epoch 1/100\n",
            "11/11 [==============================] - 0s 16ms/step - loss: 446.9304 - val_loss: 74.1747\n",
            "Epoch 2/100\n",
            "11/11 [==============================] - 0s 5ms/step - loss: 49.6580 - val_loss: 91.7186\n",
            "Epoch 3/100\n",
            "11/11 [==============================] - 0s 5ms/step - loss: 78.9404 - val_loss: 56.2473\n",
            "Epoch 4/100\n",
            "11/11 [==============================] - 0s 5ms/step - loss: 35.4567 - val_loss: 46.6000\n",
            "Epoch 5/100\n",
            "11/11 [==============================] - 0s 5ms/step - loss: 25.2512 - val_loss: 35.7031\n",
            "Epoch 6/100\n",
            "11/11 [==============================] - 0s 5ms/step - loss: 23.5356 - val_loss: 34.6137\n",
            "Epoch 7/100\n",
            "11/11 [==============================] - 0s 5ms/step - loss: 22.9435 - val_loss: 36.1983\n",
            "Epoch 8/100\n",
            "11/11 [==============================] - 0s 6ms/step - loss: 21.8844 - val_loss: 36.8539\n",
            "Epoch 9/100\n",
            "11/11 [==============================] - 0s 5ms/step - loss: 21.5521 - val_loss: 34.9636\n",
            "Epoch 10/100\n",
            "11/11 [==============================] - 0s 6ms/step - loss: 21.4147 - val_loss: 36.8886\n",
            "Epoch 11/100\n",
            "11/11 [==============================] - 0s 5ms/step - loss: 19.9733 - val_loss: 42.2181\n",
            "Epoch 12/100\n",
            "11/11 [==============================] - 0s 5ms/step - loss: 21.7266 - val_loss: 37.2678\n",
            "Epoch 13/100\n",
            "11/11 [==============================] - 0s 5ms/step - loss: 24.8254 - val_loss: 36.5998\n",
            "Epoch 14/100\n",
            "11/11 [==============================] - 0s 5ms/step - loss: 21.6078 - val_loss: 35.9746\n",
            "Epoch 15/100\n",
            "11/11 [==============================] - 0s 6ms/step - loss: 20.9643 - val_loss: 36.2894\n",
            "Epoch 16/100\n",
            "11/11 [==============================] - 0s 6ms/step - loss: 20.3312 - val_loss: 36.3487\n",
            "Epoch 17/100\n",
            "11/11 [==============================] - 0s 5ms/step - loss: 22.4444 - val_loss: 35.6979\n",
            "Epoch 18/100\n",
            "11/11 [==============================] - 0s 6ms/step - loss: 20.8857 - val_loss: 36.4994\n",
            "Epoch 19/100\n",
            "11/11 [==============================] - 0s 6ms/step - loss: 18.6018 - val_loss: 36.5755\n",
            "Epoch 20/100\n",
            "11/11 [==============================] - 0s 6ms/step - loss: 19.1028 - val_loss: 36.5167\n",
            "Epoch 21/100\n",
            "11/11 [==============================] - 0s 6ms/step - loss: 20.3025 - val_loss: 36.3723\n",
            "Epoch 22/100\n",
            "11/11 [==============================] - 0s 6ms/step - loss: 20.4806 - val_loss: 35.5885\n",
            "Epoch 23/100\n",
            "11/11 [==============================] - 0s 6ms/step - loss: 16.7941 - val_loss: 35.7333\n",
            "Epoch 24/100\n",
            "11/11 [==============================] - 0s 6ms/step - loss: 21.2404 - val_loss: 34.2038\n",
            "Epoch 25/100\n",
            "11/11 [==============================] - 0s 5ms/step - loss: 21.9535 - val_loss: 33.0539\n",
            "Epoch 26/100\n",
            "11/11 [==============================] - 0s 6ms/step - loss: 15.7316 - val_loss: 33.0786\n",
            "Epoch 27/100\n",
            "11/11 [==============================] - 0s 6ms/step - loss: 20.9851 - val_loss: 32.7160\n",
            "Epoch 28/100\n",
            "11/11 [==============================] - 0s 5ms/step - loss: 17.0728 - val_loss: 32.7548\n",
            "Epoch 29/100\n",
            "11/11 [==============================] - 0s 5ms/step - loss: 18.4266 - val_loss: 32.8595\n",
            "Epoch 30/100\n",
            "11/11 [==============================] - 0s 6ms/step - loss: 18.9410 - val_loss: 32.9277\n",
            "Epoch 31/100\n",
            "11/11 [==============================] - 0s 6ms/step - loss: 23.0907 - val_loss: 33.0789\n",
            "Epoch 32/100\n",
            "11/11 [==============================] - 0s 6ms/step - loss: 20.4949 - val_loss: 33.2090\n",
            "Epoch 33/100\n",
            "11/11 [==============================] - 0s 6ms/step - loss: 17.7855 - val_loss: 33.3444\n",
            "Epoch 34/100\n",
            "11/11 [==============================] - 0s 5ms/step - loss: 16.0189 - val_loss: 33.3622\n",
            "Epoch 35/100\n",
            "11/11 [==============================] - 0s 6ms/step - loss: 24.3698 - val_loss: 33.4525\n",
            "Epoch 36/100\n",
            "11/11 [==============================] - 0s 6ms/step - loss: 17.7699 - val_loss: 33.5156\n",
            "Epoch 37/100\n",
            "11/11 [==============================] - 0s 5ms/step - loss: 17.6728 - val_loss: 33.6252\n",
            "Epoch 38/100\n",
            "11/11 [==============================] - 0s 5ms/step - loss: 20.2657 - val_loss: 33.6359\n",
            "Epoch 39/100\n",
            "11/11 [==============================] - 0s 5ms/step - loss: 21.6611 - val_loss: 33.5580\n",
            "Epoch 40/100\n",
            "11/11 [==============================] - 0s 5ms/step - loss: 20.0645 - val_loss: 33.5132\n",
            "Epoch 41/100\n",
            "11/11 [==============================] - 0s 7ms/step - loss: 19.0804 - val_loss: 33.4966\n",
            "Epoch 42/100\n",
            "11/11 [==============================] - 0s 6ms/step - loss: 19.8908 - val_loss: 33.5515\n",
            "Epoch 43/100\n",
            "11/11 [==============================] - 0s 6ms/step - loss: 17.5561 - val_loss: 33.5839\n",
            "Epoch 44/100\n",
            "11/11 [==============================] - 0s 5ms/step - loss: 20.0231 - val_loss: 33.5368\n",
            "Epoch 45/100\n",
            "11/11 [==============================] - 0s 6ms/step - loss: 17.0449 - val_loss: 33.5122\n",
            "Epoch 46/100\n",
            "11/11 [==============================] - 0s 6ms/step - loss: 17.7484 - val_loss: 33.4820\n",
            "Epoch 47/100\n",
            "11/11 [==============================] - 0s 6ms/step - loss: 17.7780 - val_loss: 33.3640\n",
            "Epoch 48/100\n",
            "11/11 [==============================] - 0s 6ms/step - loss: 20.9340 - val_loss: 33.2867\n",
            "Epoch 49/100\n",
            "11/11 [==============================] - 0s 5ms/step - loss: 17.1311 - val_loss: 33.2996\n",
            "Epoch 50/100\n",
            "11/11 [==============================] - 0s 6ms/step - loss: 17.8581 - val_loss: 33.2956\n",
            "Epoch 51/100\n",
            "11/11 [==============================] - 0s 6ms/step - loss: 19.9775 - val_loss: 33.3273\n",
            "Epoch 52/100\n",
            "11/11 [==============================] - 0s 7ms/step - loss: 20.4754 - val_loss: 33.3581\n",
            "Epoch 53/100\n",
            "11/11 [==============================] - 0s 6ms/step - loss: 17.0746 - val_loss: 33.3869\n",
            "Epoch 54/100\n",
            "11/11 [==============================] - 0s 6ms/step - loss: 20.5684 - val_loss: 33.3849\n",
            "Epoch 55/100\n",
            "11/11 [==============================] - 0s 5ms/step - loss: 17.4568 - val_loss: 33.4014\n",
            "Epoch 56/100\n",
            "11/11 [==============================] - 0s 5ms/step - loss: 18.3228 - val_loss: 33.4050\n",
            "Epoch 57/100\n",
            "11/11 [==============================] - 0s 6ms/step - loss: 23.5340 - val_loss: 33.4173\n",
            "Epoch 58/100\n",
            "11/11 [==============================] - 0s 5ms/step - loss: 17.9494 - val_loss: 33.4256\n",
            "Epoch 59/100\n",
            "11/11 [==============================] - 0s 5ms/step - loss: 21.8271 - val_loss: 33.4032\n",
            "Epoch 60/100\n",
            "11/11 [==============================] - 0s 6ms/step - loss: 22.0485 - val_loss: 33.4125\n",
            "Epoch 61/100\n",
            "11/11 [==============================] - 0s 5ms/step - loss: 21.8264 - val_loss: 33.4153\n",
            "Epoch 62/100\n",
            "11/11 [==============================] - 0s 6ms/step - loss: 17.0853 - val_loss: 33.4274\n",
            "Epoch 63/100\n",
            "11/11 [==============================] - 0s 6ms/step - loss: 20.1124 - val_loss: 33.4380\n",
            "Epoch 64/100\n",
            "11/11 [==============================] - 0s 6ms/step - loss: 18.7031 - val_loss: 33.4344\n",
            "Epoch 65/100\n",
            "11/11 [==============================] - 0s 6ms/step - loss: 17.2829 - val_loss: 33.4407\n",
            "Epoch 66/100\n",
            "11/11 [==============================] - 0s 5ms/step - loss: 24.9664 - val_loss: 33.4369\n",
            "Epoch 67/100\n",
            "11/11 [==============================] - 0s 6ms/step - loss: 22.9516 - val_loss: 33.4341\n",
            "Epoch 68/100\n",
            "11/11 [==============================] - 0s 6ms/step - loss: 19.8812 - val_loss: 33.4374\n",
            "Epoch 69/100\n",
            "11/11 [==============================] - 0s 6ms/step - loss: 20.9688 - val_loss: 33.4388\n",
            "Epoch 70/100\n",
            "11/11 [==============================] - 0s 5ms/step - loss: 21.7615 - val_loss: 33.4387\n",
            "Epoch 71/100\n",
            "11/11 [==============================] - 0s 6ms/step - loss: 23.1429 - val_loss: 33.4361\n",
            "Epoch 72/100\n",
            "11/11 [==============================] - 0s 5ms/step - loss: 19.3153 - val_loss: 33.4376\n",
            "Epoch 73/100\n",
            "11/11 [==============================] - 0s 6ms/step - loss: 17.9454 - val_loss: 33.4416\n",
            "Epoch 74/100\n",
            "11/11 [==============================] - 0s 5ms/step - loss: 20.0374 - val_loss: 33.4419\n",
            "Epoch 75/100\n",
            "11/11 [==============================] - 0s 5ms/step - loss: 21.8924 - val_loss: 33.4399\n",
            "Epoch 76/100\n",
            "11/11 [==============================] - 0s 6ms/step - loss: 22.4179 - val_loss: 33.4392\n",
            "Epoch 77/100\n",
            "11/11 [==============================] - 0s 5ms/step - loss: 20.5258 - val_loss: 33.4384\n",
            "Epoch 78/100\n",
            "11/11 [==============================] - 0s 5ms/step - loss: 24.1700 - val_loss: 33.4381\n",
            "Epoch 79/100\n",
            "11/11 [==============================] - 0s 6ms/step - loss: 17.7705 - val_loss: 33.4427\n",
            "Epoch 80/100\n",
            "11/11 [==============================] - 0s 6ms/step - loss: 20.6687 - val_loss: 33.4431\n",
            "Epoch 81/100\n",
            "11/11 [==============================] - 0s 6ms/step - loss: 19.0701 - val_loss: 33.4436\n",
            "Epoch 82/100\n",
            "11/11 [==============================] - 0s 6ms/step - loss: 19.1314 - val_loss: 33.4436\n",
            "Epoch 83/100\n",
            "11/11 [==============================] - 0s 5ms/step - loss: 17.8639 - val_loss: 33.4437\n",
            "Epoch 84/100\n",
            "11/11 [==============================] - 0s 5ms/step - loss: 23.1023 - val_loss: 33.4443\n",
            "Epoch 85/100\n",
            "11/11 [==============================] - 0s 5ms/step - loss: 20.4030 - val_loss: 33.4449\n",
            "Epoch 86/100\n",
            "11/11 [==============================] - 0s 6ms/step - loss: 18.4647 - val_loss: 33.4450\n",
            "Epoch 87/100\n",
            "11/11 [==============================] - 0s 6ms/step - loss: 15.0161 - val_loss: 33.4457\n",
            "Epoch 88/100\n",
            "11/11 [==============================] - 0s 5ms/step - loss: 18.6964 - val_loss: 33.4461\n",
            "Epoch 89/100\n",
            "11/11 [==============================] - 0s 6ms/step - loss: 17.7857 - val_loss: 33.4439\n",
            "Epoch 90/100\n",
            "11/11 [==============================] - 0s 5ms/step - loss: 19.2351 - val_loss: 33.4433\n",
            "Epoch 91/100\n",
            "11/11 [==============================] - 0s 5ms/step - loss: 18.1520 - val_loss: 33.4431\n",
            "Epoch 92/100\n",
            "11/11 [==============================] - 0s 5ms/step - loss: 24.4269 - val_loss: 33.4425\n",
            "Epoch 93/100\n",
            "11/11 [==============================] - 0s 6ms/step - loss: 22.8431 - val_loss: 33.4427\n",
            "Epoch 94/100\n",
            "11/11 [==============================] - 0s 6ms/step - loss: 19.9579 - val_loss: 33.4427\n",
            "Epoch 95/100\n",
            "11/11 [==============================] - 0s 5ms/step - loss: 23.8006 - val_loss: 33.4425\n",
            "Epoch 96/100\n",
            "11/11 [==============================] - 0s 6ms/step - loss: 17.8168 - val_loss: 33.4424\n",
            "Epoch 97/100\n",
            "11/11 [==============================] - 0s 6ms/step - loss: 22.0663 - val_loss: 33.4414\n",
            "Epoch 98/100\n",
            "11/11 [==============================] - 0s 6ms/step - loss: 17.0961 - val_loss: 33.4415\n",
            "Epoch 99/100\n",
            "11/11 [==============================] - 0s 6ms/step - loss: 18.9382 - val_loss: 33.4415\n",
            "Epoch 100/100\n",
            "11/11 [==============================] - 0s 5ms/step - loss: 21.1397 - val_loss: 33.4415\n"
          ],
          "name": "stdout"
        },
        {
          "output_type": "execute_result",
          "data": {
            "text/plain": [
              "<tensorflow.python.keras.callbacks.History at 0x7fe1542e0150>"
            ]
          },
          "metadata": {
            "tags": []
          },
          "execution_count": 178
        }
      ]
    },
    {
      "cell_type": "code",
      "metadata": {
        "colab": {
          "base_uri": "https://localhost:8080/"
        },
        "id": "Ot9HC7osi1WS",
        "outputId": "683edb99-47fc-448a-fa5e-238b02616128"
      },
      "source": [
        "modelTF.evaluate(X_train_scaled, y_train)"
      ],
      "execution_count": 179,
      "outputs": [
        {
          "output_type": "stream",
          "text": [
            "11/11 [==============================] - 0s 1ms/step - loss: 19.3087\n"
          ],
          "name": "stdout"
        },
        {
          "output_type": "execute_result",
          "data": {
            "text/plain": [
              "19.30872344970703"
            ]
          },
          "metadata": {
            "tags": []
          },
          "execution_count": 179
        }
      ]
    },
    {
      "cell_type": "code",
      "metadata": {
        "id": "ZcQIdGBulug6"
      },
      "source": [
        "import numpy as np\n",
        "def R_squared(y, y_pred):\n",
        "  SSE = np.linalg.norm(y - y_pred)\n",
        "  print('SSE = ' + str(SSE))\n",
        "  SST = np.linalg.norm(y-y.mean())\n",
        "  print('SST = ' + str(SST))\n",
        "  return 1.0 - (SSE/SST)**2"
      ],
      "execution_count": 180,
      "outputs": []
    },
    {
      "cell_type": "code",
      "metadata": {
        "colab": {
          "base_uri": "https://localhost:8080/"
        },
        "id": "3gXgJ3m2tdof",
        "outputId": "c10a053e-63ca-4d68-b6c9-b9ec749ee2c5"
      },
      "source": [
        "y_test.mean()"
      ],
      "execution_count": 181,
      "outputs": [
        {
          "output_type": "execute_result",
          "data": {
            "text/plain": [
              "21.75882352941176"
            ]
          },
          "metadata": {
            "tags": []
          },
          "execution_count": 181
        }
      ]
    },
    {
      "cell_type": "code",
      "metadata": {
        "colab": {
          "base_uri": "https://localhost:8080/"
        },
        "id": "hF36R4httgAU",
        "outputId": "c6bde6b8-223a-498d-fb88-24a13ebc575f"
      },
      "source": [
        "np.mean(y_test)"
      ],
      "execution_count": 182,
      "outputs": [
        {
          "output_type": "execute_result",
          "data": {
            "text/plain": [
              "21.75882352941176"
            ]
          },
          "metadata": {
            "tags": []
          },
          "execution_count": 182
        }
      ]
    },
    {
      "cell_type": "code",
      "metadata": {
        "colab": {
          "base_uri": "https://localhost:8080/"
        },
        "id": "-Vi5pdWGm41_",
        "outputId": "7a0b8c09-10b6-4b9d-9a27-76f2c5846e71"
      },
      "source": [
        "R_squared(y_test, modelTF.predict(X_test_scaled)[:,0])  ### This 1 layer NN is OK, but is improved with a 2nd Dense layer below."
      ],
      "execution_count": 183,
      "outputs": [
        {
          "output_type": "stream",
          "text": [
            "SSE = 49.87340338841857\n",
            "SST = 95.89946328746335\n"
          ],
          "name": "stdout"
        },
        {
          "output_type": "execute_result",
          "data": {
            "text/plain": [
              "0.7295383717634569"
            ]
          },
          "metadata": {
            "tags": []
          },
          "execution_count": 183
        }
      ]
    },
    {
      "cell_type": "code",
      "metadata": {
        "colab": {
          "base_uri": "https://localhost:8080/"
        },
        "id": "2fu8QYMUnoT_",
        "outputId": "f18a93b2-d6b4-4fb3-cf0e-5f1e370e4064"
      },
      "source": [
        "from sklearn.neural_network import MLPRegressor\n",
        "\n",
        "model = MLPRegressor()\n",
        "model.fit(X_train_scaled, y_train)"
      ],
      "execution_count": 184,
      "outputs": [
        {
          "output_type": "stream",
          "text": [
            "/usr/local/lib/python3.7/dist-packages/sklearn/neural_network/_multilayer_perceptron.py:571: ConvergenceWarning: Stochastic Optimizer: Maximum iterations (200) reached and the optimization hasn't converged yet.\n",
            "  % self.max_iter, ConvergenceWarning)\n"
          ],
          "name": "stderr"
        },
        {
          "output_type": "execute_result",
          "data": {
            "text/plain": [
              "MLPRegressor(activation='relu', alpha=0.0001, batch_size='auto', beta_1=0.9,\n",
              "             beta_2=0.999, early_stopping=False, epsilon=1e-08,\n",
              "             hidden_layer_sizes=(100,), learning_rate='constant',\n",
              "             learning_rate_init=0.001, max_fun=15000, max_iter=200,\n",
              "             momentum=0.9, n_iter_no_change=10, nesterovs_momentum=True,\n",
              "             power_t=0.5, random_state=None, shuffle=True, solver='adam',\n",
              "             tol=0.0001, validation_fraction=0.1, verbose=False,\n",
              "             warm_start=False)"
            ]
          },
          "metadata": {
            "tags": []
          },
          "execution_count": 184
        }
      ]
    },
    {
      "cell_type": "code",
      "metadata": {
        "colab": {
          "base_uri": "https://localhost:8080/"
        },
        "id": "O4PfdQhHrXzw",
        "outputId": "0a2b57c5-422e-40ee-9186-a85bec1fd884"
      },
      "source": [
        "model.score(X_test_scaled, y_test)"
      ],
      "execution_count": 185,
      "outputs": [
        {
          "output_type": "execute_result",
          "data": {
            "text/plain": [
              "0.6836153064640043"
            ]
          },
          "metadata": {
            "tags": []
          },
          "execution_count": 185
        }
      ]
    },
    {
      "cell_type": "code",
      "metadata": {
        "id": "no9adlDcr7Ct"
      },
      "source": [
        "modelTF2 = tf.keras.models.Sequential()\n",
        "modelTF2.add(tf.keras.layers.Dense(100, activation='relu', input_shape=(X_train_scaled.shape[1],)))\n",
        "modelTF2.add(tf.keras.layers.Dense(1))"
      ],
      "execution_count": 186,
      "outputs": []
    },
    {
      "cell_type": "code",
      "metadata": {
        "id": "EyADAHENu7Ls"
      },
      "source": [
        "#modelTF2.compile(optimizer=tf.keras.optimizers.SGD(learning_rate=0.001, momentum=0.9), loss='mse')\n",
        "modelTF2.compile(optimizer='adam', loss='mse')"
      ],
      "execution_count": 187,
      "outputs": []
    },
    {
      "cell_type": "code",
      "metadata": {
        "colab": {
          "base_uri": "https://localhost:8080/"
        },
        "id": "ExJmhrI-vG8n",
        "outputId": "ce92ef7a-7881-4fca-d52e-adce693ceb54"
      },
      "source": [
        "modelTF2.fit(X_train_scaled, y_train, validation_data=(X_val_scaled, y_val), epochs=200)"
      ],
      "execution_count": 188,
      "outputs": [
        {
          "output_type": "stream",
          "text": [
            "Epoch 1/200\n",
            "11/11 [==============================] - 0s 17ms/step - loss: 579.7878 - val_loss: 649.4435\n",
            "Epoch 2/200\n",
            "11/11 [==============================] - 0s 5ms/step - loss: 532.1147 - val_loss: 622.0563\n",
            "Epoch 3/200\n",
            "11/11 [==============================] - 0s 5ms/step - loss: 492.4397 - val_loss: 594.6123\n",
            "Epoch 4/200\n",
            "11/11 [==============================] - 0s 6ms/step - loss: 500.4800 - val_loss: 565.7939\n",
            "Epoch 5/200\n",
            "11/11 [==============================] - 0s 6ms/step - loss: 460.3949 - val_loss: 535.2379\n",
            "Epoch 6/200\n",
            "11/11 [==============================] - 0s 5ms/step - loss: 419.8882 - val_loss: 503.3878\n",
            "Epoch 7/200\n",
            "11/11 [==============================] - 0s 5ms/step - loss: 442.2041 - val_loss: 470.4715\n",
            "Epoch 8/200\n",
            "11/11 [==============================] - 0s 6ms/step - loss: 417.2697 - val_loss: 434.6356\n",
            "Epoch 9/200\n",
            "11/11 [==============================] - 0s 6ms/step - loss: 368.8199 - val_loss: 397.4814\n",
            "Epoch 10/200\n",
            "11/11 [==============================] - 0s 7ms/step - loss: 326.1286 - val_loss: 359.7544\n",
            "Epoch 11/200\n",
            "11/11 [==============================] - 0s 6ms/step - loss: 278.8076 - val_loss: 323.4139\n",
            "Epoch 12/200\n",
            "11/11 [==============================] - 0s 7ms/step - loss: 274.8312 - val_loss: 287.0640\n",
            "Epoch 13/200\n",
            "11/11 [==============================] - 0s 6ms/step - loss: 230.4603 - val_loss: 253.1785\n",
            "Epoch 14/200\n",
            "11/11 [==============================] - 0s 6ms/step - loss: 213.5239 - val_loss: 219.8621\n",
            "Epoch 15/200\n",
            "11/11 [==============================] - 0s 5ms/step - loss: 175.5604 - val_loss: 190.5289\n",
            "Epoch 16/200\n",
            "11/11 [==============================] - 0s 6ms/step - loss: 153.0132 - val_loss: 163.9242\n",
            "Epoch 17/200\n",
            "11/11 [==============================] - 0s 6ms/step - loss: 150.5732 - val_loss: 142.1599\n",
            "Epoch 18/200\n",
            "11/11 [==============================] - 0s 6ms/step - loss: 135.3417 - val_loss: 124.3983\n",
            "Epoch 19/200\n",
            "11/11 [==============================] - 0s 6ms/step - loss: 100.5045 - val_loss: 109.0280\n",
            "Epoch 20/200\n",
            "11/11 [==============================] - 0s 5ms/step - loss: 82.4277 - val_loss: 96.9331\n",
            "Epoch 21/200\n",
            "11/11 [==============================] - 0s 6ms/step - loss: 74.5436 - val_loss: 86.5362\n",
            "Epoch 22/200\n",
            "11/11 [==============================] - 0s 5ms/step - loss: 67.8777 - val_loss: 78.3059\n",
            "Epoch 23/200\n",
            "11/11 [==============================] - 0s 5ms/step - loss: 57.8529 - val_loss: 71.1512\n",
            "Epoch 24/200\n",
            "11/11 [==============================] - 0s 6ms/step - loss: 54.2024 - val_loss: 65.2422\n",
            "Epoch 25/200\n",
            "11/11 [==============================] - 0s 6ms/step - loss: 48.2830 - val_loss: 60.2750\n",
            "Epoch 26/200\n",
            "11/11 [==============================] - 0s 5ms/step - loss: 43.6664 - val_loss: 55.9752\n",
            "Epoch 27/200\n",
            "11/11 [==============================] - 0s 6ms/step - loss: 40.0706 - val_loss: 52.0755\n",
            "Epoch 28/200\n",
            "11/11 [==============================] - 0s 6ms/step - loss: 42.7741 - val_loss: 49.2867\n",
            "Epoch 29/200\n",
            "11/11 [==============================] - 0s 6ms/step - loss: 38.5461 - val_loss: 46.8923\n",
            "Epoch 30/200\n",
            "11/11 [==============================] - 0s 6ms/step - loss: 34.0891 - val_loss: 45.5483\n",
            "Epoch 31/200\n",
            "11/11 [==============================] - 0s 6ms/step - loss: 31.9652 - val_loss: 44.1110\n",
            "Epoch 32/200\n",
            "11/11 [==============================] - 0s 8ms/step - loss: 26.8944 - val_loss: 42.7945\n",
            "Epoch 33/200\n",
            "11/11 [==============================] - 0s 6ms/step - loss: 30.5189 - val_loss: 41.6612\n",
            "Epoch 34/200\n",
            "11/11 [==============================] - 0s 5ms/step - loss: 27.3115 - val_loss: 40.6354\n",
            "Epoch 35/200\n",
            "11/11 [==============================] - 0s 5ms/step - loss: 28.0309 - val_loss: 39.9331\n",
            "Epoch 36/200\n",
            "11/11 [==============================] - 0s 5ms/step - loss: 24.2975 - val_loss: 39.3085\n",
            "Epoch 37/200\n",
            "11/11 [==============================] - 0s 6ms/step - loss: 31.3482 - val_loss: 38.5501\n",
            "Epoch 38/200\n",
            "11/11 [==============================] - 0s 6ms/step - loss: 22.7161 - val_loss: 38.0026\n",
            "Epoch 39/200\n",
            "11/11 [==============================] - 0s 6ms/step - loss: 26.7870 - val_loss: 37.5601\n",
            "Epoch 40/200\n",
            "11/11 [==============================] - 0s 5ms/step - loss: 24.6297 - val_loss: 37.1350\n",
            "Epoch 41/200\n",
            "11/11 [==============================] - 0s 6ms/step - loss: 27.4259 - val_loss: 36.5446\n",
            "Epoch 42/200\n",
            "11/11 [==============================] - 0s 6ms/step - loss: 21.9166 - val_loss: 36.0373\n",
            "Epoch 43/200\n",
            "11/11 [==============================] - 0s 5ms/step - loss: 25.5885 - val_loss: 35.7620\n",
            "Epoch 44/200\n",
            "11/11 [==============================] - 0s 5ms/step - loss: 22.8614 - val_loss: 35.5805\n",
            "Epoch 45/200\n",
            "11/11 [==============================] - 0s 6ms/step - loss: 25.2461 - val_loss: 34.9456\n",
            "Epoch 46/200\n",
            "11/11 [==============================] - 0s 5ms/step - loss: 24.0688 - val_loss: 34.3703\n",
            "Epoch 47/200\n",
            "11/11 [==============================] - 0s 6ms/step - loss: 19.6947 - val_loss: 33.9314\n",
            "Epoch 48/200\n",
            "11/11 [==============================] - 0s 6ms/step - loss: 22.7809 - val_loss: 33.7843\n",
            "Epoch 49/200\n",
            "11/11 [==============================] - 0s 6ms/step - loss: 20.6948 - val_loss: 33.7568\n",
            "Epoch 50/200\n",
            "11/11 [==============================] - 0s 5ms/step - loss: 20.0484 - val_loss: 33.3996\n",
            "Epoch 51/200\n",
            "11/11 [==============================] - 0s 6ms/step - loss: 27.7499 - val_loss: 33.1337\n",
            "Epoch 52/200\n",
            "11/11 [==============================] - 0s 6ms/step - loss: 19.1278 - val_loss: 33.0956\n",
            "Epoch 53/200\n",
            "11/11 [==============================] - 0s 6ms/step - loss: 22.9586 - val_loss: 32.7534\n",
            "Epoch 54/200\n",
            "11/11 [==============================] - 0s 5ms/step - loss: 16.4766 - val_loss: 32.5997\n",
            "Epoch 55/200\n",
            "11/11 [==============================] - 0s 5ms/step - loss: 18.4165 - val_loss: 31.9775\n",
            "Epoch 56/200\n",
            "11/11 [==============================] - 0s 5ms/step - loss: 17.9441 - val_loss: 31.9334\n",
            "Epoch 57/200\n",
            "11/11 [==============================] - 0s 5ms/step - loss: 26.7631 - val_loss: 31.6227\n",
            "Epoch 58/200\n",
            "11/11 [==============================] - 0s 6ms/step - loss: 17.2636 - val_loss: 31.7466\n",
            "Epoch 59/200\n",
            "11/11 [==============================] - 0s 5ms/step - loss: 19.1427 - val_loss: 31.5518\n",
            "Epoch 60/200\n",
            "11/11 [==============================] - 0s 5ms/step - loss: 18.4666 - val_loss: 31.3804\n",
            "Epoch 61/200\n",
            "11/11 [==============================] - 0s 6ms/step - loss: 21.5589 - val_loss: 30.9062\n",
            "Epoch 62/200\n",
            "11/11 [==============================] - 0s 6ms/step - loss: 23.3264 - val_loss: 30.4238\n",
            "Epoch 63/200\n",
            "11/11 [==============================] - 0s 6ms/step - loss: 16.8087 - val_loss: 30.1870\n",
            "Epoch 64/200\n",
            "11/11 [==============================] - 0s 5ms/step - loss: 19.6387 - val_loss: 29.7806\n",
            "Epoch 65/200\n",
            "11/11 [==============================] - 0s 6ms/step - loss: 17.8069 - val_loss: 29.9812\n",
            "Epoch 66/200\n",
            "11/11 [==============================] - 0s 6ms/step - loss: 18.1580 - val_loss: 29.6110\n",
            "Epoch 67/200\n",
            "11/11 [==============================] - 0s 6ms/step - loss: 18.1490 - val_loss: 28.8319\n",
            "Epoch 68/200\n",
            "11/11 [==============================] - 0s 6ms/step - loss: 13.9822 - val_loss: 28.5878\n",
            "Epoch 69/200\n",
            "11/11 [==============================] - 0s 6ms/step - loss: 17.4122 - val_loss: 28.4572\n",
            "Epoch 70/200\n",
            "11/11 [==============================] - 0s 6ms/step - loss: 15.1747 - val_loss: 28.4199\n",
            "Epoch 71/200\n",
            "11/11 [==============================] - 0s 6ms/step - loss: 17.0160 - val_loss: 28.0776\n",
            "Epoch 72/200\n",
            "11/11 [==============================] - 0s 6ms/step - loss: 16.2907 - val_loss: 27.9037\n",
            "Epoch 73/200\n",
            "11/11 [==============================] - 0s 6ms/step - loss: 17.6012 - val_loss: 27.5167\n",
            "Epoch 74/200\n",
            "11/11 [==============================] - 0s 6ms/step - loss: 19.0361 - val_loss: 27.2028\n",
            "Epoch 75/200\n",
            "11/11 [==============================] - 0s 6ms/step - loss: 16.5269 - val_loss: 27.0542\n",
            "Epoch 76/200\n",
            "11/11 [==============================] - 0s 6ms/step - loss: 13.8444 - val_loss: 27.0126\n",
            "Epoch 77/200\n",
            "11/11 [==============================] - 0s 6ms/step - loss: 15.2531 - val_loss: 27.0308\n",
            "Epoch 78/200\n",
            "11/11 [==============================] - 0s 6ms/step - loss: 16.9459 - val_loss: 27.0360\n",
            "Epoch 79/200\n",
            "11/11 [==============================] - 0s 6ms/step - loss: 15.5740 - val_loss: 26.6855\n",
            "Epoch 80/200\n",
            "11/11 [==============================] - 0s 5ms/step - loss: 14.9840 - val_loss: 26.4852\n",
            "Epoch 81/200\n",
            "11/11 [==============================] - 0s 6ms/step - loss: 18.2804 - val_loss: 26.2639\n",
            "Epoch 82/200\n",
            "11/11 [==============================] - 0s 6ms/step - loss: 13.9759 - val_loss: 26.1722\n",
            "Epoch 83/200\n",
            "11/11 [==============================] - 0s 6ms/step - loss: 15.6605 - val_loss: 25.7108\n",
            "Epoch 84/200\n",
            "11/11 [==============================] - 0s 7ms/step - loss: 13.9384 - val_loss: 25.4183\n",
            "Epoch 85/200\n",
            "11/11 [==============================] - 0s 6ms/step - loss: 13.9204 - val_loss: 25.2206\n",
            "Epoch 86/200\n",
            "11/11 [==============================] - 0s 6ms/step - loss: 14.2523 - val_loss: 25.1070\n",
            "Epoch 87/200\n",
            "11/11 [==============================] - 0s 6ms/step - loss: 15.6403 - val_loss: 24.9350\n",
            "Epoch 88/200\n",
            "11/11 [==============================] - 0s 6ms/step - loss: 11.3382 - val_loss: 24.8912\n",
            "Epoch 89/200\n",
            "11/11 [==============================] - 0s 6ms/step - loss: 12.7769 - val_loss: 24.6494\n",
            "Epoch 90/200\n",
            "11/11 [==============================] - 0s 6ms/step - loss: 12.6593 - val_loss: 24.3246\n",
            "Epoch 91/200\n",
            "11/11 [==============================] - 0s 6ms/step - loss: 11.7952 - val_loss: 24.0593\n",
            "Epoch 92/200\n",
            "11/11 [==============================] - 0s 6ms/step - loss: 13.3899 - val_loss: 23.8239\n",
            "Epoch 93/200\n",
            "11/11 [==============================] - 0s 6ms/step - loss: 11.8677 - val_loss: 24.2073\n",
            "Epoch 94/200\n",
            "11/11 [==============================] - 0s 5ms/step - loss: 12.1319 - val_loss: 24.0394\n",
            "Epoch 95/200\n",
            "11/11 [==============================] - 0s 6ms/step - loss: 10.2859 - val_loss: 23.7460\n",
            "Epoch 96/200\n",
            "11/11 [==============================] - 0s 6ms/step - loss: 16.6899 - val_loss: 23.3948\n",
            "Epoch 97/200\n",
            "11/11 [==============================] - 0s 6ms/step - loss: 10.4515 - val_loss: 23.2372\n",
            "Epoch 98/200\n",
            "11/11 [==============================] - 0s 6ms/step - loss: 12.3147 - val_loss: 22.9370\n",
            "Epoch 99/200\n",
            "11/11 [==============================] - 0s 6ms/step - loss: 10.5004 - val_loss: 23.0295\n",
            "Epoch 100/200\n",
            "11/11 [==============================] - 0s 6ms/step - loss: 10.7457 - val_loss: 22.9720\n",
            "Epoch 101/200\n",
            "11/11 [==============================] - 0s 5ms/step - loss: 12.0950 - val_loss: 22.5273\n",
            "Epoch 102/200\n",
            "11/11 [==============================] - 0s 6ms/step - loss: 14.8040 - val_loss: 22.1082\n",
            "Epoch 103/200\n",
            "11/11 [==============================] - 0s 6ms/step - loss: 11.8958 - val_loss: 21.8784\n",
            "Epoch 104/200\n",
            "11/11 [==============================] - 0s 6ms/step - loss: 10.3866 - val_loss: 21.8994\n",
            "Epoch 105/200\n",
            "11/11 [==============================] - 0s 6ms/step - loss: 11.8556 - val_loss: 21.2857\n",
            "Epoch 106/200\n",
            "11/11 [==============================] - 0s 6ms/step - loss: 10.6718 - val_loss: 21.3618\n",
            "Epoch 107/200\n",
            "11/11 [==============================] - 0s 6ms/step - loss: 11.2739 - val_loss: 21.5003\n",
            "Epoch 108/200\n",
            "11/11 [==============================] - 0s 6ms/step - loss: 15.4066 - val_loss: 21.4678\n",
            "Epoch 109/200\n",
            "11/11 [==============================] - 0s 6ms/step - loss: 11.6919 - val_loss: 21.1934\n",
            "Epoch 110/200\n",
            "11/11 [==============================] - 0s 6ms/step - loss: 11.2738 - val_loss: 20.3404\n",
            "Epoch 111/200\n",
            "11/11 [==============================] - 0s 6ms/step - loss: 11.5614 - val_loss: 20.2268\n",
            "Epoch 112/200\n",
            "11/11 [==============================] - 0s 6ms/step - loss: 10.6154 - val_loss: 20.5227\n",
            "Epoch 113/200\n",
            "11/11 [==============================] - 0s 6ms/step - loss: 13.8860 - val_loss: 20.4554\n",
            "Epoch 114/200\n",
            "11/11 [==============================] - 0s 6ms/step - loss: 9.3918 - val_loss: 20.3382\n",
            "Epoch 115/200\n",
            "11/11 [==============================] - 0s 6ms/step - loss: 9.8178 - val_loss: 20.1364\n",
            "Epoch 116/200\n",
            "11/11 [==============================] - 0s 5ms/step - loss: 10.7000 - val_loss: 19.7990\n",
            "Epoch 117/200\n",
            "11/11 [==============================] - 0s 6ms/step - loss: 10.4217 - val_loss: 19.7654\n",
            "Epoch 118/200\n",
            "11/11 [==============================] - 0s 5ms/step - loss: 12.8792 - val_loss: 19.8179\n",
            "Epoch 119/200\n",
            "11/11 [==============================] - 0s 6ms/step - loss: 8.2007 - val_loss: 19.8898\n",
            "Epoch 120/200\n",
            "11/11 [==============================] - 0s 6ms/step - loss: 11.1894 - val_loss: 19.6823\n",
            "Epoch 121/200\n",
            "11/11 [==============================] - 0s 6ms/step - loss: 9.8657 - val_loss: 19.7294\n",
            "Epoch 122/200\n",
            "11/11 [==============================] - 0s 6ms/step - loss: 9.3957 - val_loss: 19.9885\n",
            "Epoch 123/200\n",
            "11/11 [==============================] - 0s 8ms/step - loss: 12.0878 - val_loss: 19.5835\n",
            "Epoch 124/200\n",
            "11/11 [==============================] - 0s 6ms/step - loss: 10.4420 - val_loss: 19.2814\n",
            "Epoch 125/200\n",
            "11/11 [==============================] - 0s 6ms/step - loss: 8.5586 - val_loss: 19.0850\n",
            "Epoch 126/200\n",
            "11/11 [==============================] - 0s 6ms/step - loss: 12.7743 - val_loss: 19.1246\n",
            "Epoch 127/200\n",
            "11/11 [==============================] - 0s 7ms/step - loss: 10.1370 - val_loss: 19.2811\n",
            "Epoch 128/200\n",
            "11/11 [==============================] - 0s 6ms/step - loss: 8.5611 - val_loss: 19.5206\n",
            "Epoch 129/200\n",
            "11/11 [==============================] - 0s 6ms/step - loss: 9.4444 - val_loss: 19.2403\n",
            "Epoch 130/200\n",
            "11/11 [==============================] - 0s 6ms/step - loss: 9.9187 - val_loss: 18.8648\n",
            "Epoch 131/200\n",
            "11/11 [==============================] - 0s 6ms/step - loss: 13.7935 - val_loss: 18.7853\n",
            "Epoch 132/200\n",
            "11/11 [==============================] - 0s 6ms/step - loss: 8.5961 - val_loss: 19.0143\n",
            "Epoch 133/200\n",
            "11/11 [==============================] - 0s 6ms/step - loss: 9.9126 - val_loss: 18.9148\n",
            "Epoch 134/200\n",
            "11/11 [==============================] - 0s 6ms/step - loss: 10.7989 - val_loss: 18.8984\n",
            "Epoch 135/200\n",
            "11/11 [==============================] - 0s 6ms/step - loss: 7.8834 - val_loss: 18.9045\n",
            "Epoch 136/200\n",
            "11/11 [==============================] - 0s 6ms/step - loss: 9.9775 - val_loss: 18.7234\n",
            "Epoch 137/200\n",
            "11/11 [==============================] - 0s 5ms/step - loss: 11.0695 - val_loss: 18.3091\n",
            "Epoch 138/200\n",
            "11/11 [==============================] - 0s 7ms/step - loss: 9.4110 - val_loss: 18.2832\n",
            "Epoch 139/200\n",
            "11/11 [==============================] - 0s 6ms/step - loss: 12.3483 - val_loss: 18.6387\n",
            "Epoch 140/200\n",
            "11/11 [==============================] - 0s 6ms/step - loss: 10.3109 - val_loss: 18.5582\n",
            "Epoch 141/200\n",
            "11/11 [==============================] - 0s 5ms/step - loss: 11.2427 - val_loss: 18.3950\n",
            "Epoch 142/200\n",
            "11/11 [==============================] - 0s 6ms/step - loss: 8.7691 - val_loss: 18.2050\n",
            "Epoch 143/200\n",
            "11/11 [==============================] - 0s 6ms/step - loss: 8.7322 - val_loss: 18.1120\n",
            "Epoch 144/200\n",
            "11/11 [==============================] - 0s 6ms/step - loss: 9.1169 - val_loss: 17.8129\n",
            "Epoch 145/200\n",
            "11/11 [==============================] - 0s 7ms/step - loss: 10.3845 - val_loss: 17.7947\n",
            "Epoch 146/200\n",
            "11/11 [==============================] - 0s 6ms/step - loss: 8.9115 - val_loss: 18.0960\n",
            "Epoch 147/200\n",
            "11/11 [==============================] - 0s 6ms/step - loss: 8.7828 - val_loss: 18.1298\n",
            "Epoch 148/200\n",
            "11/11 [==============================] - 0s 6ms/step - loss: 8.8982 - val_loss: 17.1786\n",
            "Epoch 149/200\n",
            "11/11 [==============================] - 0s 6ms/step - loss: 11.8282 - val_loss: 17.0544\n",
            "Epoch 150/200\n",
            "11/11 [==============================] - 0s 6ms/step - loss: 9.0657 - val_loss: 17.1958\n",
            "Epoch 151/200\n",
            "11/11 [==============================] - 0s 6ms/step - loss: 7.9231 - val_loss: 17.2986\n",
            "Epoch 152/200\n",
            "11/11 [==============================] - 0s 6ms/step - loss: 9.8953 - val_loss: 17.2543\n",
            "Epoch 153/200\n",
            "11/11 [==============================] - 0s 7ms/step - loss: 8.4578 - val_loss: 17.4774\n",
            "Epoch 154/200\n",
            "11/11 [==============================] - 0s 6ms/step - loss: 12.4255 - val_loss: 17.4736\n",
            "Epoch 155/200\n",
            "11/11 [==============================] - 0s 6ms/step - loss: 7.8847 - val_loss: 17.3547\n",
            "Epoch 156/200\n",
            "11/11 [==============================] - 0s 7ms/step - loss: 8.4669 - val_loss: 17.1140\n",
            "Epoch 157/200\n",
            "11/11 [==============================] - 0s 6ms/step - loss: 10.0121 - val_loss: 17.1140\n",
            "Epoch 158/200\n",
            "11/11 [==============================] - 0s 6ms/step - loss: 7.6487 - val_loss: 17.6473\n",
            "Epoch 159/200\n",
            "11/11 [==============================] - 0s 6ms/step - loss: 8.1412 - val_loss: 17.6016\n",
            "Epoch 160/200\n",
            "11/11 [==============================] - 0s 6ms/step - loss: 12.3735 - val_loss: 17.1707\n",
            "Epoch 161/200\n",
            "11/11 [==============================] - 0s 7ms/step - loss: 11.5593 - val_loss: 16.9884\n",
            "Epoch 162/200\n",
            "11/11 [==============================] - 0s 6ms/step - loss: 9.5778 - val_loss: 16.9576\n",
            "Epoch 163/200\n",
            "11/11 [==============================] - 0s 6ms/step - loss: 7.5703 - val_loss: 17.0891\n",
            "Epoch 164/200\n",
            "11/11 [==============================] - 0s 5ms/step - loss: 10.0537 - val_loss: 17.0857\n",
            "Epoch 165/200\n",
            "11/11 [==============================] - 0s 6ms/step - loss: 9.8884 - val_loss: 16.8176\n",
            "Epoch 166/200\n",
            "11/11 [==============================] - 0s 6ms/step - loss: 6.7112 - val_loss: 16.8162\n",
            "Epoch 167/200\n",
            "11/11 [==============================] - 0s 6ms/step - loss: 8.7768 - val_loss: 16.7839\n",
            "Epoch 168/200\n",
            "11/11 [==============================] - 0s 6ms/step - loss: 8.4531 - val_loss: 16.8619\n",
            "Epoch 169/200\n",
            "11/11 [==============================] - 0s 6ms/step - loss: 7.4340 - val_loss: 16.9384\n",
            "Epoch 170/200\n",
            "11/11 [==============================] - 0s 6ms/step - loss: 7.8913 - val_loss: 16.6109\n",
            "Epoch 171/200\n",
            "11/11 [==============================] - 0s 6ms/step - loss: 8.0626 - val_loss: 16.5377\n",
            "Epoch 172/200\n",
            "11/11 [==============================] - 0s 6ms/step - loss: 6.9931 - val_loss: 16.5805\n",
            "Epoch 173/200\n",
            "11/11 [==============================] - 0s 7ms/step - loss: 8.1459 - val_loss: 15.8339\n",
            "Epoch 174/200\n",
            "11/11 [==============================] - 0s 6ms/step - loss: 9.3142 - val_loss: 15.9632\n",
            "Epoch 175/200\n",
            "11/11 [==============================] - 0s 6ms/step - loss: 7.7355 - val_loss: 16.2967\n",
            "Epoch 176/200\n",
            "11/11 [==============================] - 0s 6ms/step - loss: 7.5661 - val_loss: 16.3868\n",
            "Epoch 177/200\n",
            "11/11 [==============================] - 0s 6ms/step - loss: 8.9905 - val_loss: 16.3399\n",
            "Epoch 178/200\n",
            "11/11 [==============================] - 0s 6ms/step - loss: 11.3929 - val_loss: 16.3210\n",
            "Epoch 179/200\n",
            "11/11 [==============================] - 0s 6ms/step - loss: 10.6582 - val_loss: 16.5202\n",
            "Epoch 180/200\n",
            "11/11 [==============================] - 0s 6ms/step - loss: 9.0514 - val_loss: 16.8812\n",
            "Epoch 181/200\n",
            "11/11 [==============================] - 0s 6ms/step - loss: 9.7036 - val_loss: 16.3932\n",
            "Epoch 182/200\n",
            "11/11 [==============================] - 0s 6ms/step - loss: 7.1213 - val_loss: 16.3435\n",
            "Epoch 183/200\n",
            "11/11 [==============================] - 0s 6ms/step - loss: 10.8895 - val_loss: 15.8898\n",
            "Epoch 184/200\n",
            "11/11 [==============================] - 0s 6ms/step - loss: 8.5227 - val_loss: 15.9037\n",
            "Epoch 185/200\n",
            "11/11 [==============================] - 0s 6ms/step - loss: 7.9712 - val_loss: 15.9806\n",
            "Epoch 186/200\n",
            "11/11 [==============================] - 0s 7ms/step - loss: 10.1115 - val_loss: 15.8760\n",
            "Epoch 187/200\n",
            "11/11 [==============================] - 0s 6ms/step - loss: 7.2337 - val_loss: 15.8791\n",
            "Epoch 188/200\n",
            "11/11 [==============================] - 0s 6ms/step - loss: 7.9279 - val_loss: 16.2387\n",
            "Epoch 189/200\n",
            "11/11 [==============================] - 0s 6ms/step - loss: 7.3844 - val_loss: 16.4257\n",
            "Epoch 190/200\n",
            "11/11 [==============================] - 0s 7ms/step - loss: 10.5588 - val_loss: 16.5917\n",
            "Epoch 191/200\n",
            "11/11 [==============================] - 0s 6ms/step - loss: 7.3100 - val_loss: 16.3636\n",
            "Epoch 192/200\n",
            "11/11 [==============================] - 0s 6ms/step - loss: 8.6857 - val_loss: 16.2159\n",
            "Epoch 193/200\n",
            "11/11 [==============================] - 0s 6ms/step - loss: 8.7053 - val_loss: 16.3871\n",
            "Epoch 194/200\n",
            "11/11 [==============================] - 0s 6ms/step - loss: 9.1453 - val_loss: 16.4267\n",
            "Epoch 195/200\n",
            "11/11 [==============================] - 0s 5ms/step - loss: 9.0046 - val_loss: 16.0497\n",
            "Epoch 196/200\n",
            "11/11 [==============================] - 0s 7ms/step - loss: 11.0589 - val_loss: 16.1761\n",
            "Epoch 197/200\n",
            "11/11 [==============================] - 0s 8ms/step - loss: 7.9086 - val_loss: 16.2097\n",
            "Epoch 198/200\n",
            "11/11 [==============================] - 0s 6ms/step - loss: 6.7210 - val_loss: 16.0195\n",
            "Epoch 199/200\n",
            "11/11 [==============================] - 0s 7ms/step - loss: 7.9092 - val_loss: 16.0339\n",
            "Epoch 200/200\n",
            "11/11 [==============================] - 0s 5ms/step - loss: 8.5254 - val_loss: 15.8813\n"
          ],
          "name": "stdout"
        },
        {
          "output_type": "execute_result",
          "data": {
            "text/plain": [
              "<tensorflow.python.keras.callbacks.History at 0x7fe15317f650>"
            ]
          },
          "metadata": {
            "tags": []
          },
          "execution_count": 188
        }
      ]
    },
    {
      "cell_type": "code",
      "metadata": {
        "colab": {
          "base_uri": "https://localhost:8080/"
        },
        "id": "F_DTH5Cjva8x",
        "outputId": "a0e7400a-5adc-4fb1-945c-7ee0045df96f"
      },
      "source": [
        "R_squared(y_test, modelTF2.predict(X_test_scaled)[:,0])"
      ],
      "execution_count": 189,
      "outputs": [
        {
          "output_type": "stream",
          "text": [
            "SSE = 39.63495091129355\n",
            "SST = 95.89946328746335\n"
          ],
          "name": "stdout"
        },
        {
          "output_type": "execute_result",
          "data": {
            "text/plain": [
              "0.829185672252824"
            ]
          },
          "metadata": {
            "tags": []
          },
          "execution_count": 189
        }
      ]
    },
    {
      "cell_type": "code",
      "metadata": {
        "colab": {
          "base_uri": "https://localhost:8080/"
        },
        "id": "2mAdLYenvnOk",
        "outputId": "46743d67-f580-4c4d-a3b6-02363e80c7ab"
      },
      "source": [
        "modelTF2.evaluate(X_test_scaled, y_test)"
      ],
      "execution_count": 190,
      "outputs": [
        {
          "output_type": "stream",
          "text": [
            "4/4 [==============================] - 0s 3ms/step - loss: 15.4013\n"
          ],
          "name": "stdout"
        },
        {
          "output_type": "execute_result",
          "data": {
            "text/plain": [
              "15.401268005371094"
            ]
          },
          "metadata": {
            "tags": []
          },
          "execution_count": 190
        }
      ]
    },
    {
      "cell_type": "code",
      "metadata": {
        "colab": {
          "base_uri": "https://localhost:8080/"
        },
        "id": "VZHHhjwxv2Zs",
        "outputId": "28ced738-b678-4466-aacd-f608a718dc4f"
      },
      "source": [
        "modelTF2.predict(X_test_scaled)[:,0] - y_test"
      ],
      "execution_count": 191,
      "outputs": [
        {
          "output_type": "execute_result",
          "data": {
            "text/plain": [
              "array([-0.66004219, -5.07824326,  4.6084301 , -1.69356041, -0.53403053,\n",
              "        6.2039566 , -2.04433479,  2.76970177, -1.62211876, -4.31007214,\n",
              "        2.39326935, 25.57143555, -2.32433434,  0.36902847,  1.4560545 ,\n",
              "       -3.96095238,  2.13440857,  5.86884155,  2.09644852,  4.2478981 ,\n",
              "        0.07776489, -1.96951408, -4.80983658, -0.82840328, -2.2303009 ,\n",
              "        3.05649414, -4.18028488, -3.03334198, -1.49715843, -5.17376404,\n",
              "       -4.42232189,  0.61026421,  2.76745338, -0.18241882,  2.61664314,\n",
              "       -2.43779831,  2.67424011,  0.33589773, -0.34828377,  1.73040657,\n",
              "       -4.80938797,  3.26691284,  4.71783485, -0.04220629,  0.45221481,\n",
              "        0.30141907, -8.66353989, -4.36748848, -0.51593628, -1.76263809,\n",
              "        4.75944824,  1.18245468, -1.41357079,  3.07025642,  0.53020153,\n",
              "        1.37841492,  0.70146103, -0.45263405, -0.60312729,  1.74340057,\n",
              "        2.18420792, -0.81744423, -6.39103279,  0.38819542,  2.75511742,\n",
              "        2.45378723,  1.6861145 ,  1.16962395,  3.79194107,  0.14126892,\n",
              "        1.21036949, -1.70460243,  0.68233757, -4.94501038, -3.53595047,\n",
              "        1.00589523, -0.78939762, -1.70396805,  3.03612061, -4.75394821,\n",
              "        0.98013649,  1.16852236, -0.18293476,  4.51407471,  5.1058815 ,\n",
              "        0.56289368, -6.81503677, -1.71409836,  1.75955124,  3.27521439,\n",
              "       -0.31502876, -1.2889246 ,  7.08218727,  2.89799538, -0.43631706,\n",
              "        0.480159  ,  3.26908569,  3.05532837,  1.02893066, -0.24268379,\n",
              "       -0.88399811, -2.90566978])"
            ]
          },
          "metadata": {
            "tags": []
          },
          "execution_count": 191
        }
      ]
    },
    {
      "cell_type": "code",
      "metadata": {
        "colab": {
          "base_uri": "https://localhost:8080/"
        },
        "id": "XES0J2bOxdJ4",
        "outputId": "68340b67-3284-45b3-b393-ecc377e0f751"
      },
      "source": [
        "y_test.shape\n"
      ],
      "execution_count": 192,
      "outputs": [
        {
          "output_type": "execute_result",
          "data": {
            "text/plain": [
              "(102,)"
            ]
          },
          "metadata": {
            "tags": []
          },
          "execution_count": 192
        }
      ]
    },
    {
      "cell_type": "code",
      "metadata": {
        "colab": {
          "base_uri": "https://localhost:8080/"
        },
        "id": "Uk65bKcmxo1Q",
        "outputId": "bdee3eca-26c6-4aa0-8ac3-444ac5bd8bda"
      },
      "source": [
        "modelTF2.predict(X_test_scaled)[:,0].shape"
      ],
      "execution_count": 193,
      "outputs": [
        {
          "output_type": "execute_result",
          "data": {
            "text/plain": [
              "(102,)"
            ]
          },
          "metadata": {
            "tags": []
          },
          "execution_count": 193
        }
      ]
    },
    {
      "cell_type": "code",
      "metadata": {
        "colab": {
          "base_uri": "https://localhost:8080/"
        },
        "id": "C_BZSRDU2ilz",
        "outputId": "ccfae3e8-133e-4c70-f1fa-a2ff2d5fb523"
      },
      "source": [
        "!pip install tensorflow-addons"
      ],
      "execution_count": 195,
      "outputs": [
        {
          "output_type": "stream",
          "text": [
            "Collecting tensorflow-addons\n",
            "\u001b[?25l  Downloading https://files.pythonhosted.org/packages/74/e3/56d2fe76f0bb7c88ed9b2a6a557e25e83e252aec08f13de34369cd850a0b/tensorflow_addons-0.12.1-cp37-cp37m-manylinux2010_x86_64.whl (703kB)\n",
            "\u001b[K     |████████████████████████████████| 706kB 2.9MB/s \n",
            "\u001b[?25hRequirement already satisfied: typeguard>=2.7 in /usr/local/lib/python3.7/dist-packages (from tensorflow-addons) (2.7.1)\n",
            "Installing collected packages: tensorflow-addons\n",
            "Successfully installed tensorflow-addons-0.12.1\n"
          ],
          "name": "stdout"
        }
      ]
    },
    {
      "cell_type": "code",
      "metadata": {
        "colab": {
          "base_uri": "https://localhost:8080/"
        },
        "id": "0h5fG6ZrxtP6",
        "outputId": "9bb18e99-550d-4f55-a165-23f9c11e2ce5"
      },
      "source": [
        "#verification of my home grown R_squared in numpy\n",
        "import tensorflow_addons as tfa\n",
        "metric = tfa.metrics.r_square.RSquare()\n",
        "metric.update_state(y_test, modelTF2.predict(X_test_scaled)[:,0])\n",
        "result = metric.result()\n",
        "result.numpy()"
      ],
      "execution_count": 199,
      "outputs": [
        {
          "output_type": "execute_result",
          "data": {
            "text/plain": [
              "0.82918566"
            ]
          },
          "metadata": {
            "tags": []
          },
          "execution_count": 199
        }
      ]
    },
    {
      "cell_type": "code",
      "metadata": {
        "colab": {
          "base_uri": "https://localhost:8080/"
        },
        "id": "ngj_Y9wv1jWg",
        "outputId": "9794b6ae-c545-4453-cd5d-c8b77a42a918"
      },
      "source": [
        "# layers[0] is the 100 node Dense layer with Input size (D,) where D = # of features = 13 for the Boston data\n",
        "# get_weights returns the D*M weight matrix of the later, where D is input dim, M is output dim at index 0, AND the bias vector of dim M at index 1\n",
        "print(modelTF2.layers[0].get_weights()[0].shape)\n",
        "modelTF2.layers[0].get_weights()[1].shape"
      ],
      "execution_count": 206,
      "outputs": [
        {
          "output_type": "stream",
          "text": [
            "(13, 100)\n"
          ],
          "name": "stdout"
        },
        {
          "output_type": "execute_result",
          "data": {
            "text/plain": [
              "(100,)"
            ]
          },
          "metadata": {
            "tags": []
          },
          "execution_count": 206
        }
      ]
    },
    {
      "cell_type": "code",
      "metadata": {
        "colab": {
          "base_uri": "https://localhost:8080/"
        },
        "id": "MUn6dcVwCjPp",
        "outputId": "90f6b502-fede-4e94-9b83-e2e3a793b87f"
      },
      "source": [
        "X_train.shape"
      ],
      "execution_count": 205,
      "outputs": [
        {
          "output_type": "execute_result",
          "data": {
            "text/plain": [
              "(404, 13)"
            ]
          },
          "metadata": {
            "tags": []
          },
          "execution_count": 205
        }
      ]
    },
    {
      "cell_type": "code",
      "metadata": {
        "colab": {
          "base_uri": "https://localhost:8080/"
        },
        "id": "oZ4ppiTXDJ0y",
        "outputId": "66e87495-939c-4d1f-f825-edd34ee84bec"
      },
      "source": [
        "# the 2nd Dense layer is D = 100, M = 1\n",
        "print(modelTF2.layers[1].get_weights()[0].shape)\n",
        "modelTF2.layers[1].get_weights()[1].shape"
      ],
      "execution_count": 207,
      "outputs": [
        {
          "output_type": "stream",
          "text": [
            "(100, 1)\n"
          ],
          "name": "stdout"
        },
        {
          "output_type": "execute_result",
          "data": {
            "text/plain": [
              "(1,)"
            ]
          },
          "metadata": {
            "tags": []
          },
          "execution_count": 207
        }
      ]
    },
    {
      "cell_type": "code",
      "metadata": {
        "id": "99yIEoT2EGTM"
      },
      "source": [
        ""
      ],
      "execution_count": null,
      "outputs": []
    }
  ]
}