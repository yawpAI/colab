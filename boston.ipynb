{
  "nbformat": 4,
  "nbformat_minor": 0,
  "metadata": {
    "colab": {
      "name": "boston.ipynb",
      "provenance": [],
      "collapsed_sections": [],
      "authorship_tag": "ABX9TyPNLhN+4dZ/xVEJkcSCUJGB",
      "include_colab_link": true
    },
    "kernelspec": {
      "name": "python3",
      "display_name": "Python 3"
    },
    "language_info": {
      "name": "python"
    }
  },
  "cells": [
    {
      "cell_type": "markdown",
      "metadata": {
        "id": "view-in-github",
        "colab_type": "text"
      },
      "source": [
        "<a href=\"https://colab.research.google.com/github/yawpAI/colab/blob/main/boston.ipynb\" target=\"_parent\"><img src=\"https://colab.research.google.com/assets/colab-badge.svg\" alt=\"Open In Colab\"/></a>"
      ]
    },
    {
      "cell_type": "code",
      "metadata": {
        "id": "TMtZBBXpfFyF"
      },
      "source": [
        "from sklearn.datasets import load_boston \n",
        "from sklearn.model_selection import train_test_split\n",
        "from sklearn.preprocessing import StandardScaler\n",
        "import tensorflow as tf\n",
        " \n"
      ],
      "execution_count": 4,
      "outputs": []
    },
    {
      "cell_type": "code",
      "metadata": {
        "colab": {
          "base_uri": "https://localhost:8080/"
        },
        "id": "1eNFEDIsfilB",
        "outputId": "51210383-afc1-411c-ed9f-b210152b8ab2"
      },
      "source": [
        "bunch = load_boston()\n",
        "print(bunch.data.shape)\n",
        "print(bunch.target.shape)"
      ],
      "execution_count": 5,
      "outputs": [
        {
          "output_type": "stream",
          "text": [
            "(506, 13)\n",
            "(506,)\n"
          ],
          "name": "stdout"
        }
      ]
    },
    {
      "cell_type": "code",
      "metadata": {
        "colab": {
          "base_uri": "https://localhost:8080/"
        },
        "id": "EK7IShfgpEbQ",
        "outputId": "1c106b01-5794-4e89-f084-6a9f34a81fa9"
      },
      "source": [
        "bunch.data"
      ],
      "execution_count": 6,
      "outputs": [
        {
          "output_type": "execute_result",
          "data": {
            "text/plain": [
              "array([[6.3200e-03, 1.8000e+01, 2.3100e+00, ..., 1.5300e+01, 3.9690e+02,\n",
              "        4.9800e+00],\n",
              "       [2.7310e-02, 0.0000e+00, 7.0700e+00, ..., 1.7800e+01, 3.9690e+02,\n",
              "        9.1400e+00],\n",
              "       [2.7290e-02, 0.0000e+00, 7.0700e+00, ..., 1.7800e+01, 3.9283e+02,\n",
              "        4.0300e+00],\n",
              "       ...,\n",
              "       [6.0760e-02, 0.0000e+00, 1.1930e+01, ..., 2.1000e+01, 3.9690e+02,\n",
              "        5.6400e+00],\n",
              "       [1.0959e-01, 0.0000e+00, 1.1930e+01, ..., 2.1000e+01, 3.9345e+02,\n",
              "        6.4800e+00],\n",
              "       [4.7410e-02, 0.0000e+00, 1.1930e+01, ..., 2.1000e+01, 3.9690e+02,\n",
              "        7.8800e+00]])"
            ]
          },
          "metadata": {
            "tags": []
          },
          "execution_count": 6
        }
      ]
    },
    {
      "cell_type": "code",
      "metadata": {
        "colab": {
          "base_uri": "https://localhost:8080/"
        },
        "id": "22wDBZuzpGse",
        "outputId": "902f2f86-7b11-42e8-8131-a17674e715b6"
      },
      "source": [
        "bunch.target"
      ],
      "execution_count": 7,
      "outputs": [
        {
          "output_type": "execute_result",
          "data": {
            "text/plain": [
              "array([24. , 21.6, 34.7, 33.4, 36.2, 28.7, 22.9, 27.1, 16.5, 18.9, 15. ,\n",
              "       18.9, 21.7, 20.4, 18.2, 19.9, 23.1, 17.5, 20.2, 18.2, 13.6, 19.6,\n",
              "       15.2, 14.5, 15.6, 13.9, 16.6, 14.8, 18.4, 21. , 12.7, 14.5, 13.2,\n",
              "       13.1, 13.5, 18.9, 20. , 21. , 24.7, 30.8, 34.9, 26.6, 25.3, 24.7,\n",
              "       21.2, 19.3, 20. , 16.6, 14.4, 19.4, 19.7, 20.5, 25. , 23.4, 18.9,\n",
              "       35.4, 24.7, 31.6, 23.3, 19.6, 18.7, 16. , 22.2, 25. , 33. , 23.5,\n",
              "       19.4, 22. , 17.4, 20.9, 24.2, 21.7, 22.8, 23.4, 24.1, 21.4, 20. ,\n",
              "       20.8, 21.2, 20.3, 28. , 23.9, 24.8, 22.9, 23.9, 26.6, 22.5, 22.2,\n",
              "       23.6, 28.7, 22.6, 22. , 22.9, 25. , 20.6, 28.4, 21.4, 38.7, 43.8,\n",
              "       33.2, 27.5, 26.5, 18.6, 19.3, 20.1, 19.5, 19.5, 20.4, 19.8, 19.4,\n",
              "       21.7, 22.8, 18.8, 18.7, 18.5, 18.3, 21.2, 19.2, 20.4, 19.3, 22. ,\n",
              "       20.3, 20.5, 17.3, 18.8, 21.4, 15.7, 16.2, 18. , 14.3, 19.2, 19.6,\n",
              "       23. , 18.4, 15.6, 18.1, 17.4, 17.1, 13.3, 17.8, 14. , 14.4, 13.4,\n",
              "       15.6, 11.8, 13.8, 15.6, 14.6, 17.8, 15.4, 21.5, 19.6, 15.3, 19.4,\n",
              "       17. , 15.6, 13.1, 41.3, 24.3, 23.3, 27. , 50. , 50. , 50. , 22.7,\n",
              "       25. , 50. , 23.8, 23.8, 22.3, 17.4, 19.1, 23.1, 23.6, 22.6, 29.4,\n",
              "       23.2, 24.6, 29.9, 37.2, 39.8, 36.2, 37.9, 32.5, 26.4, 29.6, 50. ,\n",
              "       32. , 29.8, 34.9, 37. , 30.5, 36.4, 31.1, 29.1, 50. , 33.3, 30.3,\n",
              "       34.6, 34.9, 32.9, 24.1, 42.3, 48.5, 50. , 22.6, 24.4, 22.5, 24.4,\n",
              "       20. , 21.7, 19.3, 22.4, 28.1, 23.7, 25. , 23.3, 28.7, 21.5, 23. ,\n",
              "       26.7, 21.7, 27.5, 30.1, 44.8, 50. , 37.6, 31.6, 46.7, 31.5, 24.3,\n",
              "       31.7, 41.7, 48.3, 29. , 24. , 25.1, 31.5, 23.7, 23.3, 22. , 20.1,\n",
              "       22.2, 23.7, 17.6, 18.5, 24.3, 20.5, 24.5, 26.2, 24.4, 24.8, 29.6,\n",
              "       42.8, 21.9, 20.9, 44. , 50. , 36. , 30.1, 33.8, 43.1, 48.8, 31. ,\n",
              "       36.5, 22.8, 30.7, 50. , 43.5, 20.7, 21.1, 25.2, 24.4, 35.2, 32.4,\n",
              "       32. , 33.2, 33.1, 29.1, 35.1, 45.4, 35.4, 46. , 50. , 32.2, 22. ,\n",
              "       20.1, 23.2, 22.3, 24.8, 28.5, 37.3, 27.9, 23.9, 21.7, 28.6, 27.1,\n",
              "       20.3, 22.5, 29. , 24.8, 22. , 26.4, 33.1, 36.1, 28.4, 33.4, 28.2,\n",
              "       22.8, 20.3, 16.1, 22.1, 19.4, 21.6, 23.8, 16.2, 17.8, 19.8, 23.1,\n",
              "       21. , 23.8, 23.1, 20.4, 18.5, 25. , 24.6, 23. , 22.2, 19.3, 22.6,\n",
              "       19.8, 17.1, 19.4, 22.2, 20.7, 21.1, 19.5, 18.5, 20.6, 19. , 18.7,\n",
              "       32.7, 16.5, 23.9, 31.2, 17.5, 17.2, 23.1, 24.5, 26.6, 22.9, 24.1,\n",
              "       18.6, 30.1, 18.2, 20.6, 17.8, 21.7, 22.7, 22.6, 25. , 19.9, 20.8,\n",
              "       16.8, 21.9, 27.5, 21.9, 23.1, 50. , 50. , 50. , 50. , 50. , 13.8,\n",
              "       13.8, 15. , 13.9, 13.3, 13.1, 10.2, 10.4, 10.9, 11.3, 12.3,  8.8,\n",
              "        7.2, 10.5,  7.4, 10.2, 11.5, 15.1, 23.2,  9.7, 13.8, 12.7, 13.1,\n",
              "       12.5,  8.5,  5. ,  6.3,  5.6,  7.2, 12.1,  8.3,  8.5,  5. , 11.9,\n",
              "       27.9, 17.2, 27.5, 15. , 17.2, 17.9, 16.3,  7. ,  7.2,  7.5, 10.4,\n",
              "        8.8,  8.4, 16.7, 14.2, 20.8, 13.4, 11.7,  8.3, 10.2, 10.9, 11. ,\n",
              "        9.5, 14.5, 14.1, 16.1, 14.3, 11.7, 13.4,  9.6,  8.7,  8.4, 12.8,\n",
              "       10.5, 17.1, 18.4, 15.4, 10.8, 11.8, 14.9, 12.6, 14.1, 13. , 13.4,\n",
              "       15.2, 16.1, 17.8, 14.9, 14.1, 12.7, 13.5, 14.9, 20. , 16.4, 17.7,\n",
              "       19.5, 20.2, 21.4, 19.9, 19. , 19.1, 19.1, 20.1, 19.9, 19.6, 23.2,\n",
              "       29.8, 13.8, 13.3, 16.7, 12. , 14.6, 21.4, 23. , 23.7, 25. , 21.8,\n",
              "       20.6, 21.2, 19.1, 20.6, 15.2,  7. ,  8.1, 13.6, 20.1, 21.8, 24.5,\n",
              "       23.1, 19.7, 18.3, 21.2, 17.5, 16.8, 22.4, 20.6, 23.9, 22. , 11.9])"
            ]
          },
          "metadata": {
            "tags": []
          },
          "execution_count": 7
        }
      ]
    },
    {
      "cell_type": "code",
      "metadata": {
        "colab": {
          "base_uri": "https://localhost:8080/"
        },
        "id": "LIt4dO6ifrd6",
        "outputId": "894c15b7-4c6e-44fe-a8cd-ae2b47644fae"
      },
      "source": [
        "print(bunch.feature_names)\n",
        "print(bunch.DESCR)"
      ],
      "execution_count": 8,
      "outputs": [
        {
          "output_type": "stream",
          "text": [
            "['CRIM' 'ZN' 'INDUS' 'CHAS' 'NOX' 'RM' 'AGE' 'DIS' 'RAD' 'TAX' 'PTRATIO'\n",
            " 'B' 'LSTAT']\n",
            ".. _boston_dataset:\n",
            "\n",
            "Boston house prices dataset\n",
            "---------------------------\n",
            "\n",
            "**Data Set Characteristics:**  \n",
            "\n",
            "    :Number of Instances: 506 \n",
            "\n",
            "    :Number of Attributes: 13 numeric/categorical predictive. Median Value (attribute 14) is usually the target.\n",
            "\n",
            "    :Attribute Information (in order):\n",
            "        - CRIM     per capita crime rate by town\n",
            "        - ZN       proportion of residential land zoned for lots over 25,000 sq.ft.\n",
            "        - INDUS    proportion of non-retail business acres per town\n",
            "        - CHAS     Charles River dummy variable (= 1 if tract bounds river; 0 otherwise)\n",
            "        - NOX      nitric oxides concentration (parts per 10 million)\n",
            "        - RM       average number of rooms per dwelling\n",
            "        - AGE      proportion of owner-occupied units built prior to 1940\n",
            "        - DIS      weighted distances to five Boston employment centres\n",
            "        - RAD      index of accessibility to radial highways\n",
            "        - TAX      full-value property-tax rate per $10,000\n",
            "        - PTRATIO  pupil-teacher ratio by town\n",
            "        - B        1000(Bk - 0.63)^2 where Bk is the proportion of blacks by town\n",
            "        - LSTAT    % lower status of the population\n",
            "        - MEDV     Median value of owner-occupied homes in $1000's\n",
            "\n",
            "    :Missing Attribute Values: None\n",
            "\n",
            "    :Creator: Harrison, D. and Rubinfeld, D.L.\n",
            "\n",
            "This is a copy of UCI ML housing dataset.\n",
            "https://archive.ics.uci.edu/ml/machine-learning-databases/housing/\n",
            "\n",
            "\n",
            "This dataset was taken from the StatLib library which is maintained at Carnegie Mellon University.\n",
            "\n",
            "The Boston house-price data of Harrison, D. and Rubinfeld, D.L. 'Hedonic\n",
            "prices and the demand for clean air', J. Environ. Economics & Management,\n",
            "vol.5, 81-102, 1978.   Used in Belsley, Kuh & Welsch, 'Regression diagnostics\n",
            "...', Wiley, 1980.   N.B. Various transformations are used in the table on\n",
            "pages 244-261 of the latter.\n",
            "\n",
            "The Boston house-price data has been used in many machine learning papers that address regression\n",
            "problems.   \n",
            "     \n",
            ".. topic:: References\n",
            "\n",
            "   - Belsley, Kuh & Welsch, 'Regression diagnostics: Identifying Influential Data and Sources of Collinearity', Wiley, 1980. 244-261.\n",
            "   - Quinlan,R. (1993). Combining Instance-Based and Model-Based Learning. In Proceedings on the Tenth International Conference of Machine Learning, 236-243, University of Massachusetts, Amherst. Morgan Kaufmann.\n",
            "\n"
          ],
          "name": "stdout"
        }
      ]
    },
    {
      "cell_type": "code",
      "metadata": {
        "id": "sLSqgLAWfxmk"
      },
      "source": [
        "X_train, X_test, y_train, y_test = train_test_split(bunch.data, bunch.target, test_size=0.20)"
      ],
      "execution_count": 9,
      "outputs": []
    },
    {
      "cell_type": "code",
      "metadata": {
        "id": "-Q6-cpIogUzq"
      },
      "source": [
        "scaler = StandardScaler()\n",
        "X_train_scaled = scaler.fit_transform(X_train)\n",
        "X_test_scaled = scaler.transform(X_test)"
      ],
      "execution_count": 10,
      "outputs": []
    },
    {
      "cell_type": "code",
      "metadata": {
        "colab": {
          "base_uri": "https://localhost:8080/"
        },
        "id": "ZXtCAnCQgl3R",
        "outputId": "930dce4d-edd0-4c5f-a79b-00c299c90236"
      },
      "source": [
        "val_size = int(len(X_train) * 0.2)\n",
        "print(val_size)"
      ],
      "execution_count": 11,
      "outputs": [
        {
          "output_type": "stream",
          "text": [
            "80\n"
          ],
          "name": "stdout"
        }
      ]
    },
    {
      "cell_type": "code",
      "metadata": {
        "id": "XyG99ZhAgqre"
      },
      "source": [
        "X_val_scaled = X_train_scaled[-val_size:]\n",
        "y_val = y_train[-val_size:]\n",
        "X_train_scaled = X_train_scaled[:-val_size]\n",
        "y_train = y_train[:-val_size]"
      ],
      "execution_count": 12,
      "outputs": []
    },
    {
      "cell_type": "code",
      "metadata": {
        "id": "WamMsWSfg-ld"
      },
      "source": [
        "modelTF = tf.keras.models.Sequential()\n",
        "modelTF.add(tf.keras.layers.Dense(1, input_shape=(X_train_scaled.shape[1],)))"
      ],
      "execution_count": 13,
      "outputs": []
    },
    {
      "cell_type": "code",
      "metadata": {
        "id": "I8aZtPhfhSKA"
      },
      "source": [
        "modelTF.compile(optimizer=tf.keras.optimizers.SGD(learning_rate=0.01, momentum=0.9), loss='mse')"
      ],
      "execution_count": 14,
      "outputs": []
    },
    {
      "cell_type": "code",
      "metadata": {
        "id": "AsibE10ilAop"
      },
      "source": [
        "def scheduler(epoch, lr):\n",
        "  if epoch < 10:\n",
        "    return lr\n",
        "  else:\n",
        "    return lr * tf.math.exp(-0.1)"
      ],
      "execution_count": 15,
      "outputs": []
    },
    {
      "cell_type": "code",
      "metadata": {
        "colab": {
          "base_uri": "https://localhost:8080/"
        },
        "id": "xo1UEdm6iYO-",
        "outputId": "46852398-eaa1-49ec-f444-75eeab745443"
      },
      "source": [
        "modelTF.fit(X_train_scaled, y_train, validation_data=(X_val_scaled, y_val), epochs = 100, callbacks=[tf.keras.callbacks.LearningRateScheduler(scheduler)])"
      ],
      "execution_count": 16,
      "outputs": [
        {
          "output_type": "stream",
          "text": [
            "Epoch 1/100\n",
            "11/11 [==============================] - 1s 24ms/step - loss: 490.2095 - val_loss: 51.7842\n",
            "Epoch 2/100\n",
            "11/11 [==============================] - 0s 5ms/step - loss: 46.0198 - val_loss: 73.3475\n",
            "Epoch 3/100\n",
            "11/11 [==============================] - 0s 5ms/step - loss: 69.9832 - val_loss: 37.0157\n",
            "Epoch 4/100\n",
            "11/11 [==============================] - 0s 6ms/step - loss: 37.5195 - val_loss: 37.2117\n",
            "Epoch 5/100\n",
            "11/11 [==============================] - 0s 6ms/step - loss: 31.2027 - val_loss: 38.3668\n",
            "Epoch 6/100\n",
            "11/11 [==============================] - 0s 6ms/step - loss: 27.7605 - val_loss: 29.0638\n",
            "Epoch 7/100\n",
            "11/11 [==============================] - 0s 6ms/step - loss: 25.8435 - val_loss: 28.1087\n",
            "Epoch 8/100\n",
            "11/11 [==============================] - 0s 5ms/step - loss: 24.7398 - val_loss: 28.8411\n",
            "Epoch 9/100\n",
            "11/11 [==============================] - 0s 6ms/step - loss: 20.3800 - val_loss: 27.3030\n",
            "Epoch 10/100\n",
            "11/11 [==============================] - 0s 6ms/step - loss: 17.5081 - val_loss: 27.4568\n",
            "Epoch 11/100\n",
            "11/11 [==============================] - 0s 6ms/step - loss: 23.2430 - val_loss: 29.4347\n",
            "Epoch 12/100\n",
            "11/11 [==============================] - 0s 5ms/step - loss: 25.1203 - val_loss: 25.5817\n",
            "Epoch 13/100\n",
            "11/11 [==============================] - 0s 5ms/step - loss: 23.7514 - val_loss: 28.6306\n",
            "Epoch 14/100\n",
            "11/11 [==============================] - 0s 5ms/step - loss: 27.0279 - val_loss: 27.1683\n",
            "Epoch 15/100\n",
            "11/11 [==============================] - 0s 5ms/step - loss: 23.0862 - val_loss: 26.4568\n",
            "Epoch 16/100\n",
            "11/11 [==============================] - 0s 6ms/step - loss: 22.2822 - val_loss: 26.2061\n",
            "Epoch 17/100\n",
            "11/11 [==============================] - 0s 6ms/step - loss: 23.4959 - val_loss: 26.0923\n",
            "Epoch 18/100\n",
            "11/11 [==============================] - 0s 5ms/step - loss: 20.8582 - val_loss: 26.4946\n",
            "Epoch 19/100\n",
            "11/11 [==============================] - 0s 6ms/step - loss: 22.9920 - val_loss: 26.7222\n",
            "Epoch 20/100\n",
            "11/11 [==============================] - 0s 5ms/step - loss: 24.0134 - val_loss: 26.9524\n",
            "Epoch 21/100\n",
            "11/11 [==============================] - 0s 5ms/step - loss: 22.5589 - val_loss: 26.7151\n",
            "Epoch 22/100\n",
            "11/11 [==============================] - 0s 5ms/step - loss: 22.2128 - val_loss: 27.0174\n",
            "Epoch 23/100\n",
            "11/11 [==============================] - 0s 6ms/step - loss: 20.5558 - val_loss: 26.8343\n",
            "Epoch 24/100\n",
            "11/11 [==============================] - 0s 6ms/step - loss: 21.6870 - val_loss: 26.6919\n",
            "Epoch 25/100\n",
            "11/11 [==============================] - 0s 5ms/step - loss: 24.7322 - val_loss: 26.7758\n",
            "Epoch 26/100\n",
            "11/11 [==============================] - 0s 5ms/step - loss: 21.8309 - val_loss: 26.6342\n",
            "Epoch 27/100\n",
            "11/11 [==============================] - 0s 5ms/step - loss: 21.7786 - val_loss: 26.3562\n",
            "Epoch 28/100\n",
            "11/11 [==============================] - 0s 5ms/step - loss: 26.5360 - val_loss: 26.2113\n",
            "Epoch 29/100\n",
            "11/11 [==============================] - 0s 5ms/step - loss: 22.3375 - val_loss: 26.2359\n",
            "Epoch 30/100\n",
            "11/11 [==============================] - 0s 5ms/step - loss: 17.3709 - val_loss: 26.2624\n",
            "Epoch 31/100\n",
            "11/11 [==============================] - 0s 6ms/step - loss: 19.8919 - val_loss: 26.3911\n",
            "Epoch 32/100\n",
            "11/11 [==============================] - 0s 6ms/step - loss: 23.8366 - val_loss: 26.5020\n",
            "Epoch 33/100\n",
            "11/11 [==============================] - 0s 6ms/step - loss: 18.5850 - val_loss: 26.4308\n",
            "Epoch 34/100\n",
            "11/11 [==============================] - 0s 7ms/step - loss: 21.5187 - val_loss: 26.3903\n",
            "Epoch 35/100\n",
            "11/11 [==============================] - 0s 6ms/step - loss: 22.1508 - val_loss: 26.2956\n",
            "Epoch 36/100\n",
            "11/11 [==============================] - 0s 6ms/step - loss: 20.0258 - val_loss: 26.1721\n",
            "Epoch 37/100\n",
            "11/11 [==============================] - 0s 5ms/step - loss: 21.6661 - val_loss: 26.1563\n",
            "Epoch 38/100\n",
            "11/11 [==============================] - 0s 6ms/step - loss: 23.4912 - val_loss: 26.2749\n",
            "Epoch 39/100\n",
            "11/11 [==============================] - 0s 5ms/step - loss: 18.1783 - val_loss: 26.2652\n",
            "Epoch 40/100\n",
            "11/11 [==============================] - 0s 5ms/step - loss: 20.0300 - val_loss: 26.1754\n",
            "Epoch 41/100\n",
            "11/11 [==============================] - 0s 5ms/step - loss: 23.8538 - val_loss: 26.2177\n",
            "Epoch 42/100\n",
            "11/11 [==============================] - 0s 5ms/step - loss: 21.5630 - val_loss: 26.2616\n",
            "Epoch 43/100\n",
            "11/11 [==============================] - 0s 6ms/step - loss: 19.8708 - val_loss: 26.2229\n",
            "Epoch 44/100\n",
            "11/11 [==============================] - 0s 5ms/step - loss: 21.8556 - val_loss: 26.2114\n",
            "Epoch 45/100\n",
            "11/11 [==============================] - 0s 5ms/step - loss: 22.2956 - val_loss: 26.1942\n",
            "Epoch 46/100\n",
            "11/11 [==============================] - 0s 5ms/step - loss: 24.1197 - val_loss: 26.2022\n",
            "Epoch 47/100\n",
            "11/11 [==============================] - 0s 5ms/step - loss: 22.0753 - val_loss: 26.2537\n",
            "Epoch 48/100\n",
            "11/11 [==============================] - 0s 5ms/step - loss: 23.7990 - val_loss: 26.2752\n",
            "Epoch 49/100\n",
            "11/11 [==============================] - 0s 5ms/step - loss: 24.7963 - val_loss: 26.2826\n",
            "Epoch 50/100\n",
            "11/11 [==============================] - 0s 5ms/step - loss: 19.6646 - val_loss: 26.2987\n",
            "Epoch 51/100\n",
            "11/11 [==============================] - 0s 5ms/step - loss: 22.2266 - val_loss: 26.3046\n",
            "Epoch 52/100\n",
            "11/11 [==============================] - 0s 5ms/step - loss: 19.7440 - val_loss: 26.3056\n",
            "Epoch 53/100\n",
            "11/11 [==============================] - 0s 5ms/step - loss: 20.9713 - val_loss: 26.3050\n",
            "Epoch 54/100\n",
            "11/11 [==============================] - 0s 6ms/step - loss: 20.9202 - val_loss: 26.2977\n",
            "Epoch 55/100\n",
            "11/11 [==============================] - 0s 5ms/step - loss: 22.6727 - val_loss: 26.2765\n",
            "Epoch 56/100\n",
            "11/11 [==============================] - 0s 5ms/step - loss: 22.1868 - val_loss: 26.2840\n",
            "Epoch 57/100\n",
            "11/11 [==============================] - 0s 5ms/step - loss: 23.5546 - val_loss: 26.2877\n",
            "Epoch 58/100\n",
            "11/11 [==============================] - 0s 5ms/step - loss: 21.8695 - val_loss: 26.2779\n",
            "Epoch 59/100\n",
            "11/11 [==============================] - 0s 5ms/step - loss: 19.1812 - val_loss: 26.2748\n",
            "Epoch 60/100\n",
            "11/11 [==============================] - 0s 5ms/step - loss: 21.0950 - val_loss: 26.2805\n",
            "Epoch 61/100\n",
            "11/11 [==============================] - 0s 5ms/step - loss: 21.0541 - val_loss: 26.2786\n",
            "Epoch 62/100\n",
            "11/11 [==============================] - 0s 5ms/step - loss: 23.2804 - val_loss: 26.2742\n",
            "Epoch 63/100\n",
            "11/11 [==============================] - 0s 5ms/step - loss: 22.9175 - val_loss: 26.2725\n",
            "Epoch 64/100\n",
            "11/11 [==============================] - 0s 5ms/step - loss: 17.3531 - val_loss: 26.2771\n",
            "Epoch 65/100\n",
            "11/11 [==============================] - 0s 4ms/step - loss: 18.9387 - val_loss: 26.2825\n",
            "Epoch 66/100\n",
            "11/11 [==============================] - 0s 5ms/step - loss: 23.4916 - val_loss: 26.2862\n",
            "Epoch 67/100\n",
            "11/11 [==============================] - 0s 5ms/step - loss: 24.7683 - val_loss: 26.2872\n",
            "Epoch 68/100\n",
            "11/11 [==============================] - 0s 6ms/step - loss: 21.4305 - val_loss: 26.2869\n",
            "Epoch 69/100\n",
            "11/11 [==============================] - 0s 5ms/step - loss: 25.8618 - val_loss: 26.2873\n",
            "Epoch 70/100\n",
            "11/11 [==============================] - 0s 5ms/step - loss: 21.8648 - val_loss: 26.2886\n",
            "Epoch 71/100\n",
            "11/11 [==============================] - 0s 5ms/step - loss: 22.8837 - val_loss: 26.2901\n",
            "Epoch 72/100\n",
            "11/11 [==============================] - 0s 5ms/step - loss: 26.6945 - val_loss: 26.2914\n",
            "Epoch 73/100\n",
            "11/11 [==============================] - 0s 5ms/step - loss: 21.9787 - val_loss: 26.2928\n",
            "Epoch 74/100\n",
            "11/11 [==============================] - 0s 5ms/step - loss: 22.6541 - val_loss: 26.2919\n",
            "Epoch 75/100\n",
            "11/11 [==============================] - 0s 5ms/step - loss: 23.0987 - val_loss: 26.2919\n",
            "Epoch 76/100\n",
            "11/11 [==============================] - 0s 5ms/step - loss: 22.6936 - val_loss: 26.2920\n",
            "Epoch 77/100\n",
            "11/11 [==============================] - 0s 6ms/step - loss: 23.9805 - val_loss: 26.2930\n",
            "Epoch 78/100\n",
            "11/11 [==============================] - 0s 5ms/step - loss: 19.6304 - val_loss: 26.2931\n",
            "Epoch 79/100\n",
            "11/11 [==============================] - 0s 6ms/step - loss: 22.8447 - val_loss: 26.2931\n",
            "Epoch 80/100\n",
            "11/11 [==============================] - 0s 6ms/step - loss: 20.7043 - val_loss: 26.2934\n",
            "Epoch 81/100\n",
            "11/11 [==============================] - 0s 5ms/step - loss: 20.4252 - val_loss: 26.2937\n",
            "Epoch 82/100\n",
            "11/11 [==============================] - 0s 5ms/step - loss: 20.6481 - val_loss: 26.2939\n",
            "Epoch 83/100\n",
            "11/11 [==============================] - 0s 5ms/step - loss: 22.0307 - val_loss: 26.2939\n",
            "Epoch 84/100\n",
            "11/11 [==============================] - 0s 5ms/step - loss: 21.2904 - val_loss: 26.2943\n",
            "Epoch 85/100\n",
            "11/11 [==============================] - 0s 6ms/step - loss: 19.9954 - val_loss: 26.2941\n",
            "Epoch 86/100\n",
            "11/11 [==============================] - 0s 6ms/step - loss: 24.3643 - val_loss: 26.2939\n",
            "Epoch 87/100\n",
            "11/11 [==============================] - 0s 5ms/step - loss: 23.9857 - val_loss: 26.2938\n",
            "Epoch 88/100\n",
            "11/11 [==============================] - 0s 5ms/step - loss: 23.6443 - val_loss: 26.2936\n",
            "Epoch 89/100\n",
            "11/11 [==============================] - 0s 6ms/step - loss: 20.1995 - val_loss: 26.2933\n",
            "Epoch 90/100\n",
            "11/11 [==============================] - 0s 5ms/step - loss: 19.0487 - val_loss: 26.2932\n",
            "Epoch 91/100\n",
            "11/11 [==============================] - 0s 5ms/step - loss: 24.2013 - val_loss: 26.2931\n",
            "Epoch 92/100\n",
            "11/11 [==============================] - 0s 5ms/step - loss: 21.7627 - val_loss: 26.2930\n",
            "Epoch 93/100\n",
            "11/11 [==============================] - 0s 5ms/step - loss: 24.4867 - val_loss: 26.2929\n",
            "Epoch 94/100\n",
            "11/11 [==============================] - 0s 5ms/step - loss: 19.7208 - val_loss: 26.2928\n",
            "Epoch 95/100\n",
            "11/11 [==============================] - 0s 7ms/step - loss: 21.7789 - val_loss: 26.2925\n",
            "Epoch 96/100\n",
            "11/11 [==============================] - 0s 5ms/step - loss: 21.6338 - val_loss: 26.2923\n",
            "Epoch 97/100\n",
            "11/11 [==============================] - 0s 5ms/step - loss: 22.4371 - val_loss: 26.2922\n",
            "Epoch 98/100\n",
            "11/11 [==============================] - 0s 5ms/step - loss: 21.3986 - val_loss: 26.2922\n",
            "Epoch 99/100\n",
            "11/11 [==============================] - 0s 6ms/step - loss: 23.9800 - val_loss: 26.2921\n",
            "Epoch 100/100\n",
            "11/11 [==============================] - 0s 6ms/step - loss: 23.2375 - val_loss: 26.2919\n"
          ],
          "name": "stdout"
        },
        {
          "output_type": "execute_result",
          "data": {
            "text/plain": [
              "<tensorflow.python.keras.callbacks.History at 0x7f91dc67e810>"
            ]
          },
          "metadata": {
            "tags": []
          },
          "execution_count": 16
        }
      ]
    },
    {
      "cell_type": "code",
      "metadata": {
        "colab": {
          "base_uri": "https://localhost:8080/"
        },
        "id": "Ot9HC7osi1WS",
        "outputId": "96e82f2b-11b2-4a82-9830-0eac55debeb8"
      },
      "source": [
        "modelTF.evaluate(X_train_scaled, y_train)"
      ],
      "execution_count": 17,
      "outputs": [
        {
          "output_type": "stream",
          "text": [
            "11/11 [==============================] - 0s 1ms/step - loss: 21.8527\n"
          ],
          "name": "stdout"
        },
        {
          "output_type": "execute_result",
          "data": {
            "text/plain": [
              "21.85273551940918"
            ]
          },
          "metadata": {
            "tags": []
          },
          "execution_count": 17
        }
      ]
    },
    {
      "cell_type": "code",
      "metadata": {
        "id": "ZcQIdGBulug6"
      },
      "source": [
        "import numpy as np\n",
        "def R_squared(y, y_pred):\n",
        "  SSE = np.linalg.norm(y - y_pred)\n",
        "  print('SSE = ' + str(SSE))\n",
        "  SST = np.linalg.norm(y-y.mean())\n",
        "  print('SST = ' + str(SST))\n",
        "  return 1.0 - (SSE/SST)**2"
      ],
      "execution_count": 18,
      "outputs": []
    },
    {
      "cell_type": "code",
      "metadata": {
        "colab": {
          "base_uri": "https://localhost:8080/"
        },
        "id": "3gXgJ3m2tdof",
        "outputId": "ff483ef3-01dc-4827-d4b3-5b999f4d656f"
      },
      "source": [
        "y_test.mean()"
      ],
      "execution_count": 19,
      "outputs": [
        {
          "output_type": "execute_result",
          "data": {
            "text/plain": [
              "21.76372549019608"
            ]
          },
          "metadata": {
            "tags": []
          },
          "execution_count": 19
        }
      ]
    },
    {
      "cell_type": "code",
      "metadata": {
        "colab": {
          "base_uri": "https://localhost:8080/"
        },
        "id": "hF36R4httgAU",
        "outputId": "7796c913-eb33-43ec-ae55-e26943b352a9"
      },
      "source": [
        "np.mean(y_test)"
      ],
      "execution_count": 20,
      "outputs": [
        {
          "output_type": "execute_result",
          "data": {
            "text/plain": [
              "21.76372549019608"
            ]
          },
          "metadata": {
            "tags": []
          },
          "execution_count": 20
        }
      ]
    },
    {
      "cell_type": "code",
      "metadata": {
        "colab": {
          "base_uri": "https://localhost:8080/"
        },
        "id": "-Vi5pdWGm41_",
        "outputId": "1169eac7-9189-4b9f-b755-d6083b6cf9df"
      },
      "source": [
        "R_squared(y_test, modelTF.predict(X_test_scaled)[:,0])  ### This 1 layer NN is OK, but is improved with a 2nd Dense layer below."
      ],
      "execution_count": 21,
      "outputs": [
        {
          "output_type": "stream",
          "text": [
            "SSE = 45.9553219019564\n",
            "SST = 80.51593497136903\n"
          ],
          "name": "stdout"
        },
        {
          "output_type": "execute_result",
          "data": {
            "text/plain": [
              "0.6742323580715477"
            ]
          },
          "metadata": {
            "tags": []
          },
          "execution_count": 21
        }
      ]
    },
    {
      "cell_type": "code",
      "metadata": {
        "colab": {
          "base_uri": "https://localhost:8080/"
        },
        "id": "2fu8QYMUnoT_",
        "outputId": "f1706fc8-023c-48ca-9edc-bcd4190d3b36"
      },
      "source": [
        "from sklearn.neural_network import MLPRegressor\n",
        "\n",
        "model = MLPRegressor()\n",
        "model.fit(X_train_scaled, y_train)"
      ],
      "execution_count": 22,
      "outputs": [
        {
          "output_type": "stream",
          "text": [
            "/usr/local/lib/python3.7/dist-packages/sklearn/neural_network/_multilayer_perceptron.py:571: ConvergenceWarning: Stochastic Optimizer: Maximum iterations (200) reached and the optimization hasn't converged yet.\n",
            "  % self.max_iter, ConvergenceWarning)\n"
          ],
          "name": "stderr"
        },
        {
          "output_type": "execute_result",
          "data": {
            "text/plain": [
              "MLPRegressor(activation='relu', alpha=0.0001, batch_size='auto', beta_1=0.9,\n",
              "             beta_2=0.999, early_stopping=False, epsilon=1e-08,\n",
              "             hidden_layer_sizes=(100,), learning_rate='constant',\n",
              "             learning_rate_init=0.001, max_fun=15000, max_iter=200,\n",
              "             momentum=0.9, n_iter_no_change=10, nesterovs_momentum=True,\n",
              "             power_t=0.5, random_state=None, shuffle=True, solver='adam',\n",
              "             tol=0.0001, validation_fraction=0.1, verbose=False,\n",
              "             warm_start=False)"
            ]
          },
          "metadata": {
            "tags": []
          },
          "execution_count": 22
        }
      ]
    },
    {
      "cell_type": "code",
      "metadata": {
        "colab": {
          "base_uri": "https://localhost:8080/"
        },
        "id": "O4PfdQhHrXzw",
        "outputId": "73afd073-73d9-4eea-82f3-3ea5d489f855"
      },
      "source": [
        "model.score(X_test_scaled, y_test)"
      ],
      "execution_count": 23,
      "outputs": [
        {
          "output_type": "execute_result",
          "data": {
            "text/plain": [
              "0.5519917238123763"
            ]
          },
          "metadata": {
            "tags": []
          },
          "execution_count": 23
        }
      ]
    },
    {
      "cell_type": "code",
      "metadata": {
        "id": "no9adlDcr7Ct"
      },
      "source": [
        "modelTF2 = tf.keras.models.Sequential()\n",
        "modelTF2.add(tf.keras.layers.Dense(100, activation='relu', input_shape=(X_train_scaled.shape[1],)))\n",
        "modelTF2.add(tf.keras.layers.Dense(1))"
      ],
      "execution_count": 24,
      "outputs": []
    },
    {
      "cell_type": "code",
      "metadata": {
        "id": "EyADAHENu7Ls"
      },
      "source": [
        "#modelTF2.compile(optimizer=tf.keras.optimizers.SGD(learning_rate=0.001, momentum=0.9), loss='mse')\n",
        "modelTF2.compile(optimizer='adam', loss='mse')"
      ],
      "execution_count": 25,
      "outputs": []
    },
    {
      "cell_type": "code",
      "metadata": {
        "colab": {
          "base_uri": "https://localhost:8080/"
        },
        "id": "ExJmhrI-vG8n",
        "outputId": "1918d109-f24d-4478-af00-e48e53e6412c"
      },
      "source": [
        "modelTF2.fit(X_train_scaled, y_train, validation_data=(X_val_scaled, y_val), epochs=200)"
      ],
      "execution_count": 26,
      "outputs": [
        {
          "output_type": "stream",
          "text": [
            "Epoch 1/200\n",
            "11/11 [==============================] - 1s 16ms/step - loss: 629.1236 - val_loss: 634.3283\n",
            "Epoch 2/200\n",
            "11/11 [==============================] - 0s 6ms/step - loss: 598.2810 - val_loss: 609.7124\n",
            "Epoch 3/200\n",
            "11/11 [==============================] - 0s 5ms/step - loss: 598.2589 - val_loss: 585.5402\n",
            "Epoch 4/200\n",
            "11/11 [==============================] - 0s 6ms/step - loss: 549.8399 - val_loss: 561.3939\n",
            "Epoch 5/200\n",
            "11/11 [==============================] - 0s 6ms/step - loss: 551.4333 - val_loss: 535.0831\n",
            "Epoch 6/200\n",
            "11/11 [==============================] - 0s 7ms/step - loss: 540.1664 - val_loss: 507.8602\n",
            "Epoch 7/200\n",
            "11/11 [==============================] - 0s 6ms/step - loss: 524.0804 - val_loss: 479.3109\n",
            "Epoch 8/200\n",
            "11/11 [==============================] - 0s 6ms/step - loss: 454.3880 - val_loss: 450.4145\n",
            "Epoch 9/200\n",
            "11/11 [==============================] - 0s 6ms/step - loss: 381.5008 - val_loss: 418.6219\n",
            "Epoch 10/200\n",
            "11/11 [==============================] - 0s 7ms/step - loss: 387.5898 - val_loss: 386.4393\n",
            "Epoch 11/200\n",
            "11/11 [==============================] - 0s 6ms/step - loss: 386.9626 - val_loss: 352.3546\n",
            "Epoch 12/200\n",
            "11/11 [==============================] - 0s 7ms/step - loss: 328.6860 - val_loss: 319.7082\n",
            "Epoch 13/200\n",
            "11/11 [==============================] - 0s 6ms/step - loss: 300.8977 - val_loss: 287.0793\n",
            "Epoch 14/200\n",
            "11/11 [==============================] - 0s 6ms/step - loss: 293.2685 - val_loss: 255.6371\n",
            "Epoch 15/200\n",
            "11/11 [==============================] - 0s 6ms/step - loss: 252.1789 - val_loss: 226.3800\n",
            "Epoch 16/200\n",
            "11/11 [==============================] - 0s 6ms/step - loss: 234.4799 - val_loss: 199.3341\n",
            "Epoch 17/200\n",
            "11/11 [==============================] - 0s 6ms/step - loss: 184.2494 - val_loss: 175.0727\n",
            "Epoch 18/200\n",
            "11/11 [==============================] - 0s 5ms/step - loss: 185.4972 - val_loss: 153.4139\n",
            "Epoch 19/200\n",
            "11/11 [==============================] - 0s 5ms/step - loss: 139.5460 - val_loss: 134.2184\n",
            "Epoch 20/200\n",
            "11/11 [==============================] - 0s 5ms/step - loss: 127.6560 - val_loss: 117.5431\n",
            "Epoch 21/200\n",
            "11/11 [==============================] - 0s 5ms/step - loss: 115.2883 - val_loss: 104.3115\n",
            "Epoch 22/200\n",
            "11/11 [==============================] - 0s 6ms/step - loss: 106.1328 - val_loss: 93.3787\n",
            "Epoch 23/200\n",
            "11/11 [==============================] - 0s 6ms/step - loss: 88.2730 - val_loss: 84.3586\n",
            "Epoch 24/200\n",
            "11/11 [==============================] - 0s 7ms/step - loss: 83.3893 - val_loss: 77.0152\n",
            "Epoch 25/200\n",
            "11/11 [==============================] - 0s 5ms/step - loss: 71.2441 - val_loss: 71.2887\n",
            "Epoch 26/200\n",
            "11/11 [==============================] - 0s 5ms/step - loss: 68.2072 - val_loss: 66.4771\n",
            "Epoch 27/200\n",
            "11/11 [==============================] - 0s 5ms/step - loss: 62.9557 - val_loss: 62.1220\n",
            "Epoch 28/200\n",
            "11/11 [==============================] - 0s 5ms/step - loss: 50.5122 - val_loss: 58.2365\n",
            "Epoch 29/200\n",
            "11/11 [==============================] - 0s 5ms/step - loss: 50.9919 - val_loss: 54.6830\n",
            "Epoch 30/200\n",
            "11/11 [==============================] - 0s 6ms/step - loss: 54.4245 - val_loss: 51.5020\n",
            "Epoch 31/200\n",
            "11/11 [==============================] - 0s 6ms/step - loss: 44.6136 - val_loss: 48.9347\n",
            "Epoch 32/200\n",
            "11/11 [==============================] - 0s 5ms/step - loss: 40.5357 - val_loss: 46.1917\n",
            "Epoch 33/200\n",
            "11/11 [==============================] - 0s 6ms/step - loss: 38.3801 - val_loss: 44.1350\n",
            "Epoch 34/200\n",
            "11/11 [==============================] - 0s 5ms/step - loss: 45.1125 - val_loss: 42.3143\n",
            "Epoch 35/200\n",
            "11/11 [==============================] - 0s 5ms/step - loss: 37.1848 - val_loss: 40.7871\n",
            "Epoch 36/200\n",
            "11/11 [==============================] - 0s 6ms/step - loss: 40.5220 - val_loss: 39.3990\n",
            "Epoch 37/200\n",
            "11/11 [==============================] - 0s 5ms/step - loss: 35.8419 - val_loss: 38.3518\n",
            "Epoch 38/200\n",
            "11/11 [==============================] - 0s 6ms/step - loss: 34.1766 - val_loss: 37.3076\n",
            "Epoch 39/200\n",
            "11/11 [==============================] - 0s 6ms/step - loss: 30.1387 - val_loss: 36.4174\n",
            "Epoch 40/200\n",
            "11/11 [==============================] - 0s 6ms/step - loss: 30.7385 - val_loss: 35.4676\n",
            "Epoch 41/200\n",
            "11/11 [==============================] - 0s 5ms/step - loss: 25.3037 - val_loss: 34.7307\n",
            "Epoch 42/200\n",
            "11/11 [==============================] - 0s 6ms/step - loss: 27.6325 - val_loss: 34.1955\n",
            "Epoch 43/200\n",
            "11/11 [==============================] - 0s 6ms/step - loss: 27.1890 - val_loss: 33.7754\n",
            "Epoch 44/200\n",
            "11/11 [==============================] - 0s 5ms/step - loss: 28.7694 - val_loss: 33.1024\n",
            "Epoch 45/200\n",
            "11/11 [==============================] - 0s 6ms/step - loss: 28.5467 - val_loss: 32.5802\n",
            "Epoch 46/200\n",
            "11/11 [==============================] - 0s 6ms/step - loss: 25.9795 - val_loss: 32.2655\n",
            "Epoch 47/200\n",
            "11/11 [==============================] - 0s 6ms/step - loss: 25.9827 - val_loss: 31.8734\n",
            "Epoch 48/200\n",
            "11/11 [==============================] - 0s 5ms/step - loss: 26.0276 - val_loss: 31.6145\n",
            "Epoch 49/200\n",
            "11/11 [==============================] - 0s 5ms/step - loss: 27.5526 - val_loss: 31.3399\n",
            "Epoch 50/200\n",
            "11/11 [==============================] - 0s 5ms/step - loss: 27.5293 - val_loss: 31.0147\n",
            "Epoch 51/200\n",
            "11/11 [==============================] - 0s 5ms/step - loss: 24.0494 - val_loss: 30.7670\n",
            "Epoch 52/200\n",
            "11/11 [==============================] - 0s 5ms/step - loss: 24.9202 - val_loss: 30.5153\n",
            "Epoch 53/200\n",
            "11/11 [==============================] - 0s 6ms/step - loss: 25.4914 - val_loss: 30.2273\n",
            "Epoch 54/200\n",
            "11/11 [==============================] - 0s 5ms/step - loss: 24.4744 - val_loss: 30.0980\n",
            "Epoch 55/200\n",
            "11/11 [==============================] - 0s 5ms/step - loss: 21.8251 - val_loss: 29.7017\n",
            "Epoch 56/200\n",
            "11/11 [==============================] - 0s 6ms/step - loss: 23.5725 - val_loss: 29.3540\n",
            "Epoch 57/200\n",
            "11/11 [==============================] - 0s 7ms/step - loss: 21.1840 - val_loss: 29.0500\n",
            "Epoch 58/200\n",
            "11/11 [==============================] - 0s 5ms/step - loss: 26.4096 - val_loss: 28.7015\n",
            "Epoch 59/200\n",
            "11/11 [==============================] - 0s 6ms/step - loss: 20.2296 - val_loss: 28.4585\n",
            "Epoch 60/200\n",
            "11/11 [==============================] - 0s 5ms/step - loss: 23.5648 - val_loss: 28.3121\n",
            "Epoch 61/200\n",
            "11/11 [==============================] - 0s 5ms/step - loss: 21.7827 - val_loss: 27.9853\n",
            "Epoch 62/200\n",
            "11/11 [==============================] - 0s 7ms/step - loss: 19.5907 - val_loss: 27.6357\n",
            "Epoch 63/200\n",
            "11/11 [==============================] - 0s 5ms/step - loss: 21.8869 - val_loss: 27.3792\n",
            "Epoch 64/200\n",
            "11/11 [==============================] - 0s 6ms/step - loss: 20.0760 - val_loss: 27.1213\n",
            "Epoch 65/200\n",
            "11/11 [==============================] - 0s 6ms/step - loss: 19.6537 - val_loss: 26.9624\n",
            "Epoch 66/200\n",
            "11/11 [==============================] - 0s 6ms/step - loss: 21.7144 - val_loss: 26.7956\n",
            "Epoch 67/200\n",
            "11/11 [==============================] - 0s 6ms/step - loss: 19.4975 - val_loss: 26.6710\n",
            "Epoch 68/200\n",
            "11/11 [==============================] - 0s 6ms/step - loss: 18.8999 - val_loss: 26.4145\n",
            "Epoch 69/200\n",
            "11/11 [==============================] - 0s 6ms/step - loss: 23.0635 - val_loss: 26.1713\n",
            "Epoch 70/200\n",
            "11/11 [==============================] - 0s 6ms/step - loss: 19.1073 - val_loss: 25.9876\n",
            "Epoch 71/200\n",
            "11/11 [==============================] - 0s 6ms/step - loss: 17.3811 - val_loss: 25.7712\n",
            "Epoch 72/200\n",
            "11/11 [==============================] - 0s 6ms/step - loss: 17.8194 - val_loss: 25.5904\n",
            "Epoch 73/200\n",
            "11/11 [==============================] - 0s 6ms/step - loss: 19.3757 - val_loss: 25.4363\n",
            "Epoch 74/200\n",
            "11/11 [==============================] - 0s 6ms/step - loss: 18.0791 - val_loss: 25.0450\n",
            "Epoch 75/200\n",
            "11/11 [==============================] - 0s 6ms/step - loss: 19.5275 - val_loss: 24.7665\n",
            "Epoch 76/200\n",
            "11/11 [==============================] - 0s 6ms/step - loss: 16.0782 - val_loss: 24.4666\n",
            "Epoch 77/200\n",
            "11/11 [==============================] - 0s 5ms/step - loss: 17.3056 - val_loss: 24.3403\n",
            "Epoch 78/200\n",
            "11/11 [==============================] - 0s 6ms/step - loss: 18.5736 - val_loss: 24.1668\n",
            "Epoch 79/200\n",
            "11/11 [==============================] - 0s 5ms/step - loss: 20.7750 - val_loss: 23.9885\n",
            "Epoch 80/200\n",
            "11/11 [==============================] - 0s 6ms/step - loss: 16.6599 - val_loss: 23.7310\n",
            "Epoch 81/200\n",
            "11/11 [==============================] - 0s 6ms/step - loss: 16.4815 - val_loss: 23.4987\n",
            "Epoch 82/200\n",
            "11/11 [==============================] - 0s 6ms/step - loss: 16.1903 - val_loss: 23.2968\n",
            "Epoch 83/200\n",
            "11/11 [==============================] - 0s 6ms/step - loss: 19.4323 - val_loss: 23.1008\n",
            "Epoch 84/200\n",
            "11/11 [==============================] - 0s 5ms/step - loss: 16.8686 - val_loss: 22.9753\n",
            "Epoch 85/200\n",
            "11/11 [==============================] - 0s 6ms/step - loss: 16.2950 - val_loss: 22.7829\n",
            "Epoch 86/200\n",
            "11/11 [==============================] - 0s 5ms/step - loss: 15.4875 - val_loss: 22.6670\n",
            "Epoch 87/200\n",
            "11/11 [==============================] - 0s 6ms/step - loss: 14.5144 - val_loss: 22.5586\n",
            "Epoch 88/200\n",
            "11/11 [==============================] - 0s 5ms/step - loss: 20.0906 - val_loss: 22.3205\n",
            "Epoch 89/200\n",
            "11/11 [==============================] - 0s 6ms/step - loss: 18.9109 - val_loss: 22.0420\n",
            "Epoch 90/200\n",
            "11/11 [==============================] - 0s 5ms/step - loss: 18.7718 - val_loss: 21.8043\n",
            "Epoch 91/200\n",
            "11/11 [==============================] - 0s 6ms/step - loss: 15.6138 - val_loss: 21.5752\n",
            "Epoch 92/200\n",
            "11/11 [==============================] - 0s 6ms/step - loss: 14.3419 - val_loss: 21.3155\n",
            "Epoch 93/200\n",
            "11/11 [==============================] - 0s 6ms/step - loss: 15.8398 - val_loss: 21.1572\n",
            "Epoch 94/200\n",
            "11/11 [==============================] - 0s 5ms/step - loss: 16.9591 - val_loss: 21.0763\n",
            "Epoch 95/200\n",
            "11/11 [==============================] - 0s 6ms/step - loss: 14.7719 - val_loss: 20.8860\n",
            "Epoch 96/200\n",
            "11/11 [==============================] - 0s 5ms/step - loss: 14.3477 - val_loss: 20.6344\n",
            "Epoch 97/200\n",
            "11/11 [==============================] - 0s 6ms/step - loss: 15.5024 - val_loss: 20.4526\n",
            "Epoch 98/200\n",
            "11/11 [==============================] - 0s 5ms/step - loss: 12.4945 - val_loss: 20.3045\n",
            "Epoch 99/200\n",
            "11/11 [==============================] - 0s 6ms/step - loss: 14.8882 - val_loss: 20.1403\n",
            "Epoch 100/200\n",
            "11/11 [==============================] - 0s 5ms/step - loss: 15.4700 - val_loss: 20.0238\n",
            "Epoch 101/200\n",
            "11/11 [==============================] - 0s 6ms/step - loss: 13.7818 - val_loss: 19.9096\n",
            "Epoch 102/200\n",
            "11/11 [==============================] - 0s 6ms/step - loss: 14.8945 - val_loss: 19.7691\n",
            "Epoch 103/200\n",
            "11/11 [==============================] - 0s 6ms/step - loss: 14.7242 - val_loss: 19.6153\n",
            "Epoch 104/200\n",
            "11/11 [==============================] - 0s 6ms/step - loss: 15.4393 - val_loss: 19.3775\n",
            "Epoch 105/200\n",
            "11/11 [==============================] - 0s 6ms/step - loss: 13.3038 - val_loss: 19.1468\n",
            "Epoch 106/200\n",
            "11/11 [==============================] - 0s 6ms/step - loss: 13.6431 - val_loss: 19.0213\n",
            "Epoch 107/200\n",
            "11/11 [==============================] - 0s 6ms/step - loss: 13.6573 - val_loss: 18.8691\n",
            "Epoch 108/200\n",
            "11/11 [==============================] - 0s 5ms/step - loss: 11.2282 - val_loss: 18.7609\n",
            "Epoch 109/200\n",
            "11/11 [==============================] - 0s 6ms/step - loss: 13.7844 - val_loss: 18.5555\n",
            "Epoch 110/200\n",
            "11/11 [==============================] - 0s 5ms/step - loss: 16.9084 - val_loss: 18.3806\n",
            "Epoch 111/200\n",
            "11/11 [==============================] - 0s 6ms/step - loss: 14.0805 - val_loss: 18.2837\n",
            "Epoch 112/200\n",
            "11/11 [==============================] - 0s 5ms/step - loss: 13.3877 - val_loss: 18.2617\n",
            "Epoch 113/200\n",
            "11/11 [==============================] - 0s 5ms/step - loss: 14.7114 - val_loss: 18.0098\n",
            "Epoch 114/200\n",
            "11/11 [==============================] - 0s 5ms/step - loss: 13.1360 - val_loss: 17.8098\n",
            "Epoch 115/200\n",
            "11/11 [==============================] - 0s 5ms/step - loss: 13.9791 - val_loss: 17.6393\n",
            "Epoch 116/200\n",
            "11/11 [==============================] - 0s 6ms/step - loss: 12.1038 - val_loss: 17.4207\n",
            "Epoch 117/200\n",
            "11/11 [==============================] - 0s 6ms/step - loss: 12.7451 - val_loss: 17.1900\n",
            "Epoch 118/200\n",
            "11/11 [==============================] - 0s 6ms/step - loss: 11.0185 - val_loss: 17.0848\n",
            "Epoch 119/200\n",
            "11/11 [==============================] - 0s 6ms/step - loss: 12.8787 - val_loss: 16.8965\n",
            "Epoch 120/200\n",
            "11/11 [==============================] - 0s 5ms/step - loss: 12.3549 - val_loss: 16.8524\n",
            "Epoch 121/200\n",
            "11/11 [==============================] - 0s 6ms/step - loss: 14.2255 - val_loss: 16.8298\n",
            "Epoch 122/200\n",
            "11/11 [==============================] - 0s 5ms/step - loss: 12.2864 - val_loss: 16.6918\n",
            "Epoch 123/200\n",
            "11/11 [==============================] - 0s 6ms/step - loss: 10.8631 - val_loss: 16.6197\n",
            "Epoch 124/200\n",
            "11/11 [==============================] - 0s 5ms/step - loss: 12.7734 - val_loss: 16.4809\n",
            "Epoch 125/200\n",
            "11/11 [==============================] - 0s 6ms/step - loss: 11.2449 - val_loss: 16.4181\n",
            "Epoch 126/200\n",
            "11/11 [==============================] - 0s 6ms/step - loss: 11.3047 - val_loss: 16.2590\n",
            "Epoch 127/200\n",
            "11/11 [==============================] - 0s 7ms/step - loss: 10.1755 - val_loss: 16.0871\n",
            "Epoch 128/200\n",
            "11/11 [==============================] - 0s 7ms/step - loss: 12.5328 - val_loss: 16.3842\n",
            "Epoch 129/200\n",
            "11/11 [==============================] - 0s 6ms/step - loss: 9.9466 - val_loss: 16.2683\n",
            "Epoch 130/200\n",
            "11/11 [==============================] - 0s 5ms/step - loss: 11.3195 - val_loss: 16.1012\n",
            "Epoch 131/200\n",
            "11/11 [==============================] - 0s 6ms/step - loss: 13.1655 - val_loss: 15.9473\n",
            "Epoch 132/200\n",
            "11/11 [==============================] - 0s 6ms/step - loss: 11.5412 - val_loss: 15.8285\n",
            "Epoch 133/200\n",
            "11/11 [==============================] - 0s 5ms/step - loss: 10.7860 - val_loss: 15.7487\n",
            "Epoch 134/200\n",
            "11/11 [==============================] - 0s 6ms/step - loss: 9.2346 - val_loss: 15.6461\n",
            "Epoch 135/200\n",
            "11/11 [==============================] - 0s 6ms/step - loss: 10.5954 - val_loss: 15.5861\n",
            "Epoch 136/200\n",
            "11/11 [==============================] - 0s 6ms/step - loss: 10.6911 - val_loss: 15.5873\n",
            "Epoch 137/200\n",
            "11/11 [==============================] - 0s 6ms/step - loss: 10.1406 - val_loss: 15.8453\n",
            "Epoch 138/200\n",
            "11/11 [==============================] - 0s 6ms/step - loss: 11.7895 - val_loss: 15.5188\n",
            "Epoch 139/200\n",
            "11/11 [==============================] - 0s 6ms/step - loss: 11.2818 - val_loss: 15.3226\n",
            "Epoch 140/200\n",
            "11/11 [==============================] - 0s 5ms/step - loss: 9.3837 - val_loss: 15.1344\n",
            "Epoch 141/200\n",
            "11/11 [==============================] - 0s 6ms/step - loss: 11.1476 - val_loss: 15.1217\n",
            "Epoch 142/200\n",
            "11/11 [==============================] - 0s 5ms/step - loss: 9.8349 - val_loss: 14.9679\n",
            "Epoch 143/200\n",
            "11/11 [==============================] - 0s 6ms/step - loss: 9.9087 - val_loss: 14.9258\n",
            "Epoch 144/200\n",
            "11/11 [==============================] - 0s 6ms/step - loss: 9.9458 - val_loss: 14.8692\n",
            "Epoch 145/200\n",
            "11/11 [==============================] - 0s 6ms/step - loss: 11.3130 - val_loss: 14.8579\n",
            "Epoch 146/200\n",
            "11/11 [==============================] - 0s 5ms/step - loss: 11.1050 - val_loss: 14.8492\n",
            "Epoch 147/200\n",
            "11/11 [==============================] - 0s 5ms/step - loss: 8.3892 - val_loss: 14.7481\n",
            "Epoch 148/200\n",
            "11/11 [==============================] - 0s 6ms/step - loss: 10.8317 - val_loss: 14.6088\n",
            "Epoch 149/200\n",
            "11/11 [==============================] - 0s 6ms/step - loss: 9.8156 - val_loss: 14.6799\n",
            "Epoch 150/200\n",
            "11/11 [==============================] - 0s 6ms/step - loss: 9.3631 - val_loss: 14.6326\n",
            "Epoch 151/200\n",
            "11/11 [==============================] - 0s 6ms/step - loss: 10.7822 - val_loss: 14.4929\n",
            "Epoch 152/200\n",
            "11/11 [==============================] - 0s 6ms/step - loss: 10.5124 - val_loss: 14.4176\n",
            "Epoch 153/200\n",
            "11/11 [==============================] - 0s 6ms/step - loss: 10.3363 - val_loss: 14.3820\n",
            "Epoch 154/200\n",
            "11/11 [==============================] - 0s 6ms/step - loss: 8.8500 - val_loss: 14.4031\n",
            "Epoch 155/200\n",
            "11/11 [==============================] - 0s 5ms/step - loss: 10.7291 - val_loss: 14.3804\n",
            "Epoch 156/200\n",
            "11/11 [==============================] - 0s 6ms/step - loss: 9.8609 - val_loss: 14.3301\n",
            "Epoch 157/200\n",
            "11/11 [==============================] - 0s 6ms/step - loss: 9.3393 - val_loss: 14.3347\n",
            "Epoch 158/200\n",
            "11/11 [==============================] - 0s 6ms/step - loss: 10.0034 - val_loss: 14.7028\n",
            "Epoch 159/200\n",
            "11/11 [==============================] - 0s 6ms/step - loss: 10.0316 - val_loss: 14.4561\n",
            "Epoch 160/200\n",
            "11/11 [==============================] - 0s 6ms/step - loss: 9.9538 - val_loss: 14.3098\n",
            "Epoch 161/200\n",
            "11/11 [==============================] - 0s 6ms/step - loss: 7.8518 - val_loss: 14.2018\n",
            "Epoch 162/200\n",
            "11/11 [==============================] - 0s 6ms/step - loss: 7.8982 - val_loss: 14.0817\n",
            "Epoch 163/200\n",
            "11/11 [==============================] - 0s 6ms/step - loss: 10.1117 - val_loss: 14.0098\n",
            "Epoch 164/200\n",
            "11/11 [==============================] - 0s 7ms/step - loss: 10.4308 - val_loss: 14.0273\n",
            "Epoch 165/200\n",
            "11/11 [==============================] - 0s 5ms/step - loss: 8.1504 - val_loss: 13.9971\n",
            "Epoch 166/200\n",
            "11/11 [==============================] - 0s 6ms/step - loss: 9.4082 - val_loss: 14.0273\n",
            "Epoch 167/200\n",
            "11/11 [==============================] - 0s 6ms/step - loss: 9.8943 - val_loss: 14.3544\n",
            "Epoch 168/200\n",
            "11/11 [==============================] - 0s 6ms/step - loss: 8.0567 - val_loss: 14.2573\n",
            "Epoch 169/200\n",
            "11/11 [==============================] - 0s 6ms/step - loss: 8.7990 - val_loss: 14.0703\n",
            "Epoch 170/200\n",
            "11/11 [==============================] - 0s 6ms/step - loss: 9.5607 - val_loss: 14.0245\n",
            "Epoch 171/200\n",
            "11/11 [==============================] - 0s 6ms/step - loss: 7.9403 - val_loss: 13.9897\n",
            "Epoch 172/200\n",
            "11/11 [==============================] - 0s 6ms/step - loss: 9.2177 - val_loss: 14.0307\n",
            "Epoch 173/200\n",
            "11/11 [==============================] - 0s 5ms/step - loss: 9.6722 - val_loss: 13.9828\n",
            "Epoch 174/200\n",
            "11/11 [==============================] - 0s 6ms/step - loss: 8.5647 - val_loss: 13.7727\n",
            "Epoch 175/200\n",
            "11/11 [==============================] - 0s 6ms/step - loss: 8.4555 - val_loss: 13.7393\n",
            "Epoch 176/200\n",
            "11/11 [==============================] - 0s 7ms/step - loss: 8.4740 - val_loss: 13.7062\n",
            "Epoch 177/200\n",
            "11/11 [==============================] - 0s 5ms/step - loss: 7.6351 - val_loss: 13.8160\n",
            "Epoch 178/200\n",
            "11/11 [==============================] - 0s 6ms/step - loss: 8.5836 - val_loss: 14.0068\n",
            "Epoch 179/200\n",
            "11/11 [==============================] - 0s 7ms/step - loss: 9.9774 - val_loss: 13.9669\n",
            "Epoch 180/200\n",
            "11/11 [==============================] - 0s 6ms/step - loss: 7.7057 - val_loss: 13.9143\n",
            "Epoch 181/200\n",
            "11/11 [==============================] - 0s 5ms/step - loss: 8.9857 - val_loss: 13.7668\n",
            "Epoch 182/200\n",
            "11/11 [==============================] - 0s 6ms/step - loss: 7.3102 - val_loss: 13.7179\n",
            "Epoch 183/200\n",
            "11/11 [==============================] - 0s 6ms/step - loss: 10.0962 - val_loss: 13.7209\n",
            "Epoch 184/200\n",
            "11/11 [==============================] - 0s 7ms/step - loss: 7.8868 - val_loss: 13.6723\n",
            "Epoch 185/200\n",
            "11/11 [==============================] - 0s 6ms/step - loss: 7.6826 - val_loss: 13.6399\n",
            "Epoch 186/200\n",
            "11/11 [==============================] - 0s 6ms/step - loss: 8.1118 - val_loss: 13.5731\n",
            "Epoch 187/200\n",
            "11/11 [==============================] - 0s 6ms/step - loss: 8.5381 - val_loss: 13.6018\n",
            "Epoch 188/200\n",
            "11/11 [==============================] - 0s 6ms/step - loss: 9.2170 - val_loss: 13.5286\n",
            "Epoch 189/200\n",
            "11/11 [==============================] - 0s 5ms/step - loss: 7.4030 - val_loss: 13.5700\n",
            "Epoch 190/200\n",
            "11/11 [==============================] - 0s 6ms/step - loss: 8.6431 - val_loss: 13.6013\n",
            "Epoch 191/200\n",
            "11/11 [==============================] - 0s 6ms/step - loss: 9.4500 - val_loss: 13.5198\n",
            "Epoch 192/200\n",
            "11/11 [==============================] - 0s 6ms/step - loss: 8.5488 - val_loss: 13.4947\n",
            "Epoch 193/200\n",
            "11/11 [==============================] - 0s 8ms/step - loss: 7.6078 - val_loss: 13.4826\n",
            "Epoch 194/200\n",
            "11/11 [==============================] - 0s 6ms/step - loss: 7.6280 - val_loss: 13.4429\n",
            "Epoch 195/200\n",
            "11/11 [==============================] - 0s 5ms/step - loss: 8.2211 - val_loss: 13.4847\n",
            "Epoch 196/200\n",
            "11/11 [==============================] - 0s 6ms/step - loss: 9.2224 - val_loss: 13.5580\n",
            "Epoch 197/200\n",
            "11/11 [==============================] - 0s 7ms/step - loss: 7.2387 - val_loss: 13.5237\n",
            "Epoch 198/200\n",
            "11/11 [==============================] - 0s 6ms/step - loss: 7.1952 - val_loss: 13.5140\n",
            "Epoch 199/200\n",
            "11/11 [==============================] - 0s 5ms/step - loss: 7.2827 - val_loss: 13.5020\n",
            "Epoch 200/200\n",
            "11/11 [==============================] - 0s 6ms/step - loss: 7.1669 - val_loss: 13.3749\n"
          ],
          "name": "stdout"
        },
        {
          "output_type": "execute_result",
          "data": {
            "text/plain": [
              "<tensorflow.python.keras.callbacks.History at 0x7f91d0e0a410>"
            ]
          },
          "metadata": {
            "tags": []
          },
          "execution_count": 26
        }
      ]
    },
    {
      "cell_type": "code",
      "metadata": {
        "colab": {
          "base_uri": "https://localhost:8080/"
        },
        "id": "F_DTH5Cjva8x",
        "outputId": "b191a589-c08c-49b6-aebd-b8c49acbe315"
      },
      "source": [
        "R_squared(y_test, modelTF2.predict(X_test_scaled).flatten())"
      ],
      "execution_count": 27,
      "outputs": [
        {
          "output_type": "stream",
          "text": [
            "SSE = 36.043846258187415\n",
            "SST = 80.51593497136903\n"
          ],
          "name": "stdout"
        },
        {
          "output_type": "execute_result",
          "data": {
            "text/plain": [
              "0.7995996035816124"
            ]
          },
          "metadata": {
            "tags": []
          },
          "execution_count": 27
        }
      ]
    },
    {
      "cell_type": "code",
      "metadata": {
        "colab": {
          "base_uri": "https://localhost:8080/"
        },
        "id": "2mAdLYenvnOk",
        "outputId": "806325fc-fc88-427c-d425-33c7daeb33bb"
      },
      "source": [
        "modelTF2.evaluate(X_test_scaled, y_test)"
      ],
      "execution_count": 28,
      "outputs": [
        {
          "output_type": "stream",
          "text": [
            "4/4 [==============================] - 0s 2ms/step - loss: 12.7369\n"
          ],
          "name": "stdout"
        },
        {
          "output_type": "execute_result",
          "data": {
            "text/plain": [
              "12.73685073852539"
            ]
          },
          "metadata": {
            "tags": []
          },
          "execution_count": 28
        }
      ]
    },
    {
      "cell_type": "code",
      "metadata": {
        "colab": {
          "base_uri": "https://localhost:8080/"
        },
        "id": "VZHHhjwxv2Zs",
        "outputId": "aa20bf66-5e8c-4825-bfa9-29899a10919e"
      },
      "source": [
        "modelTF2.predict(X_test_scaled)[:,0] - y_test"
      ],
      "execution_count": 29,
      "outputs": [
        {
          "output_type": "execute_result",
          "data": {
            "text/plain": [
              "array([ -1.47560616,  -3.28781471,   1.81520576,   3.14037018,\n",
              "        -5.53947296,  -1.38736153,   4.17818451,  -5.9695507 ,\n",
              "         5.02372742,   6.65250874,  -0.93657684,   0.70539474,\n",
              "         3.56763916,   1.37331123,  -0.30176506,  -1.1961834 ,\n",
              "         0.3839016 ,   1.10175495,   0.38543625,  -1.51117668,\n",
              "        -1.40709572,  -3.53442574,  -3.34291649,  -1.6789505 ,\n",
              "        -1.82613335,  -2.84172363,  -3.97225571,  -0.02308121,\n",
              "         3.28583031, -22.17400932,  -1.10708771,  -3.51550255,\n",
              "        -0.72263107,  -3.38381577,  -2.74402695,   1.80235291,\n",
              "         2.94119492,   0.5085907 ,   2.09241714,   0.89626656,\n",
              "         3.00906258,   1.08293991,  -0.16901569,  -1.21078606,\n",
              "        -0.43290329,  -0.26988373,   1.1957737 ,  -1.23248367,\n",
              "         2.17145805,   2.18128853,   2.39040527,   2.25976219,\n",
              "         0.952005  ,   5.10431404,  -1.03551025,  -0.42396584,\n",
              "        -3.80573292,  -0.92402248,   0.02689629,   0.64727097,\n",
              "         1.17070084,   0.69492836,  -1.55692844,   1.78289604,\n",
              "        -2.16112385,  -0.794701  ,   2.48114891,   1.43429832,\n",
              "         1.15382385,  -2.89354477,   1.92679577,  -2.00245857,\n",
              "        -0.10855618,   0.9398201 ,   1.3286396 ,  -1.18835907,\n",
              "         1.88986588,  -1.77385979,   4.22460556,   1.27756538,\n",
              "         0.81558571,  -0.20387001,  -1.29326859,  -3.2509861 ,\n",
              "        -3.26805725,  -3.95836334,  -1.13683624,   5.04485435,\n",
              "        -0.61899414,   1.09971313,   1.66561584,  -2.86250114,\n",
              "        -3.72170525,  -2.05926094,  -5.50301838,   1.01779251,\n",
              "         1.45583153,   1.56857796,  -2.78581085,  -0.59361649,\n",
              "        -2.02230759, -13.97471237])"
            ]
          },
          "metadata": {
            "tags": []
          },
          "execution_count": 29
        }
      ]
    },
    {
      "cell_type": "code",
      "metadata": {
        "colab": {
          "base_uri": "https://localhost:8080/"
        },
        "id": "XES0J2bOxdJ4",
        "outputId": "cfa38f11-f9b7-41a5-e3ce-8e59a413f27d"
      },
      "source": [
        "y_test.shape\n"
      ],
      "execution_count": 30,
      "outputs": [
        {
          "output_type": "execute_result",
          "data": {
            "text/plain": [
              "(102,)"
            ]
          },
          "metadata": {
            "tags": []
          },
          "execution_count": 30
        }
      ]
    },
    {
      "cell_type": "code",
      "metadata": {
        "colab": {
          "base_uri": "https://localhost:8080/"
        },
        "id": "Uk65bKcmxo1Q",
        "outputId": "54ae7b69-9072-4386-d1b5-d910b9e41af7"
      },
      "source": [
        "modelTF2.predict(X_test_scaled)[:,0].shape"
      ],
      "execution_count": 31,
      "outputs": [
        {
          "output_type": "execute_result",
          "data": {
            "text/plain": [
              "(102,)"
            ]
          },
          "metadata": {
            "tags": []
          },
          "execution_count": 31
        }
      ]
    },
    {
      "cell_type": "code",
      "metadata": {
        "colab": {
          "base_uri": "https://localhost:8080/"
        },
        "id": "C_BZSRDU2ilz",
        "outputId": "31499d3f-2602-49c3-dfcb-5ecdf97697e6"
      },
      "source": [
        "!pip install tensorflow-addons"
      ],
      "execution_count": 32,
      "outputs": [
        {
          "output_type": "stream",
          "text": [
            "Requirement already satisfied: tensorflow-addons in /usr/local/lib/python3.7/dist-packages (0.12.1)\n",
            "Requirement already satisfied: typeguard>=2.7 in /usr/local/lib/python3.7/dist-packages (from tensorflow-addons) (2.7.1)\n"
          ],
          "name": "stdout"
        }
      ]
    },
    {
      "cell_type": "code",
      "metadata": {
        "colab": {
          "base_uri": "https://localhost:8080/"
        },
        "id": "0h5fG6ZrxtP6",
        "outputId": "58413ef9-c28f-43dd-b46b-d1107fc308b2"
      },
      "source": [
        "#verification of my home grown R_squared in numpy\n",
        "import tensorflow_addons as tfa\n",
        "metric = tfa.metrics.r_square.RSquare()\n",
        "metric.update_state(y_test, modelTF2.predict(X_test_scaled).flatten())\n",
        "result = metric.result()\n",
        "result.numpy()"
      ],
      "execution_count": 33,
      "outputs": [
        {
          "output_type": "execute_result",
          "data": {
            "text/plain": [
              "0.79959965"
            ]
          },
          "metadata": {
            "tags": []
          },
          "execution_count": 33
        }
      ]
    },
    {
      "cell_type": "code",
      "metadata": {
        "colab": {
          "base_uri": "https://localhost:8080/"
        },
        "id": "ngj_Y9wv1jWg",
        "outputId": "8beffa7d-1d25-49b5-9b0f-145e3edbfaeb"
      },
      "source": [
        "# layers[0] is the 100 node Dense layer with Input size (D,) where D = # of features = 13 for the Boston data\n",
        "# get_weights returns the D*M weight matrix of the later, where D is input dim, M is output dim at index 0, AND the bias vector of dim M at index 1\n",
        "print(modelTF2.layers[0].get_weights()[0].shape)\n",
        "modelTF2.layers[0].get_weights()[1].shape"
      ],
      "execution_count": 34,
      "outputs": [
        {
          "output_type": "stream",
          "text": [
            "(13, 100)\n"
          ],
          "name": "stdout"
        },
        {
          "output_type": "execute_result",
          "data": {
            "text/plain": [
              "(100,)"
            ]
          },
          "metadata": {
            "tags": []
          },
          "execution_count": 34
        }
      ]
    },
    {
      "cell_type": "code",
      "metadata": {
        "colab": {
          "base_uri": "https://localhost:8080/"
        },
        "id": "MUn6dcVwCjPp",
        "outputId": "9c9acb52-2820-4db7-d062-61dac35e0d23"
      },
      "source": [
        "X_train.shape"
      ],
      "execution_count": 35,
      "outputs": [
        {
          "output_type": "execute_result",
          "data": {
            "text/plain": [
              "(404, 13)"
            ]
          },
          "metadata": {
            "tags": []
          },
          "execution_count": 35
        }
      ]
    },
    {
      "cell_type": "code",
      "metadata": {
        "colab": {
          "base_uri": "https://localhost:8080/"
        },
        "id": "oZ4ppiTXDJ0y",
        "outputId": "8ad78174-d936-46e9-e0a9-6387e4bcbb29"
      },
      "source": [
        "# the 2nd Dense layer is D = 100, M = 1\n",
        "print(modelTF2.layers[1].get_weights()[0].shape)\n",
        "modelTF2.layers[1].get_weights()[1].shape"
      ],
      "execution_count": 36,
      "outputs": [
        {
          "output_type": "stream",
          "text": [
            "(100, 1)\n"
          ],
          "name": "stdout"
        },
        {
          "output_type": "execute_result",
          "data": {
            "text/plain": [
              "(1,)"
            ]
          },
          "metadata": {
            "tags": []
          },
          "execution_count": 36
        }
      ]
    },
    {
      "cell_type": "code",
      "metadata": {
        "id": "99yIEoT2EGTM"
      },
      "source": [
        "modelTF2.save('modelTF2.h5')"
      ],
      "execution_count": 37,
      "outputs": []
    },
    {
      "cell_type": "code",
      "metadata": {
        "colab": {
          "base_uri": "https://localhost:8080/"
        },
        "id": "S9-__V3myoXZ",
        "outputId": "888ac45a-318a-40cc-bba0-ab65d030d6a7"
      },
      "source": [
        "%ls"
      ],
      "execution_count": 38,
      "outputs": [
        {
          "output_type": "stream",
          "text": [
            "modelTF2.h5  \u001b[0m\u001b[01;34msample_data\u001b[0m/\n"
          ],
          "name": "stdout"
        }
      ]
    },
    {
      "cell_type": "code",
      "metadata": {
        "id": "XWiJJg6Wypl2"
      },
      "source": [
        "model_again = tf.keras.models.load_model('modelTF2.h5')"
      ],
      "execution_count": 39,
      "outputs": []
    },
    {
      "cell_type": "code",
      "metadata": {
        "colab": {
          "base_uri": "https://localhost:8080/"
        },
        "id": "ht7dcsNny_zp",
        "outputId": "60b96dca-3ab7-44e2-b467-97fa07a92295"
      },
      "source": [
        "R_squared(y_test, model_again.predict(X_test_scaled).flatten())"
      ],
      "execution_count": 40,
      "outputs": [
        {
          "output_type": "stream",
          "text": [
            "SSE = 36.043846258187415\n",
            "SST = 80.51593497136903\n"
          ],
          "name": "stdout"
        },
        {
          "output_type": "execute_result",
          "data": {
            "text/plain": [
              "0.7995996035816124"
            ]
          },
          "metadata": {
            "tags": []
          },
          "execution_count": 40
        }
      ]
    },
    {
      "cell_type": "code",
      "metadata": {
        "colab": {
          "base_uri": "https://localhost:8080/"
        },
        "id": "hVd8SeZJzQm2",
        "outputId": "99344380-dda5-4f30-9502-0bd6547d4797"
      },
      "source": [
        "model_again.layers"
      ],
      "execution_count": 42,
      "outputs": [
        {
          "output_type": "execute_result",
          "data": {
            "text/plain": [
              "[<tensorflow.python.keras.layers.core.Dense at 0x7f91cbd89150>,\n",
              " <tensorflow.python.keras.layers.core.Dense at 0x7f91cc1204d0>]"
            ]
          },
          "metadata": {
            "tags": []
          },
          "execution_count": 42
        }
      ]
    },
    {
      "cell_type": "code",
      "metadata": {
        "id": "ubIKC37wz-HN"
      },
      "source": [
        ""
      ],
      "execution_count": null,
      "outputs": []
    }
  ]
}