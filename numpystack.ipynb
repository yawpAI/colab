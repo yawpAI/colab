{
  "nbformat": 4,
  "nbformat_minor": 0,
  "metadata": {
    "colab": {
      "name": "numpystack.ipynb",
      "provenance": [],
      "collapsed_sections": [],
      "authorship_tag": "ABX9TyMBzLVsCC9eFycA3gZWx+EP",
      "include_colab_link": true
    },
    "kernelspec": {
      "name": "python3",
      "display_name": "Python 3"
    },
    "language_info": {
      "name": "python"
    }
  },
  "cells": [
    {
      "cell_type": "markdown",
      "metadata": {
        "id": "view-in-github",
        "colab_type": "text"
      },
      "source": [
        "<a href=\"https://colab.research.google.com/github/yawpAI/colab/blob/main/numpystack.ipynb\" target=\"_parent\"><img src=\"https://colab.research.google.com/assets/colab-badge.svg\" alt=\"Open In Colab\"/></a>"
      ]
    },
    {
      "cell_type": "code",
      "metadata": {
        "id": "Z3FHg6Q4XB0u"
      },
      "source": [
        "import numpy as np  \n",
        "import matplotlib.pyplot as plt\n",
        "import tensorflow as tf\n",
        "\n"
      ],
      "execution_count": 37,
      "outputs": []
    },
    {
      "cell_type": "code",
      "metadata": {
        "colab": {
          "base_uri": "https://localhost:8080/"
        },
        "id": "4wYiI5a-XeNe",
        "outputId": "1a1d82cf-ace8-41a1-91e0-4553b6ee7b3b"
      },
      "source": [
        "A = np.array([[0.3, 0.6, 0.1],[0.5, 0.2, 0.3],[0.4,0.1,0.5]])\n",
        "v = np.array([1/3, 1/3, 1/3])\n",
        "print(A)\n",
        "print(v)"
      ],
      "execution_count": 15,
      "outputs": [
        {
          "output_type": "stream",
          "text": [
            "[[0.3 0.6 0.1]\n",
            " [0.5 0.2 0.3]\n",
            " [0.4 0.1 0.5]]\n",
            "[0.33333333 0.33333333 0.33333333]\n"
          ],
          "name": "stdout"
        }
      ]
    },
    {
      "cell_type": "code",
      "metadata": {
        "id": "nztzOfnbXwTl"
      },
      "source": [
        "v1s = []\n",
        "distances = []\n",
        "vee = v\n",
        "for i in range(25):\n",
        "  v1 = vee.dot(A)\n",
        "  v1s.append(v1)\n",
        "  distances.append(np.linalg.norm(vee - v1))\n",
        "  vee = v1\n",
        "\n"
      ],
      "execution_count": 16,
      "outputs": []
    },
    {
      "cell_type": "code",
      "metadata": {
        "colab": {
          "base_uri": "https://localhost:8080/"
        },
        "id": "HpDZrSfUX-bU",
        "outputId": "b47b8bc5-1b3b-4842-c117-3fda0f27b4d7"
      },
      "source": [
        "v1s"
      ],
      "execution_count": 17,
      "outputs": [
        {
          "output_type": "execute_result",
          "data": {
            "text/plain": [
              "[array([0.4, 0.3, 0.3]),\n",
              " array([0.39, 0.33, 0.28]),\n",
              " array([0.394, 0.328, 0.278]),\n",
              " array([0.3934, 0.3298, 0.2768]),\n",
              " array([0.39364, 0.32968, 0.27668]),\n",
              " array([0.393604, 0.329788, 0.276608]),\n",
              " array([0.3936184, 0.3297808, 0.2766008]),\n",
              " array([0.39361624, 0.32978728, 0.27659648]),\n",
              " array([0.3936171 , 0.32978685, 0.27659605]),\n",
              " array([0.39361697, 0.32978724, 0.27659579]),\n",
              " array([0.39361703, 0.32978721, 0.27659576]),\n",
              " array([0.39361702, 0.32978723, 0.27659575]),\n",
              " array([0.39361702, 0.32978723, 0.27659575]),\n",
              " array([0.39361702, 0.32978723, 0.27659574]),\n",
              " array([0.39361702, 0.32978723, 0.27659574]),\n",
              " array([0.39361702, 0.32978723, 0.27659574]),\n",
              " array([0.39361702, 0.32978723, 0.27659574]),\n",
              " array([0.39361702, 0.32978723, 0.27659574]),\n",
              " array([0.39361702, 0.32978723, 0.27659574]),\n",
              " array([0.39361702, 0.32978723, 0.27659574]),\n",
              " array([0.39361702, 0.32978723, 0.27659574]),\n",
              " array([0.39361702, 0.32978723, 0.27659574]),\n",
              " array([0.39361702, 0.32978723, 0.27659574]),\n",
              " array([0.39361702, 0.32978723, 0.27659574]),\n",
              " array([0.39361702, 0.32978723, 0.27659574])]"
            ]
          },
          "metadata": {
            "tags": []
          },
          "execution_count": 17
        }
      ]
    },
    {
      "cell_type": "code",
      "metadata": {
        "colab": {
          "base_uri": "https://localhost:8080/"
        },
        "id": "v3ZxcLvJYHrw",
        "outputId": "b0ac2cf8-8ad4-4e08-a482-8db20773e121"
      },
      "source": [
        "distances"
      ],
      "execution_count": 18,
      "outputs": [
        {
          "output_type": "execute_result",
          "data": {
            "text/plain": [
              "[0.08164965809277262,\n",
              " 0.03741657386773942,\n",
              " 0.004898979485566406,\n",
              " 0.002244994432064385,\n",
              " 0.00029393876913402604,\n",
              " 0.00013469966592392243,\n",
              " 1.7636326148047455e-05,\n",
              " 8.08197995540597e-06,\n",
              " 1.0581795688239251e-06,\n",
              " 4.849187973169401e-07,\n",
              " 6.349077410586669e-08,\n",
              " 2.909512781972964e-08,\n",
              " 3.809446394228636e-09,\n",
              " 1.7457076294233546e-09,\n",
              " 2.285667795745017e-10,\n",
              " 1.0474244352286645e-10,\n",
              " 1.3714019918660252e-11,\n",
              " 6.2845801410349365e-12,\n",
              " 8.228692970339167e-13,\n",
              " 3.7704157935026525e-13,\n",
              " 4.9381248718457325e-14,\n",
              " 2.2639704286750972e-14,\n",
              " 2.94627755741752e-15,\n",
              " 1.3653937842860002e-15,\n",
              " 2.0770370905276122e-16]"
            ]
          },
          "metadata": {
            "tags": []
          },
          "execution_count": 18
        }
      ]
    },
    {
      "cell_type": "code",
      "metadata": {
        "colab": {
          "base_uri": "https://localhost:8080/",
          "height": 282
        },
        "id": "pMAY_M4KZgxe",
        "outputId": "1f6b3011-ab80-433e-82f4-ee0667f3694f"
      },
      "source": [
        "plt.plot(distances)"
      ],
      "execution_count": 20,
      "outputs": [
        {
          "output_type": "execute_result",
          "data": {
            "text/plain": [
              "[<matplotlib.lines.Line2D at 0x7f32b9f72ad0>]"
            ]
          },
          "metadata": {
            "tags": []
          },
          "execution_count": 20
        },
        {
          "output_type": "display_data",
          "data": {
            "image/png": "[encoded data removed]",
            "text/plain": [
              "<Figure size 432x288 with 1 Axes>"
            ]
          },
          "metadata": {
            "tags": [],
            "needs_background": "light"
          }
        }
      ]
    },
    {
      "cell_type": "code",
      "metadata": {
        "colab": {
          "base_uri": "https://localhost:8080/"
        },
        "id": "72YaqBXtZqVo",
        "outputId": "223b727d-a59a-44b8-ad7c-845fda23ae1f"
      },
      "source": [
        "v1s[-1]"
      ],
      "execution_count": 21,
      "outputs": [
        {
          "output_type": "execute_result",
          "data": {
            "text/plain": [
              "array([0.39361702, 0.32978723, 0.27659574])"
            ]
          },
          "metadata": {
            "tags": []
          },
          "execution_count": 21
        }
      ]
    },
    {
      "cell_type": "code",
      "metadata": {
        "colab": {
          "base_uri": "https://localhost:8080/"
        },
        "id": "3XRIef9GZ4sK",
        "outputId": "495483cb-eaa8-4b39-a754-f6b401b098a4"
      },
      "source": [
        "v1s[-1].dot(A)"
      ],
      "execution_count": 22,
      "outputs": [
        {
          "output_type": "execute_result",
          "data": {
            "text/plain": [
              "array([0.39361702, 0.32978723, 0.27659574])"
            ]
          },
          "metadata": {
            "tags": []
          },
          "execution_count": 22
        }
      ]
    },
    {
      "cell_type": "code",
      "metadata": {
        "colab": {
          "base_uri": "https://localhost:8080/"
        },
        "id": "A-JHRwjMZ8l8",
        "outputId": "8099e0c7-0da6-4483-f913-1b841b7c861e"
      },
      "source": [
        "np.allclose(v1s[-1].dot(np.eye(3)), v1s[-1].dot(A)) #found the eigenvector (last v1 after the iteration) for which eigenvalue == 1"
      ],
      "execution_count": 25,
      "outputs": [
        {
          "output_type": "execute_result",
          "data": {
            "text/plain": [
              "True"
            ]
          },
          "metadata": {
            "tags": []
          },
          "execution_count": 25
        }
      ]
    },
    {
      "cell_type": "code",
      "metadata": {
        "colab": {
          "base_uri": "https://localhost:8080/",
          "height": 265
        },
        "id": "kUkJe1r2aNai",
        "outputId": "6fc06412-5f70-4e9c-b7d5-54a7d0ffe9e5"
      },
      "source": [
        "# CLT sum an of any iid RV approaches normal\n",
        "sums = []\n",
        "for i in range(10000):\n",
        "  X = np.random.random(10000)\n",
        "  sums.append(X.sum())\n",
        "\n",
        "plt.hist(np.array(sums), bins=50);"
      ],
      "execution_count": 32,
      "outputs": [
        {
          "output_type": "display_data",
          "data": {
            "image/png": "[encoded data removed]",
            "text/plain": [
              "<Figure size 432x288 with 1 Axes>"
            ]
          },
          "metadata": {
            "tags": [],
            "needs_background": "light"
          }
        }
      ]
    },
    {
      "cell_type": "code",
      "metadata": {
        "colab": {
          "base_uri": "https://localhost:8080/"
        },
        "id": "qGvp4n1la64U",
        "outputId": "4664f509-82e0-4333-965c-3abadc42ab4c"
      },
      "source": [
        "#mean should be 0.5 * 10000 = 5000\n",
        "np.array(sums).mean()"
      ],
      "execution_count": 33,
      "outputs": [
        {
          "output_type": "execute_result",
          "data": {
            "text/plain": [
              "4999.8402649388245"
            ]
          },
          "metadata": {
            "tags": []
          },
          "execution_count": 33
        }
      ]
    },
    {
      "cell_type": "code",
      "metadata": {
        "colab": {
          "base_uri": "https://localhost:8080/"
        },
        "id": "LUXJlGnpbu5a",
        "outputId": "dbe3a668-9614-462f-fdda-7d5a55007915"
      },
      "source": [
        "# var of uniform is (b-a)^2 / 12\n",
        "# var of a sum is the sum of the vars, so should be\n",
        "10000/12\n"
      ],
      "execution_count": 34,
      "outputs": [
        {
          "output_type": "execute_result",
          "data": {
            "text/plain": [
              "833.3333333333334"
            ]
          },
          "metadata": {
            "tags": []
          },
          "execution_count": 34
        }
      ]
    },
    {
      "cell_type": "code",
      "metadata": {
        "colab": {
          "base_uri": "https://localhost:8080/"
        },
        "id": "Kj09w5YNcvIi",
        "outputId": "90fd2185-95e3-4819-c10f-beb5be542c2a"
      },
      "source": [
        "np.array(sums).var()"
      ],
      "execution_count": 36,
      "outputs": [
        {
          "output_type": "execute_result",
          "data": {
            "text/plain": [
              "823.7763094231077"
            ]
          },
          "metadata": {
            "tags": []
          },
          "execution_count": 36
        }
      ]
    },
    {
      "cell_type": "code",
      "metadata": {
        "colab": {
          "base_uri": "https://localhost:8080/"
        },
        "id": "ClIFpYlFc04N",
        "outputId": "dd846be0-8a50-4729-e7d4-aa3129acaec1"
      },
      "source": [
        "MNIST_URL = 'https://storage.googleapis.com/tensorflow/tf-keras-datasets/mnist.npz'\n",
        "path = tf.keras.utils.get_file('mnist.npz', MNIST_URL)\n",
        "with np.load(path) as data:\n",
        "  train_examples=data['x_train']\n",
        "  train_labels=data['y_train']\n",
        "  test_examples=data['x_test']\n",
        "  test_labels=data['y_test']\n",
        "\n",
        "\n"
      ],
      "execution_count": 38,
      "outputs": [
        {
          "output_type": "stream",
          "text": [
            "Downloading data from https://storage.googleapis.com/tensorflow/tf-keras-datasets/mnist.npz\n",
            "11493376/11490434 [==============================] - 0s 0us/step\n"
          ],
          "name": "stdout"
        }
      ]
    },
    {
      "cell_type": "code",
      "metadata": {
        "colab": {
          "base_uri": "https://localhost:8080/"
        },
        "id": "RJ78P-6-fpdn",
        "outputId": "e0e2fca2-10b7-4857-909c-03a53a8ac195"
      },
      "source": [
        "train_examples[0].shape"
      ],
      "execution_count": 44,
      "outputs": [
        {
          "output_type": "execute_result",
          "data": {
            "text/plain": [
              "(28, 28)"
            ]
          },
          "metadata": {
            "tags": []
          },
          "execution_count": 44
        }
      ]
    },
    {
      "cell_type": "code",
      "metadata": {
        "id": "yHNLIrDAfHRI"
      },
      "source": [
        "# compute the mean image for each digit\n",
        "mean_img = []\n",
        "for i in range(10):\n",
        "  indices = np.where(train_labels == i)\n",
        "  sum = np.zeros((28,28))\n",
        "  count = 0\n",
        "  for idx in np.nditer(indices):\n",
        "    sum += train_examples[idx]\n",
        "    count += 1\n",
        "  mean_img.append(sum / count)\n",
        "  "
      ],
      "execution_count": 53,
      "outputs": []
    },
    {
      "cell_type": "code",
      "metadata": {
        "colab": {
          "base_uri": "https://localhost:8080/",
          "height": 80
        },
        "id": "WR7KTMF1gCql",
        "outputId": "74747ad7-adae-4da9-bc49-5d1de77507b5"
      },
      "source": [
        "plt.imshow(mean_img[3], cmap='gray')\n",
        "pos = 1\n",
        "for i in range(len(mean_img)):\n",
        "  plt.subplot(1,10,pos)\n",
        "  plt.imshow(mean_img[i], cmap='gray')\n",
        "  pos += 1"
      ],
      "execution_count": 66,
      "outputs": [
        {
          "output_type": "display_data",
          "data": {
            "image/png": "[encoded data removed]",
            "text/plain": [
              "<Figure size 432x288 with 10 Axes>"
            ]
          },
          "metadata": {
            "tags": [],
            "needs_background": "light"
          }
        }
      ]
    },
    {
      "cell_type": "code",
      "metadata": {
        "id": "kNoE57zHh_6q"
      },
      "source": [
        ""
      ],
      "execution_count": null,
      "outputs": []
    }
  ]
}