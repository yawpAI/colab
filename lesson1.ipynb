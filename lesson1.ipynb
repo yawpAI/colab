{
  "nbformat": 4,
  "nbformat_minor": 0,
  "metadata": {
    "colab": {
      "name": "lesson1.ipynb",
      "provenance": [],
      "collapsed_sections": [],
      "authorship_tag": "ABX9TyN/K6IAhXEE80rT3ypj+3QV",
      "include_colab_link": true
    },
    "kernelspec": {
      "name": "python3",
      "display_name": "Python 3"
    },
    "language_info": {
      "name": "python"
    }
  },
  "cells": [
    {
      "cell_type": "markdown",
      "metadata": {
        "id": "view-in-github",
        "colab_type": "text"
      },
      "source": [
        "<a href=\"https://colab.research.google.com/github/yawpAI/colab/blob/main/lesson1.ipynb\" target=\"_parent\"><img src=\"https://colab.research.google.com/assets/colab-badge.svg\" alt=\"Open In Colab\"/></a>"
      ]
    },
    {
      "cell_type": "code",
      "metadata": {
        "colab": {
          "base_uri": "https://localhost:8080/"
        },
        "id": "VQjkvWUdteSh",
        "outputId": "48764328-9e27-4abc-a02c-3626d80c7368"
      },
      "source": [
        "from google.colab import drive\n",
        "drive.mount('/content/drive', force_remount=True)"
      ],
      "execution_count": 31,
      "outputs": [
        {
          "output_type": "stream",
          "text": [
            "Mounted at /content/drive\n"
          ],
          "name": "stdout"
        }
      ]
    },
    {
      "cell_type": "code",
      "metadata": {
        "id": "mp0s_hNEtI5b"
      },
      "source": [
        "!apt-get install openjdk-8-jdk-headless -qq > /dev/null\n"
      ],
      "execution_count": null,
      "outputs": []
    },
    {
      "cell_type": "code",
      "metadata": {
        "id": "57SaiNwXtQqD"
      },
      "source": [
        "!wget -q https://www-us.apache.org/dist/spark/spark-3.1.1/spark-3.1.1-bin-hadoop2.7.tgz"
      ],
      "execution_count": null,
      "outputs": []
    },
    {
      "cell_type": "code",
      "metadata": {
        "id": "wHl24c0AtXgJ"
      },
      "source": [
        "!tar xf spark-3.1.1-bin-hadoop2.7.tgz"
      ],
      "execution_count": null,
      "outputs": []
    },
    {
      "cell_type": "code",
      "metadata": {
        "id": "nkPGSnDEua3-"
      },
      "source": [
        "!pip install -q findspark"
      ],
      "execution_count": null,
      "outputs": []
    },
    {
      "cell_type": "code",
      "metadata": {
        "id": "rUgAcG8BueJF"
      },
      "source": [
        "import os\n",
        "os.environ[\"JAVA_HOME\"] = \"/usr/lib/jvm/java-8-openjdk-amd64\"\n",
        "os.environ[\"SPARK_HOME\"] = \"/content/spark-3.1.1-bin-hadoop2.7\""
      ],
      "execution_count": null,
      "outputs": []
    },
    {
      "cell_type": "code",
      "metadata": {
        "id": "9cPFhx5EumPh"
      },
      "source": [
        "import findspark\n",
        "findspark.init()\n"
      ],
      "execution_count": null,
      "outputs": []
    },
    {
      "cell_type": "code",
      "metadata": {
        "colab": {
          "base_uri": "https://localhost:8080/",
          "height": 35
        },
        "id": "npWhD-D5urfh",
        "outputId": "afd67ac2-6841-4db3-9558-677a8c5f2ae0"
      },
      "source": [
        "findspark.find()"
      ],
      "execution_count": null,
      "outputs": [
        {
          "output_type": "execute_result",
          "data": {
            "application/vnd.google.colaboratory.intrinsic+json": {
              "type": "string"
            },
            "text/plain": [
              "'/content/spark-3.1.1-bin-hadoop2.7'"
            ]
          },
          "metadata": {
            "tags": []
          },
          "execution_count": 10
        }
      ]
    },
    {
      "cell_type": "code",
      "metadata": {
        "id": "66sZddzKuvcM"
      },
      "source": [
        "from pyspark.sql import SparkSession\n",
        "\n",
        "spark = SparkSession.builder\\\n",
        "        .master(\"local\")\\\n",
        "        .appName(\"Colab\")\\\n",
        "        .config('spark.ui.port', '4050')\\\n",
        "        .getOrCreate()"
      ],
      "execution_count": null,
      "outputs": []
    },
    {
      "cell_type": "code",
      "metadata": {
        "colab": {
          "base_uri": "https://localhost:8080/",
          "height": 216
        },
        "id": "8u094LH0u0Um",
        "outputId": "bedb6135-d03c-4fcc-f7d8-4802146f4fdf"
      },
      "source": [
        "spark"
      ],
      "execution_count": null,
      "outputs": [
        {
          "output_type": "execute_result",
          "data": {
            "text/html": [
              "\n",
              "            <div>\n",
              "                <p><b>SparkSession - in-memory</b></p>\n",
              "                \n",
              "        <div>\n",
              "            <p><b>SparkContext</b></p>\n",
              "\n",
              "            <p><a href=\"http://57d5185b5162:4050\">Spark UI</a></p>\n",
              "\n",
              "            <dl>\n",
              "              <dt>Version</dt>\n",
              "                <dd><code>v3.1.1</code></dd>\n",
              "              <dt>Master</dt>\n",
              "                <dd><code>local</code></dd>\n",
              "              <dt>AppName</dt>\n",
              "                <dd><code>Colab</code></dd>\n",
              "            </dl>\n",
              "        </div>\n",
              "        \n",
              "            </div>\n",
              "        "
            ],
            "text/plain": [
              "<pyspark.sql.session.SparkSession at 0x7f9973810190>"
            ]
          },
          "metadata": {
            "tags": []
          },
          "execution_count": 12
        }
      ]
    },
    {
      "cell_type": "code",
      "metadata": {
        "colab": {
          "base_uri": "https://localhost:8080/"
        },
        "id": "QrSlSprYu475",
        "outputId": "193f0266-8152-4774-fe4a-e305039d1e24"
      },
      "source": [
        "!wget https://bin.equinox.io/c/4VmDzA7iaHb/ngrok-stable-linux-amd64.zip\n",
        "!unzip ngrok-stable-linux-amd64.zip\n",
        "get_ipython().system_raw('./ngrok http 4050 &')\n",
        "!curl -s http://localhost:4040/api/tunnels"
      ],
      "execution_count": null,
      "outputs": [
        {
          "output_type": "stream",
          "text": [
            "--2021-04-11 21:01:08--  https://bin.equinox.io/c/4VmDzA7iaHb/ngrok-stable-linux-amd64.zip\n",
            "Resolving bin.equinox.io (bin.equinox.io)... 3.222.240.112, 54.175.245.12, 34.225.127.47, ...\n",
            "Connecting to bin.equinox.io (bin.equinox.io)|3.222.240.112|:443... connected.\n",
            "HTTP request sent, awaiting response... 200 OK\n",
            "Length: 14746350 (14M) [application/octet-stream]\n",
            "Saving to: ‘ngrok-stable-linux-amd64.zip’\n",
            "\n",
            "ngrok-stable-linux- 100%[===================>]  14.06M  76.0MB/s    in 0.2s    \n",
            "\n",
            "2021-04-11 21:01:09 (76.0 MB/s) - ‘ngrok-stable-linux-amd64.zip’ saved [14746350/14746350]\n",
            "\n",
            "Archive:  ngrok-stable-linux-amd64.zip\n",
            "  inflating: ngrok                   \n",
            "{\"tunnels\":[],\"uri\":\"/api/tunnels\"}\n"
          ],
          "name": "stdout"
        }
      ]
    },
    {
      "cell_type": "code",
      "metadata": {
        "colab": {
          "base_uri": "https://localhost:8080/"
        },
        "id": "XM3k6RBUvPyk",
        "outputId": "6b4a6be1-445a-48d0-e9d7-a46b6f2d326f"
      },
      "source": [
        "!curl -s http://localhost:4040/api/tunnels"
      ],
      "execution_count": null,
      "outputs": [
        {
          "output_type": "stream",
          "text": [
            "{\"tunnels\":[{\"name\":\"command_line\",\"uri\":\"/api/tunnels/command_line\",\"public_url\":\"https://1faaca223273.ngrok.io\",\"proto\":\"https\",\"config\":{\"addr\":\"http://localhost:4050\",\"inspect\":true},\"metrics\":{\"conns\":{\"count\":0,\"gauge\":0,\"rate1\":0,\"rate5\":0,\"rate15\":0,\"p50\":0,\"p90\":0,\"p95\":0,\"p99\":0},\"http\":{\"count\":0,\"rate1\":0,\"rate5\":0,\"rate15\":0,\"p50\":0,\"p90\":0,\"p95\":0,\"p99\":0}}},{\"name\":\"command_line (http)\",\"uri\":\"/api/tunnels/command_line%20%28http%29\",\"public_url\":\"http://1faaca223273.ngrok.io\",\"proto\":\"http\",\"config\":{\"addr\":\"http://localhost:4050\",\"inspect\":true},\"metrics\":{\"conns\":{\"count\":0,\"gauge\":0,\"rate1\":0,\"rate5\":0,\"rate15\":0,\"p50\":0,\"p90\":0,\"p95\":0,\"p99\":0},\"http\":{\"count\":0,\"rate1\":0,\"rate5\":0,\"rate15\":0,\"p50\":0,\"p90\":0,\"p95\":0,\"p99\":0}}}],\"uri\":\"/api/tunnels\"}\n"
          ],
          "name": "stdout"
        }
      ]
    },
    {
      "cell_type": "code",
      "metadata": {
        "id": "4G-3r4Snv7q7",
        "colab": {
          "base_uri": "https://localhost:8080/"
        },
        "outputId": "266eca69-269f-4ecb-c8b6-2526f7d60407"
      },
      "source": [
        "!pip install pyarrow"
      ],
      "execution_count": 15,
      "outputs": [
        {
          "output_type": "stream",
          "text": [
            "Requirement already satisfied: pyarrow in /usr/local/lib/python3.7/dist-packages (3.0.0)\n",
            "Requirement already satisfied: numpy>=1.16.6 in /usr/local/lib/python3.7/dist-packages (from pyarrow) (1.19.5)\n"
          ],
          "name": "stdout"
        }
      ]
    },
    {
      "cell_type": "code",
      "metadata": {
        "colab": {
          "base_uri": "https://localhost:8080/"
        },
        "id": "jxl1xRi99074",
        "outputId": "7664ead0-bee9-4685-b0df-464e1c32c010"
      },
      "source": [
        "df = spark.createDataFrame([{'hello':'cat'} for x in range(1000)])\n",
        "df.show(5, False)"
      ],
      "execution_count": 17,
      "outputs": [
        {
          "output_type": "stream",
          "text": [
            "+-----+\n",
            "|hello|\n",
            "+-----+\n",
            "|cat  |\n",
            "|cat  |\n",
            "|cat  |\n",
            "|cat  |\n",
            "|cat  |\n",
            "+-----+\n",
            "only showing top 5 rows\n",
            "\n"
          ],
          "name": "stdout"
        }
      ]
    },
    {
      "cell_type": "code",
      "metadata": {
        "id": "-E7awisg9-7z"
      },
      "source": [
        "path = '/content/drive/MyDrive/1CodeScripts/section2/cancer_tumor.csv'\n",
        "dataset = spark.read.csv(path, inferSchema=True, header=True)"
      ],
      "execution_count": 28,
      "outputs": []
    },
    {
      "cell_type": "code",
      "metadata": {
        "colab": {
          "base_uri": "https://localhost:8080/"
        },
        "id": "DUIl62Vk_4bU",
        "outputId": "29bd46d4-ae55-4e6e-9e38-0c13d84fd56c"
      },
      "source": [
        "dataset.printSchema()"
      ],
      "execution_count": 24,
      "outputs": [
        {
          "output_type": "stream",
          "text": [
            "root\n",
            " |-- diagnosis: string (nullable = true)\n",
            " |-- radius_mean: double (nullable = true)\n",
            " |-- texture_mean: double (nullable = true)\n",
            " |-- perimeter_mean: double (nullable = true)\n",
            " |-- area_mean: double (nullable = true)\n",
            " |-- smoothness_mean: double (nullable = true)\n",
            " |-- compactness_mean: double (nullable = true)\n",
            " |-- concavity_mean: double (nullable = true)\n",
            " |-- concave points_mean: double (nullable = true)\n",
            " |-- symmetry_mean: double (nullable = true)\n",
            " |-- fractal_dimension_mean: double (nullable = true)\n",
            " |-- radius_se: double (nullable = true)\n",
            " |-- texture_se: double (nullable = true)\n",
            " |-- perimeter_se: double (nullable = true)\n",
            " |-- area_se: double (nullable = true)\n",
            " |-- smoothness_se: double (nullable = true)\n",
            " |-- compactness_se: double (nullable = true)\n",
            " |-- concavity_se: double (nullable = true)\n",
            " |-- concave points_se: double (nullable = true)\n",
            " |-- symmetry_se: double (nullable = true)\n",
            " |-- fractal_dimension_se: double (nullable = true)\n",
            " |-- radius_worst: double (nullable = true)\n",
            " |-- texture_worst: double (nullable = true)\n",
            " |-- perimeter_worst: double (nullable = true)\n",
            " |-- area_worst: double (nullable = true)\n",
            " |-- smoothness_worst: double (nullable = true)\n",
            " |-- compactness_worst: double (nullable = true)\n",
            " |-- concavity_worst: double (nullable = true)\n",
            " |-- concave points_worst: double (nullable = true)\n",
            " |-- symmetry_worst: double (nullable = true)\n",
            " |-- fractal_dimension_worst: double (nullable = true)\n",
            "\n"
          ],
          "name": "stdout"
        }
      ]
    },
    {
      "cell_type": "code",
      "metadata": {
        "colab": {
          "base_uri": "https://localhost:8080/"
        },
        "id": "zW5ouZT7A8UL",
        "outputId": "b24ef495-28f0-4ef7-9010-ec0f3b00757a"
      },
      "source": [
        "dataset.show()"
      ],
      "execution_count": 25,
      "outputs": [
        {
          "output_type": "stream",
          "text": [
            "+---------+-----------+------------+--------------+---------+---------------+----------------+--------------+-------------------+-------------+----------------------+---------+----------+------------+-------+-------------+--------------+------------+-----------------+-----------+--------------------+------------+-------------+---------------+----------+----------------+-----------------+---------------+--------------------+--------------+-----------------------+\n",
            "|diagnosis|radius_mean|texture_mean|perimeter_mean|area_mean|smoothness_mean|compactness_mean|concavity_mean|concave points_mean|symmetry_mean|fractal_dimension_mean|radius_se|texture_se|perimeter_se|area_se|smoothness_se|compactness_se|concavity_se|concave points_se|symmetry_se|fractal_dimension_se|radius_worst|texture_worst|perimeter_worst|area_worst|smoothness_worst|compactness_worst|concavity_worst|concave points_worst|symmetry_worst|fractal_dimension_worst|\n",
            "+---------+-----------+------------+--------------+---------+---------------+----------------+--------------+-------------------+-------------+----------------------+---------+----------+------------+-------+-------------+--------------+------------+-----------------+-----------+--------------------+------------+-------------+---------------+----------+----------------+-----------------+---------------+--------------------+--------------+-----------------------+\n",
            "|        M|      17.99|       10.38|         122.8|   1001.0|         0.1184|          0.2776|        0.3001|             0.1471|       0.2419|               0.07871|    1.095|    0.9053|       8.589|  153.4|     0.006399|       0.04904|     0.05373|          0.01587|    0.03003|            0.006193|       25.38|        17.33|          184.6|    2019.0|          0.1622|           0.6656|         0.7119|              0.2654|        0.4601|                 0.1189|\n",
            "|        M|      20.57|       17.77|         132.9|   1326.0|        0.08474|         0.07864|        0.0869|            0.07017|       0.1812|               0.05667|   0.5435|    0.7339|       3.398|  74.08|     0.005225|       0.01308|      0.0186|           0.0134|    0.01389|            0.003532|       24.99|        23.41|          158.8|    1956.0|          0.1238|           0.1866|         0.2416|               0.186|         0.275|                0.08902|\n",
            "|        M|      19.69|       21.25|         130.0|   1203.0|         0.1096|          0.1599|        0.1974|             0.1279|       0.2069|               0.05999|   0.7456|    0.7869|       4.585|  94.03|      0.00615|       0.04006|     0.03832|          0.02058|     0.0225|            0.004571|       23.57|        25.53|          152.5|    1709.0|          0.1444|           0.4245|         0.4504|               0.243|        0.3613|                0.08758|\n",
            "|        M|      11.42|       20.38|         77.58|    386.1|         0.1425|          0.2839|        0.2414|             0.1052|       0.2597|               0.09744|   0.4956|     1.156|       3.445|  27.23|      0.00911|       0.07458|     0.05661|          0.01867|    0.05963|            0.009208|       14.91|         26.5|          98.87|     567.7|          0.2098|           0.8663|         0.6869|              0.2575|        0.6638|                  0.173|\n",
            "|        M|      20.29|       14.34|         135.1|   1297.0|         0.1003|          0.1328|         0.198|             0.1043|       0.1809|               0.05883|   0.7572|    0.7813|       5.438|  94.44|      0.01149|       0.02461|     0.05688|          0.01885|    0.01756|            0.005115|       22.54|        16.67|          152.2|    1575.0|          0.1374|            0.205|            0.4|              0.1625|        0.2364|                0.07678|\n",
            "|        M|      12.45|        15.7|         82.57|    477.1|         0.1278|            0.17|        0.1578|            0.08089|       0.2087|               0.07613|   0.3345|    0.8902|       2.217|  27.19|      0.00751|       0.03345|     0.03672|          0.01137|    0.02165|            0.005082|       15.47|        23.75|          103.4|     741.6|          0.1791|           0.5249|         0.5355|              0.1741|        0.3985|                 0.1244|\n",
            "|        M|      18.25|       19.98|         119.6|   1040.0|        0.09463|           0.109|        0.1127|              0.074|       0.1794|               0.05742|   0.4467|    0.7732|        3.18|  53.91|     0.004314|       0.01382|     0.02254|          0.01039|    0.01369|            0.002179|       22.88|        27.66|          153.2|    1606.0|          0.1442|           0.2576|         0.3784|              0.1932|        0.3063|                0.08368|\n",
            "|        M|      13.71|       20.83|          90.2|    577.9|         0.1189|          0.1645|       0.09366|            0.05985|       0.2196|               0.07451|   0.5835|     1.377|       3.856|  50.96|     0.008805|       0.03029|     0.02488|          0.01448|    0.01486|            0.005412|       17.06|        28.14|          110.6|     897.0|          0.1654|           0.3682|         0.2678|              0.1556|        0.3196|                 0.1151|\n",
            "|        M|       13.0|       21.82|          87.5|    519.8|         0.1273|          0.1932|        0.1859|            0.09353|        0.235|               0.07389|   0.3063|     1.002|       2.406|  24.32|     0.005731|       0.03502|     0.03553|          0.01226|    0.02143|            0.003749|       15.49|        30.73|          106.2|     739.3|          0.1703|           0.5401|          0.539|               0.206|        0.4378|                 0.1072|\n",
            "|        M|      12.46|       24.04|         83.97|    475.9|         0.1186|          0.2396|        0.2273|            0.08543|        0.203|               0.08243|   0.2976|     1.599|       2.039|  23.94|     0.007149|       0.07217|     0.07743|          0.01432|    0.01789|             0.01008|       15.09|        40.68|          97.65|     711.4|          0.1853|            1.058|          1.105|               0.221|        0.4366|                 0.2075|\n",
            "|        M|      16.02|       23.24|         102.7|    797.8|        0.08206|         0.06669|       0.03299|            0.03323|       0.1528|               0.05697|   0.3795|     1.187|       2.466|  40.51|     0.004029|      0.009269|     0.01101|         0.007591|     0.0146|            0.003042|       19.19|        33.88|          123.8|    1150.0|          0.1181|           0.1551|         0.1459|             0.09975|        0.2948|                0.08452|\n",
            "|        M|      15.78|       17.89|         103.6|    781.0|         0.0971|          0.1292|       0.09954|            0.06606|       0.1842|               0.06082|   0.5058|    0.9849|       3.564|  54.16|     0.005771|       0.04061|     0.02791|          0.01282|    0.02008|            0.004144|       20.42|        27.28|          136.5|    1299.0|          0.1396|           0.5609|         0.3965|               0.181|        0.3792|                 0.1048|\n",
            "|        M|      19.17|        24.8|         132.4|   1123.0|         0.0974|          0.2458|        0.2065|             0.1118|       0.2397|                 0.078|   0.9555|     3.568|       11.07|  116.2|     0.003139|       0.08297|      0.0889|           0.0409|    0.04484|             0.01284|       20.96|        29.94|          151.7|    1332.0|          0.1037|           0.3903|         0.3639|              0.1767|        0.3176|                 0.1023|\n",
            "|        M|      15.85|       23.95|         103.7|    782.7|        0.08401|          0.1002|       0.09938|            0.05364|       0.1847|               0.05338|   0.4033|     1.078|       2.903|  36.58|     0.009769|       0.03126|     0.05051|          0.01992|    0.02981|            0.003002|       16.84|        27.66|          112.0|     876.5|          0.1131|           0.1924|         0.2322|              0.1119|        0.2809|                0.06287|\n",
            "|        M|      13.73|       22.61|          93.6|    578.3|         0.1131|          0.2293|        0.2128|            0.08025|       0.2069|               0.07682|   0.2121|     1.169|       2.061|  19.21|     0.006429|       0.05936|     0.05501|          0.01628|    0.01961|            0.008093|       15.03|        32.01|          108.8|     697.7|          0.1651|           0.7725|         0.6943|              0.2208|        0.3596|                 0.1431|\n",
            "|        M|      14.54|       27.54|         96.73|    658.8|         0.1139|          0.1595|        0.1639|            0.07364|       0.2303|               0.07077|     0.37|     1.033|       2.879|  32.55|     0.005607|        0.0424|     0.04741|           0.0109|    0.01857|            0.005466|       17.46|        37.13|          124.1|     943.2|          0.1678|           0.6577|         0.7026|              0.1712|        0.4218|                 0.1341|\n",
            "|        M|      14.68|       20.13|         94.74|    684.5|        0.09867|           0.072|       0.07395|            0.05259|       0.1586|               0.05922|   0.4727|      1.24|       3.195|   45.4|     0.005718|       0.01162|     0.01998|          0.01109|     0.0141|            0.002085|       19.07|        30.88|          123.4|    1138.0|          0.1464|           0.1871|         0.2914|              0.1609|        0.3029|                0.08216|\n",
            "|        M|      16.13|       20.68|         108.1|    798.8|          0.117|          0.2022|        0.1722|             0.1028|       0.2164|               0.07356|   0.5692|     1.073|       3.854|  54.18|     0.007026|       0.02501|     0.03188|          0.01297|    0.01689|            0.004142|       20.96|        31.48|          136.8|    1315.0|          0.1789|           0.4233|         0.4784|              0.2073|        0.3706|                 0.1142|\n",
            "|        M|      19.81|       22.15|         130.0|   1260.0|        0.09831|          0.1027|        0.1479|            0.09498|       0.1582|               0.05395|   0.7582|     1.017|       5.865|  112.4|     0.006494|       0.01893|     0.03391|          0.01521|    0.01356|            0.001997|       27.32|        30.88|          186.8|    2398.0|          0.1512|            0.315|         0.5372|              0.2388|        0.2768|                0.07615|\n",
            "|        B|      13.54|       14.36|         87.46|    566.3|        0.09779|         0.08129|       0.06664|            0.04781|       0.1885|               0.05766|   0.2699|    0.7886|       2.058|  23.56|     0.008462|        0.0146|     0.02387|          0.01315|     0.0198|              0.0023|       15.11|        19.26|           99.7|     711.2|           0.144|           0.1773|          0.239|              0.1288|        0.2977|                0.07259|\n",
            "+---------+-----------+------------+--------------+---------+---------------+----------------+--------------+-------------------+-------------+----------------------+---------+----------+------------+-------+-------------+--------------+------------+-----------------+-----------+--------------------+------------+-------------+---------------+----------+----------------+-----------------+---------------+--------------------+--------------+-----------------------+\n",
            "only showing top 20 rows\n",
            "\n"
          ],
          "name": "stdout"
        }
      ]
    },
    {
      "cell_type": "code",
      "metadata": {
        "colab": {
          "base_uri": "https://localhost:8080/"
        },
        "id": "gvi337V9BMXl",
        "outputId": "99a9c1e2-e216-43e5-c9ab-be716e445aaf"
      },
      "source": [
        "path_land = '/content/drive/MyDrive/1CodeScripts/section3/ Countries_LandCvr_Elnino.csv'\n",
        "# note the space to start the file name, pulled from file tree to the left /content/drive/MyDrive/1CodeScripts/section3/ Countries_LandCvr_Elnino.csv\n",
        "df2= spark.read.csv(path_land, header=True, inferSchema=True)\n",
        "df2.show()"
      ],
      "execution_count": 33,
      "outputs": [
        {
          "output_type": "stream",
          "text": [
            "+-------+---------+--------------------+-----+\n",
            "| NAME_0| yearType|             lndcvr_|    n|\n",
            "+-------+---------+--------------------+-----+\n",
            "|Bolivia|   ElNino|Barren or sparsel...|   21|\n",
            "|Bolivia|   ElNino|   Closed shrublands|   18|\n",
            "|Bolivia|   ElNino|           Croplands| 1485|\n",
            "|Bolivia|   ElNino|Deciduous Broadle...|  105|\n",
            "|Bolivia|   ElNino|Deciduous Needlel...|    1|\n",
            "|Bolivia|   ElNino|Evergreen Broadle...|11514|\n",
            "|Bolivia|   ElNino|Evergreen Needlel...|   95|\n",
            "|Bolivia|   ElNino|          Grasslands| 9428|\n",
            "|Bolivia|   ElNino|        Mixed forest|  604|\n",
            "|Bolivia|   ElNino|     Open shrublands|   37|\n",
            "|Bolivia|   ElNino|            Savannas|24447|\n",
            "|Bolivia|   ElNino|  Urban and built-up|    9|\n",
            "|Bolivia|   ElNino|      Woody savannas| 7426|\n",
            "|Bolivia|NonElNino|Barren or sparsel...|    6|\n",
            "|Bolivia|NonElNino|   Closed shrublands|   16|\n",
            "|Bolivia|NonElNino|           Croplands|  467|\n",
            "|Bolivia|NonElNino|Deciduous Broadle...|   27|\n",
            "|Bolivia|NonElNino|Deciduous Needlel...|    1|\n",
            "|Bolivia|NonElNino|Evergreen Broadle...| 3507|\n",
            "|Bolivia|NonElNino|Evergreen Needlel...|   36|\n",
            "+-------+---------+--------------------+-----+\n",
            "only showing top 20 rows\n",
            "\n"
          ],
          "name": "stdout"
        }
      ]
    },
    {
      "cell_type": "code",
      "metadata": {
        "colab": {
          "base_uri": "https://localhost:8080/"
        },
        "id": "qej6uE9YB7_y",
        "outputId": "681f835e-9f04-4793-a758-6d14b0232748"
      },
      "source": [
        "df2.printSchema()"
      ],
      "execution_count": 34,
      "outputs": [
        {
          "output_type": "stream",
          "text": [
            "root\n",
            " |-- NAME_0: string (nullable = true)\n",
            " |-- yearType: string (nullable = true)\n",
            " |-- lndcvr_: string (nullable = true)\n",
            " |-- n: integer (nullable = true)\n",
            "\n"
          ],
          "name": "stdout"
        }
      ]
    },
    {
      "cell_type": "code",
      "metadata": {
        "colab": {
          "base_uri": "https://localhost:8080/"
        },
        "id": "0LD2_ueXDe9g",
        "outputId": "a48bfcb1-b587-4ca9-f20b-69349eddfc3c"
      },
      "source": [
        "df2.summary().show()"
      ],
      "execution_count": 36,
      "outputs": [
        {
          "output_type": "stream",
          "text": [
            "+-------+---------+---------+--------------------+------------------+\n",
            "|summary|   NAME_0| yearType|             lndcvr_|                 n|\n",
            "+-------+---------+---------+--------------------+------------------+\n",
            "|  count|      153|      153|                 153|               153|\n",
            "|   mean|     null|     null|                null|2419.4640522875816|\n",
            "| stddev|     null|     null|                null| 9841.475254480629|\n",
            "|    min|  Bolivia|   ElNino|Barren or sparsel...|                 1|\n",
            "|    25%|     null|     null|                null|                 6|\n",
            "|    50%|     null|     null|                null|                46|\n",
            "|    75%|     null|     null|                null|               613|\n",
            "|    max|Venezuela|NonElNino|      Woody savannas|             99296|\n",
            "+-------+---------+---------+--------------------+------------------+\n",
            "\n"
          ],
          "name": "stdout"
        }
      ]
    },
    {
      "cell_type": "code",
      "metadata": {
        "colab": {
          "base_uri": "https://localhost:8080/"
        },
        "id": "iNh7qtU9DqnA",
        "outputId": "9aca1f08-09c2-4953-8f8b-2c236b500cd2"
      },
      "source": [
        "df2.describe().show()"
      ],
      "execution_count": 37,
      "outputs": [
        {
          "output_type": "stream",
          "text": [
            "+-------+---------+---------+--------------------+------------------+\n",
            "|summary|   NAME_0| yearType|             lndcvr_|                 n|\n",
            "+-------+---------+---------+--------------------+------------------+\n",
            "|  count|      153|      153|                 153|               153|\n",
            "|   mean|     null|     null|                null|2419.4640522875816|\n",
            "| stddev|     null|     null|                null| 9841.475254480629|\n",
            "|    min|  Bolivia|   ElNino|Barren or sparsel...|                 1|\n",
            "|    max|Venezuela|NonElNino|      Woody savannas|             99296|\n",
            "+-------+---------+---------+--------------------+------------------+\n",
            "\n"
          ],
          "name": "stdout"
        }
      ]
    },
    {
      "cell_type": "code",
      "metadata": {
        "colab": {
          "base_uri": "https://localhost:8080/"
        },
        "id": "x4UBn77BD549",
        "outputId": "3e8bb5c9-f3fd-40af-ae1c-5ce49e2fb705"
      },
      "source": [
        "country_counts = df2.select(['NAME_0','n']).show()"
      ],
      "execution_count": 39,
      "outputs": [
        {
          "output_type": "stream",
          "text": [
            "+-------+-----+\n",
            "| NAME_0|    n|\n",
            "+-------+-----+\n",
            "|Bolivia|   21|\n",
            "|Bolivia|   18|\n",
            "|Bolivia| 1485|\n",
            "|Bolivia|  105|\n",
            "|Bolivia|    1|\n",
            "|Bolivia|11514|\n",
            "|Bolivia|   95|\n",
            "|Bolivia| 9428|\n",
            "|Bolivia|  604|\n",
            "|Bolivia|   37|\n",
            "|Bolivia|24447|\n",
            "|Bolivia|    9|\n",
            "|Bolivia| 7426|\n",
            "|Bolivia|    6|\n",
            "|Bolivia|   16|\n",
            "|Bolivia|  467|\n",
            "|Bolivia|   27|\n",
            "|Bolivia|    1|\n",
            "|Bolivia| 3507|\n",
            "|Bolivia|   36|\n",
            "+-------+-----+\n",
            "only showing top 20 rows\n",
            "\n"
          ],
          "name": "stdout"
        }
      ]
    },
    {
      "cell_type": "code",
      "metadata": {
        "colab": {
          "base_uri": "https://localhost:8080/"
        },
        "id": "Au_88JeYEfyf",
        "outputId": "4e69bbf2-826a-4c6c-fdf5-4837f2b7918c"
      },
      "source": [
        "df2.filter((df2[\"n\"] > 1000)).groupBy([\"lndcvr_\"]).count().show() #land cover counts for number of fires > 1000"
      ],
      "execution_count": 49,
      "outputs": [
        {
          "output_type": "stream",
          "text": [
            "+--------------------+-----+\n",
            "|             lndcvr_|count|\n",
            "+--------------------+-----+\n",
            "|      Woody savannas|    5|\n",
            "|        Mixed forest|    1|\n",
            "|            Savannas|    8|\n",
            "|           Croplands|    3|\n",
            "|Evergreen Broadle...|   10|\n",
            "|          Grasslands|    7|\n",
            "+--------------------+-----+\n",
            "\n"
          ],
          "name": "stdout"
        }
      ]
    },
    {
      "cell_type": "code",
      "metadata": {
        "colab": {
          "base_uri": "https://localhost:8080/"
        },
        "id": "9y7fkq7GFG5o",
        "outputId": "d7cdd61e-3d89-4899-e8e7-f12aa994c16f"
      },
      "source": [
        "df2.filter((df2[\"n\"] > 1000)).count()\n"
      ],
      "execution_count": 51,
      "outputs": [
        {
          "output_type": "execute_result",
          "data": {
            "text/plain": [
              "34"
            ]
          },
          "metadata": {
            "tags": []
          },
          "execution_count": 51
        }
      ]
    },
    {
      "cell_type": "code",
      "metadata": {
        "colab": {
          "base_uri": "https://localhost:8080/"
        },
        "id": "MNLnBTijGyLZ",
        "outputId": "b307661f-6bb5-4cc7-84b9-22b77e4aa665"
      },
      "source": [
        "for col in df2.columns:\n",
        "  if col != 'n':\n",
        "    print('col = ' + col)\n",
        "    df2.groupBy(col).count().orderBy('count', ascending=False).show(truncate=False)"
      ],
      "execution_count": 52,
      "outputs": [
        {
          "output_type": "stream",
          "text": [
            "col = NAME_0\n",
            "+---------+-----+\n",
            "|NAME_0   |count|\n",
            "+---------+-----+\n",
            "|Bolivia  |26   |\n",
            "|Brazil   |26   |\n",
            "|Guyana   |24   |\n",
            "|Venezuela|24   |\n",
            "|Peru     |22   |\n",
            "|Colombia |22   |\n",
            "|Ecuador  |9    |\n",
            "+---------+-----+\n",
            "\n",
            "col = yearType\n",
            "+---------+-----+\n",
            "|yearType |count|\n",
            "+---------+-----+\n",
            "|ElNino   |79   |\n",
            "|NonElNino|74   |\n",
            "+---------+-----+\n",
            "\n",
            "col = lndcvr_\n",
            "+----------------------------+-----+\n",
            "|lndcvr_                     |count|\n",
            "+----------------------------+-----+\n",
            "|Evergreen Needleleaf forest |14   |\n",
            "|Evergreen Broadleaf forest  |14   |\n",
            "|Savannas                    |13   |\n",
            "|Woody savannas              |13   |\n",
            "|Mixed forest                |13   |\n",
            "|Grasslands                  |13   |\n",
            "|Croplands                   |12   |\n",
            "|Closed shrublands           |12   |\n",
            "|Deciduous Broadleaf forest  |12   |\n",
            "|Barren or sparsely vegetated|12   |\n",
            "|Urban and built-up          |11   |\n",
            "|Open shrublands             |8    |\n",
            "|Deciduous Needleleaf forest |6    |\n",
            "+----------------------------+-----+\n",
            "\n"
          ],
          "name": "stdout"
        }
      ]
    },
    {
      "cell_type": "code",
      "metadata": {
        "colab": {
          "base_uri": "https://localhost:8080/"
        },
        "id": "ri8hWb0uHW2Q",
        "outputId": "826ced67-4e94-4f24-f659-2c759b3b23c9"
      },
      "source": [
        "path_glass = '/content/drive/MyDrive/1CodeScripts/section5/glassClass.csv'\n",
        "df_glass = spark.read.csv(path_glass, header=True, inferSchema=True)\n",
        "df_glass.printSchema()"
      ],
      "execution_count": 55,
      "outputs": [
        {
          "output_type": "stream",
          "text": [
            "root\n",
            " |-- RI: double (nullable = true)\n",
            " |-- Na: double (nullable = true)\n",
            " |-- Mg: double (nullable = true)\n",
            " |-- Al: double (nullable = true)\n",
            " |-- Si: double (nullable = true)\n",
            " |-- K: double (nullable = true)\n",
            " |-- Ca: double (nullable = true)\n",
            " |-- Ba: double (nullable = true)\n",
            " |-- Fe: double (nullable = true)\n",
            " |-- Type: integer (nullable = true)\n",
            "\n"
          ],
          "name": "stdout"
        }
      ]
    },
    {
      "cell_type": "code",
      "metadata": {
        "colab": {
          "base_uri": "https://localhost:8080/"
        },
        "id": "YzwqK9kaIE1p",
        "outputId": "03fb3bce-408c-4fa0-e3bb-a7b07fce870b"
      },
      "source": [
        "df_glass.summary().show()"
      ],
      "execution_count": 56,
      "outputs": [
        {
          "output_type": "stream",
          "text": [
            "+-------+--------------------+------------------+-----------------+------------------+------------------+-------------------+------------------+-------------------+--------------------+------------------+\n",
            "|summary|                  RI|                Na|               Mg|                Al|                Si|                  K|                Ca|                 Ba|                  Fe|              Type|\n",
            "+-------+--------------------+------------------+-----------------+------------------+------------------+-------------------+------------------+-------------------+--------------------+------------------+\n",
            "|  count|                 214|               214|              214|               214|               214|                214|               214|                214|                 214|               214|\n",
            "|   mean|  1.5183654205607469|13.407850467289723|2.684532710280374|1.4449065420560752| 72.65093457943925|0.49705607476635494|  8.95696261682243|0.17504672897196263|0.057009345794392506|2.7803738317757007|\n",
            "| stddev|0.003036863739385533|0.8166035557149831|1.442407844870442|0.4992696456004845|0.7745457947651084| 0.6521918455589797|1.4231534872813942|0.49721926059970345| 0.09743870063650084|2.1037386462007546|\n",
            "|    min|             1.51115|             10.73|              0.0|              0.29|             69.81|                0.0|              5.43|                0.0|                 0.0|                 1|\n",
            "|    25%|             1.51652|              12.9|             2.09|              1.19|             72.28|               0.12|              8.24|                0.0|                 0.0|                 1|\n",
            "|    50%|             1.51768|              13.3|             3.48|              1.36|             72.79|               0.55|               8.6|                0.0|                 0.0|                 2|\n",
            "|    75%|             1.51916|             13.83|              3.6|              1.63|             73.09|               0.61|              9.18|                0.0|                 0.1|                 3|\n",
            "|    max|             1.53393|             17.38|             4.49|               3.5|             75.41|               6.21|             16.19|               3.15|                0.51|                 7|\n",
            "+-------+--------------------+------------------+-----------------+------------------+------------------+-------------------+------------------+-------------------+--------------------+------------------+\n",
            "\n"
          ],
          "name": "stdout"
        }
      ]
    },
    {
      "cell_type": "code",
      "metadata": {
        "colab": {
          "base_uri": "https://localhost:8080/"
        },
        "id": "oEm_yRhnIJAB",
        "outputId": "60d534f8-a7a3-4eb8-a5b2-f6afff75389c"
      },
      "source": [
        "df_glass2 = df_glass.drop('Type')\n",
        "df_glass2.show(5)"
      ],
      "execution_count": 57,
      "outputs": [
        {
          "output_type": "stream",
          "text": [
            "+-------+-----+----+----+-----+----+----+---+---+\n",
            "|     RI|   Na|  Mg|  Al|   Si|   K|  Ca| Ba| Fe|\n",
            "+-------+-----+----+----+-----+----+----+---+---+\n",
            "|1.52101|13.64|4.49| 1.1|71.78|0.06|8.75|0.0|0.0|\n",
            "|1.51761|13.89| 3.6|1.36|72.73|0.48|7.83|0.0|0.0|\n",
            "|1.51618|13.53|3.55|1.54|72.99|0.39|7.78|0.0|0.0|\n",
            "|1.51766|13.21|3.69|1.29|72.61|0.57|8.22|0.0|0.0|\n",
            "|1.51742|13.27|3.62|1.24|73.08|0.55|8.07|0.0|0.0|\n",
            "+-------+-----+----+----+-----+----+----+---+---+\n",
            "only showing top 5 rows\n",
            "\n"
          ],
          "name": "stdout"
        }
      ]
    },
    {
      "cell_type": "code",
      "metadata": {
        "id": "LSAnE_yXI3hD"
      },
      "source": [
        "from pyspark.mllib.stat import Statistics\n",
        "from pyspark.ml.linalg import Vectors\n",
        "from pyspark.ml.stat import Correlation\n",
        "from pyspark.ml.feature import VectorAssembler, StandardScaler\n",
        "\n"
      ],
      "execution_count": 68,
      "outputs": []
    },
    {
      "cell_type": "code",
      "metadata": {
        "colab": {
          "base_uri": "https://localhost:8080/"
        },
        "id": "8AewxPPucu18",
        "outputId": "b83f5f82-c75a-4063-8a06-9cc5461856b8"
      },
      "source": [
        "df_glass2.columns"
      ],
      "execution_count": 61,
      "outputs": [
        {
          "output_type": "execute_result",
          "data": {
            "text/plain": [
              "['RI', 'Na', 'Mg', 'Al', 'Si', 'K', 'Ca', 'Ba', 'Fe']"
            ]
          },
          "metadata": {
            "tags": []
          },
          "execution_count": 61
        }
      ]
    },
    {
      "cell_type": "code",
      "metadata": {
        "id": "nmtPPf0Oc2ij"
      },
      "source": [
        "assembler = VectorAssembler(inputCols=df_glass2.columns, outputCol=\"Predictors\")\n",
        "output = assembler.transform(df_glass2)"
      ],
      "execution_count": 66,
      "outputs": []
    },
    {
      "cell_type": "code",
      "metadata": {
        "colab": {
          "base_uri": "https://localhost:8080/"
        },
        "id": "fx_Vqtv0dZBE",
        "outputId": "a3e41260-c5bc-4fe9-92b2-81d319811e0b"
      },
      "source": [
        "output.show()"
      ],
      "execution_count": 67,
      "outputs": [
        {
          "output_type": "stream",
          "text": [
            "+-------+-----+----+----+-----+----+----+---+----+--------------------+\n",
            "|     RI|   Na|  Mg|  Al|   Si|   K|  Ca| Ba|  Fe|          Predictors|\n",
            "+-------+-----+----+----+-----+----+----+---+----+--------------------+\n",
            "|1.52101|13.64|4.49| 1.1|71.78|0.06|8.75|0.0| 0.0|[1.52101,13.64,4....|\n",
            "|1.51761|13.89| 3.6|1.36|72.73|0.48|7.83|0.0| 0.0|[1.51761,13.89,3....|\n",
            "|1.51618|13.53|3.55|1.54|72.99|0.39|7.78|0.0| 0.0|[1.51618,13.53,3....|\n",
            "|1.51766|13.21|3.69|1.29|72.61|0.57|8.22|0.0| 0.0|[1.51766,13.21,3....|\n",
            "|1.51742|13.27|3.62|1.24|73.08|0.55|8.07|0.0| 0.0|[1.51742,13.27,3....|\n",
            "|1.51596|12.79|3.61|1.62|72.97|0.64|8.07|0.0|0.26|[1.51596,12.79,3....|\n",
            "|1.51743| 13.3| 3.6|1.14|73.09|0.58|8.17|0.0| 0.0|[1.51743,13.3,3.6...|\n",
            "|1.51756|13.15|3.61|1.05|73.24|0.57|8.24|0.0| 0.0|[1.51756,13.15,3....|\n",
            "|1.51918|14.04|3.58|1.37|72.08|0.56| 8.3|0.0| 0.0|[1.51918,14.04,3....|\n",
            "|1.51755| 13.0| 3.6|1.36|72.99|0.57| 8.4|0.0|0.11|[1.51755,13.0,3.6...|\n",
            "|1.51571|12.72|3.46|1.56| 73.2|0.67|8.09|0.0|0.24|[1.51571,12.72,3....|\n",
            "|1.51763| 12.8|3.66|1.27|73.01| 0.6|8.56|0.0| 0.0|[1.51763,12.8,3.6...|\n",
            "|1.51589|12.88|3.43| 1.4|73.28|0.69|8.05|0.0|0.24|[1.51589,12.88,3....|\n",
            "|1.51748|12.86|3.56|1.27|73.21|0.54|8.38|0.0|0.17|[1.51748,12.86,3....|\n",
            "|1.51763|12.61|3.59|1.31|73.29|0.58| 8.5|0.0| 0.0|[1.51763,12.61,3....|\n",
            "|1.51761|12.81|3.54|1.23|73.24|0.58|8.39|0.0| 0.0|[1.51761,12.81,3....|\n",
            "|1.51784|12.68|3.67|1.16|73.11|0.61| 8.7|0.0| 0.0|[1.51784,12.68,3....|\n",
            "|1.52196|14.36|3.85|0.89|71.36|0.15|9.15|0.0| 0.0|[1.52196,14.36,3....|\n",
            "|1.51911| 13.9|3.73|1.18|72.12|0.06|8.89|0.0| 0.0|[1.51911,13.9,3.7...|\n",
            "|1.51735|13.02|3.54|1.69|72.73|0.54|8.44|0.0|0.07|[1.51735,13.02,3....|\n",
            "+-------+-----+----+----+-----+----+----+---+----+--------------------+\n",
            "only showing top 20 rows\n",
            "\n"
          ],
          "name": "stdout"
        }
      ]
    },
    {
      "cell_type": "code",
      "metadata": {
        "id": "miFggPFMeGf2"
      },
      "source": [
        "scaler = StandardScaler(inputCol=\"Predictors\", outputCol=\"Standardized\", withStd=True, withMean=True)\n",
        "scaled = scaler.fit(output)\n"
      ],
      "execution_count": 82,
      "outputs": []
    },
    {
      "cell_type": "code",
      "metadata": {
        "colab": {
          "base_uri": "https://localhost:8080/"
        },
        "id": "V8s0zwbaeoEc",
        "outputId": "f3d9cea7-68e9-43dd-83c5-7a15e3226b39"
      },
      "source": [
        "scaled_output = scaled.transform(output)\n",
        "scaled_output.show()\n"
      ],
      "execution_count": 83,
      "outputs": [
        {
          "output_type": "stream",
          "text": [
            "+-------+-----+----+----+-----+----+----+---+----+--------------------+--------------------+\n",
            "|     RI|   Na|  Mg|  Al|   Si|   K|  Ca| Ba|  Fe|          Predictors|        Standardized|\n",
            "+-------+-----+----+----+-----+----+----+---+----+--------------------+--------------------+\n",
            "|1.52101|13.64|4.49| 1.1|71.78|0.06|8.75|0.0| 0.0|[1.52101,13.64,4....|[0.87082584738783...|\n",
            "|1.51761|13.89| 3.6|1.36|72.73|0.48|7.83|0.0| 0.0|[1.51761,13.89,3....|[-0.2487502323371...|\n",
            "|1.51618|13.53|3.55|1.54|72.99|0.39|7.78|0.0| 0.0|[1.51618,13.53,3....|[-0.7196307599860...|\n",
            "|1.51766|13.21|3.69|1.29|72.61|0.57|8.22|0.0| 0.0|[1.51766,13.21,3....|[-0.2322858782234...|\n",
            "|1.51742|13.27|3.62|1.24|73.08|0.55|8.07|0.0| 0.0|[1.51742,13.27,3....|[-0.3113147779687...|\n",
            "|1.51596|12.79|3.61|1.62|72.97|0.64|8.07|0.0|0.26|[1.51596,12.79,3....|[-0.7920739180859...|\n",
            "|1.51743| 13.3| 3.6|1.14|73.09|0.58|8.17|0.0| 0.0|[1.51743,13.3,3.6...|[-0.3080219071460...|\n",
            "|1.51756|13.15|3.61|1.05|73.24|0.57|8.24|0.0| 0.0|[1.51756,13.15,3....|[-0.2652145864506...|\n",
            "|1.51918|14.04|3.58|1.37|72.08|0.56| 8.3|0.0| 0.0|[1.51918,14.04,3....|[0.26823048683000...|\n",
            "|1.51755| 13.0| 3.6|1.36|72.99|0.57| 8.4|0.0|0.11|[1.51755,13.0,3.6...|[-0.2685074572734...|\n",
            "|1.51571|12.72|3.46|1.56| 73.2|0.67|8.09|0.0|0.24|[1.51571,12.72,3....|[-0.8743956886539...|\n",
            "|1.51763| 12.8|3.66|1.27|73.01| 0.6|8.56|0.0| 0.0|[1.51763,12.8,3.6...|[-0.2421644906916...|\n",
            "|1.51589|12.88|3.43| 1.4|73.28|0.69|8.05|0.0|0.24|[1.51589,12.88,3....|[-0.8151240138449...|\n",
            "|1.51748|12.86|3.56|1.27|73.21|0.54|8.38|0.0|0.17|[1.51748,12.86,3....|[-0.2915575530324...|\n",
            "|1.51763|12.61|3.59|1.31|73.29|0.58| 8.5|0.0| 0.0|[1.51763,12.61,3....|[-0.2421644906916...|\n",
            "|1.51761|12.81|3.54|1.23|73.24|0.58|8.39|0.0| 0.0|[1.51761,12.81,3....|[-0.2487502323371...|\n",
            "|1.51784|12.68|3.67|1.16|73.11|0.61| 8.7|0.0| 0.0|[1.51784,12.68,3....|[-0.1730142034144...|\n",
            "|1.52196|14.36|3.85|0.89|71.36|0.15|9.15|0.0| 0.0|[1.52196,14.36,3....|[1.18364857554626...|\n",
            "|1.51911| 13.9|3.73|1.18|72.12|0.06|8.89|0.0| 0.0|[1.51911,13.9,3.7...|[0.24518039107096...|\n",
            "|1.51735|13.02|3.54|1.69|72.73|0.54|8.44|0.0|0.07|[1.51735,13.02,3....|[-0.3343648737278...|\n",
            "+-------+-----+----+----+-----+----+----+---+----+--------------------+--------------------+\n",
            "only showing top 20 rows\n",
            "\n"
          ],
          "name": "stdout"
        }
      ]
    },
    {
      "cell_type": "code",
      "metadata": {
        "colab": {
          "base_uri": "https://localhost:8080/"
        },
        "id": "fzp20laMepTI",
        "outputId": "515ba728-fba4-4d11-8289-cab89f763497"
      },
      "source": [
        "import numpy as np\n",
        "np.array(scaled_output.select('Standardized').collect())"
      ],
      "execution_count": 84,
      "outputs": [
        {
          "output_type": "execute_result",
          "data": {
            "text/plain": [
              "array([[[ 0.87082585,  0.2842867 ,  1.25170374, ..., -0.14542537,\n",
              "         -0.35205138, -0.58507908]],\n",
              "\n",
              "       [[-0.24875023,  0.59043281,  0.63467992, ..., -0.79187707,\n",
              "         -0.35205138, -0.58507908]],\n",
              "\n",
              "       [[-0.71963076,  0.14958242,  0.60001566, ..., -0.82701032,\n",
              "         -0.35205138, -0.58507908]],\n",
              "\n",
              "       ...,\n",
              "\n",
              "       [[ 0.7522825 ,  1.16598749, -1.86114678, ..., -0.36325148,\n",
              "          2.94629228, -0.58507908]],\n",
              "\n",
              "       [[-0.61096602,  1.19047918, -1.86114678, ..., -0.33514489,\n",
              "          2.80550932, -0.58507908]],\n",
              "\n",
              "       [[-0.41339377,  1.00679152, -1.86114678, ..., -0.2367718 ,\n",
              "          3.00662784, -0.58507908]]])"
            ]
          },
          "metadata": {
            "tags": []
          },
          "execution_count": 84
        }
      ]
    },
    {
      "cell_type": "code",
      "metadata": {
        "colab": {
          "base_uri": "https://localhost:8080/",
          "height": 419
        },
        "id": "5Hk832fepSiM",
        "outputId": "d9fee7d1-f522-440b-9ad0-aecef41f5918"
      },
      "source": [
        "import pandas as pd\n",
        "df = pd.read_csv(path_glass)\n",
        "df"
      ],
      "execution_count": 87,
      "outputs": [
        {
          "output_type": "execute_result",
          "data": {
            "text/html": [
              "<div>\n",
              "<style scoped>\n",
              "    .dataframe tbody tr th:only-of-type {\n",
              "        vertical-align: middle;\n",
              "    }\n",
              "\n",
              "    .dataframe tbody tr th {\n",
              "        vertical-align: top;\n",
              "    }\n",
              "\n",
              "    .dataframe thead th {\n",
              "        text-align: right;\n",
              "    }\n",
              "</style>\n",
              "<table border=\"1\" class=\"dataframe\">\n",
              "  <thead>\n",
              "    <tr style=\"text-align: right;\">\n",
              "      <th></th>\n",
              "      <th>RI</th>\n",
              "      <th>Na</th>\n",
              "      <th>Mg</th>\n",
              "      <th>Al</th>\n",
              "      <th>Si</th>\n",
              "      <th>K</th>\n",
              "      <th>Ca</th>\n",
              "      <th>Ba</th>\n",
              "      <th>Fe</th>\n",
              "      <th>Type</th>\n",
              "    </tr>\n",
              "  </thead>\n",
              "  <tbody>\n",
              "    <tr>\n",
              "      <th>0</th>\n",
              "      <td>1.52101</td>\n",
              "      <td>13.64</td>\n",
              "      <td>4.49</td>\n",
              "      <td>1.10</td>\n",
              "      <td>71.78</td>\n",
              "      <td>0.06</td>\n",
              "      <td>8.75</td>\n",
              "      <td>0.00</td>\n",
              "      <td>0.0</td>\n",
              "      <td>1</td>\n",
              "    </tr>\n",
              "    <tr>\n",
              "      <th>1</th>\n",
              "      <td>1.51761</td>\n",
              "      <td>13.89</td>\n",
              "      <td>3.60</td>\n",
              "      <td>1.36</td>\n",
              "      <td>72.73</td>\n",
              "      <td>0.48</td>\n",
              "      <td>7.83</td>\n",
              "      <td>0.00</td>\n",
              "      <td>0.0</td>\n",
              "      <td>1</td>\n",
              "    </tr>\n",
              "    <tr>\n",
              "      <th>2</th>\n",
              "      <td>1.51618</td>\n",
              "      <td>13.53</td>\n",
              "      <td>3.55</td>\n",
              "      <td>1.54</td>\n",
              "      <td>72.99</td>\n",
              "      <td>0.39</td>\n",
              "      <td>7.78</td>\n",
              "      <td>0.00</td>\n",
              "      <td>0.0</td>\n",
              "      <td>1</td>\n",
              "    </tr>\n",
              "    <tr>\n",
              "      <th>3</th>\n",
              "      <td>1.51766</td>\n",
              "      <td>13.21</td>\n",
              "      <td>3.69</td>\n",
              "      <td>1.29</td>\n",
              "      <td>72.61</td>\n",
              "      <td>0.57</td>\n",
              "      <td>8.22</td>\n",
              "      <td>0.00</td>\n",
              "      <td>0.0</td>\n",
              "      <td>1</td>\n",
              "    </tr>\n",
              "    <tr>\n",
              "      <th>4</th>\n",
              "      <td>1.51742</td>\n",
              "      <td>13.27</td>\n",
              "      <td>3.62</td>\n",
              "      <td>1.24</td>\n",
              "      <td>73.08</td>\n",
              "      <td>0.55</td>\n",
              "      <td>8.07</td>\n",
              "      <td>0.00</td>\n",
              "      <td>0.0</td>\n",
              "      <td>1</td>\n",
              "    </tr>\n",
              "    <tr>\n",
              "      <th>...</th>\n",
              "      <td>...</td>\n",
              "      <td>...</td>\n",
              "      <td>...</td>\n",
              "      <td>...</td>\n",
              "      <td>...</td>\n",
              "      <td>...</td>\n",
              "      <td>...</td>\n",
              "      <td>...</td>\n",
              "      <td>...</td>\n",
              "      <td>...</td>\n",
              "    </tr>\n",
              "    <tr>\n",
              "      <th>209</th>\n",
              "      <td>1.51623</td>\n",
              "      <td>14.14</td>\n",
              "      <td>0.00</td>\n",
              "      <td>2.88</td>\n",
              "      <td>72.61</td>\n",
              "      <td>0.08</td>\n",
              "      <td>9.18</td>\n",
              "      <td>1.06</td>\n",
              "      <td>0.0</td>\n",
              "      <td>7</td>\n",
              "    </tr>\n",
              "    <tr>\n",
              "      <th>210</th>\n",
              "      <td>1.51685</td>\n",
              "      <td>14.92</td>\n",
              "      <td>0.00</td>\n",
              "      <td>1.99</td>\n",
              "      <td>73.06</td>\n",
              "      <td>0.00</td>\n",
              "      <td>8.40</td>\n",
              "      <td>1.59</td>\n",
              "      <td>0.0</td>\n",
              "      <td>7</td>\n",
              "    </tr>\n",
              "    <tr>\n",
              "      <th>211</th>\n",
              "      <td>1.52065</td>\n",
              "      <td>14.36</td>\n",
              "      <td>0.00</td>\n",
              "      <td>2.02</td>\n",
              "      <td>73.42</td>\n",
              "      <td>0.00</td>\n",
              "      <td>8.44</td>\n",
              "      <td>1.64</td>\n",
              "      <td>0.0</td>\n",
              "      <td>7</td>\n",
              "    </tr>\n",
              "    <tr>\n",
              "      <th>212</th>\n",
              "      <td>1.51651</td>\n",
              "      <td>14.38</td>\n",
              "      <td>0.00</td>\n",
              "      <td>1.94</td>\n",
              "      <td>73.61</td>\n",
              "      <td>0.00</td>\n",
              "      <td>8.48</td>\n",
              "      <td>1.57</td>\n",
              "      <td>0.0</td>\n",
              "      <td>7</td>\n",
              "    </tr>\n",
              "    <tr>\n",
              "      <th>213</th>\n",
              "      <td>1.51711</td>\n",
              "      <td>14.23</td>\n",
              "      <td>0.00</td>\n",
              "      <td>2.08</td>\n",
              "      <td>73.36</td>\n",
              "      <td>0.00</td>\n",
              "      <td>8.62</td>\n",
              "      <td>1.67</td>\n",
              "      <td>0.0</td>\n",
              "      <td>7</td>\n",
              "    </tr>\n",
              "  </tbody>\n",
              "</table>\n",
              "<p>214 rows × 10 columns</p>\n",
              "</div>"
            ],
            "text/plain": [
              "          RI     Na    Mg    Al     Si     K    Ca    Ba   Fe  Type\n",
              "0    1.52101  13.64  4.49  1.10  71.78  0.06  8.75  0.00  0.0     1\n",
              "1    1.51761  13.89  3.60  1.36  72.73  0.48  7.83  0.00  0.0     1\n",
              "2    1.51618  13.53  3.55  1.54  72.99  0.39  7.78  0.00  0.0     1\n",
              "3    1.51766  13.21  3.69  1.29  72.61  0.57  8.22  0.00  0.0     1\n",
              "4    1.51742  13.27  3.62  1.24  73.08  0.55  8.07  0.00  0.0     1\n",
              "..       ...    ...   ...   ...    ...   ...   ...   ...  ...   ...\n",
              "209  1.51623  14.14  0.00  2.88  72.61  0.08  9.18  1.06  0.0     7\n",
              "210  1.51685  14.92  0.00  1.99  73.06  0.00  8.40  1.59  0.0     7\n",
              "211  1.52065  14.36  0.00  2.02  73.42  0.00  8.44  1.64  0.0     7\n",
              "212  1.51651  14.38  0.00  1.94  73.61  0.00  8.48  1.57  0.0     7\n",
              "213  1.51711  14.23  0.00  2.08  73.36  0.00  8.62  1.67  0.0     7\n",
              "\n",
              "[214 rows x 10 columns]"
            ]
          },
          "metadata": {
            "tags": []
          },
          "execution_count": 87
        }
      ]
    },
    {
      "cell_type": "code",
      "metadata": {
        "colab": {
          "base_uri": "https://localhost:8080/",
          "height": 419
        },
        "id": "A0OKGnm8tHHN",
        "outputId": "e56d4cc0-6e16-4004-ef8d-41f4ed518e5d"
      },
      "source": [
        "df.drop(columns=[\"Type\"])"
      ],
      "execution_count": 90,
      "outputs": [
        {
          "output_type": "execute_result",
          "data": {
            "text/html": [
              "<div>\n",
              "<style scoped>\n",
              "    .dataframe tbody tr th:only-of-type {\n",
              "        vertical-align: middle;\n",
              "    }\n",
              "\n",
              "    .dataframe tbody tr th {\n",
              "        vertical-align: top;\n",
              "    }\n",
              "\n",
              "    .dataframe thead th {\n",
              "        text-align: right;\n",
              "    }\n",
              "</style>\n",
              "<table border=\"1\" class=\"dataframe\">\n",
              "  <thead>\n",
              "    <tr style=\"text-align: right;\">\n",
              "      <th></th>\n",
              "      <th>RI</th>\n",
              "      <th>Na</th>\n",
              "      <th>Mg</th>\n",
              "      <th>Al</th>\n",
              "      <th>Si</th>\n",
              "      <th>K</th>\n",
              "      <th>Ca</th>\n",
              "      <th>Ba</th>\n",
              "      <th>Fe</th>\n",
              "    </tr>\n",
              "  </thead>\n",
              "  <tbody>\n",
              "    <tr>\n",
              "      <th>0</th>\n",
              "      <td>1.52101</td>\n",
              "      <td>13.64</td>\n",
              "      <td>4.49</td>\n",
              "      <td>1.10</td>\n",
              "      <td>71.78</td>\n",
              "      <td>0.06</td>\n",
              "      <td>8.75</td>\n",
              "      <td>0.00</td>\n",
              "      <td>0.0</td>\n",
              "    </tr>\n",
              "    <tr>\n",
              "      <th>1</th>\n",
              "      <td>1.51761</td>\n",
              "      <td>13.89</td>\n",
              "      <td>3.60</td>\n",
              "      <td>1.36</td>\n",
              "      <td>72.73</td>\n",
              "      <td>0.48</td>\n",
              "      <td>7.83</td>\n",
              "      <td>0.00</td>\n",
              "      <td>0.0</td>\n",
              "    </tr>\n",
              "    <tr>\n",
              "      <th>2</th>\n",
              "      <td>1.51618</td>\n",
              "      <td>13.53</td>\n",
              "      <td>3.55</td>\n",
              "      <td>1.54</td>\n",
              "      <td>72.99</td>\n",
              "      <td>0.39</td>\n",
              "      <td>7.78</td>\n",
              "      <td>0.00</td>\n",
              "      <td>0.0</td>\n",
              "    </tr>\n",
              "    <tr>\n",
              "      <th>3</th>\n",
              "      <td>1.51766</td>\n",
              "      <td>13.21</td>\n",
              "      <td>3.69</td>\n",
              "      <td>1.29</td>\n",
              "      <td>72.61</td>\n",
              "      <td>0.57</td>\n",
              "      <td>8.22</td>\n",
              "      <td>0.00</td>\n",
              "      <td>0.0</td>\n",
              "    </tr>\n",
              "    <tr>\n",
              "      <th>4</th>\n",
              "      <td>1.51742</td>\n",
              "      <td>13.27</td>\n",
              "      <td>3.62</td>\n",
              "      <td>1.24</td>\n",
              "      <td>73.08</td>\n",
              "      <td>0.55</td>\n",
              "      <td>8.07</td>\n",
              "      <td>0.00</td>\n",
              "      <td>0.0</td>\n",
              "    </tr>\n",
              "    <tr>\n",
              "      <th>...</th>\n",
              "      <td>...</td>\n",
              "      <td>...</td>\n",
              "      <td>...</td>\n",
              "      <td>...</td>\n",
              "      <td>...</td>\n",
              "      <td>...</td>\n",
              "      <td>...</td>\n",
              "      <td>...</td>\n",
              "      <td>...</td>\n",
              "    </tr>\n",
              "    <tr>\n",
              "      <th>209</th>\n",
              "      <td>1.51623</td>\n",
              "      <td>14.14</td>\n",
              "      <td>0.00</td>\n",
              "      <td>2.88</td>\n",
              "      <td>72.61</td>\n",
              "      <td>0.08</td>\n",
              "      <td>9.18</td>\n",
              "      <td>1.06</td>\n",
              "      <td>0.0</td>\n",
              "    </tr>\n",
              "    <tr>\n",
              "      <th>210</th>\n",
              "      <td>1.51685</td>\n",
              "      <td>14.92</td>\n",
              "      <td>0.00</td>\n",
              "      <td>1.99</td>\n",
              "      <td>73.06</td>\n",
              "      <td>0.00</td>\n",
              "      <td>8.40</td>\n",
              "      <td>1.59</td>\n",
              "      <td>0.0</td>\n",
              "    </tr>\n",
              "    <tr>\n",
              "      <th>211</th>\n",
              "      <td>1.52065</td>\n",
              "      <td>14.36</td>\n",
              "      <td>0.00</td>\n",
              "      <td>2.02</td>\n",
              "      <td>73.42</td>\n",
              "      <td>0.00</td>\n",
              "      <td>8.44</td>\n",
              "      <td>1.64</td>\n",
              "      <td>0.0</td>\n",
              "    </tr>\n",
              "    <tr>\n",
              "      <th>212</th>\n",
              "      <td>1.51651</td>\n",
              "      <td>14.38</td>\n",
              "      <td>0.00</td>\n",
              "      <td>1.94</td>\n",
              "      <td>73.61</td>\n",
              "      <td>0.00</td>\n",
              "      <td>8.48</td>\n",
              "      <td>1.57</td>\n",
              "      <td>0.0</td>\n",
              "    </tr>\n",
              "    <tr>\n",
              "      <th>213</th>\n",
              "      <td>1.51711</td>\n",
              "      <td>14.23</td>\n",
              "      <td>0.00</td>\n",
              "      <td>2.08</td>\n",
              "      <td>73.36</td>\n",
              "      <td>0.00</td>\n",
              "      <td>8.62</td>\n",
              "      <td>1.67</td>\n",
              "      <td>0.0</td>\n",
              "    </tr>\n",
              "  </tbody>\n",
              "</table>\n",
              "<p>214 rows × 9 columns</p>\n",
              "</div>"
            ],
            "text/plain": [
              "          RI     Na    Mg    Al     Si     K    Ca    Ba   Fe\n",
              "0    1.52101  13.64  4.49  1.10  71.78  0.06  8.75  0.00  0.0\n",
              "1    1.51761  13.89  3.60  1.36  72.73  0.48  7.83  0.00  0.0\n",
              "2    1.51618  13.53  3.55  1.54  72.99  0.39  7.78  0.00  0.0\n",
              "3    1.51766  13.21  3.69  1.29  72.61  0.57  8.22  0.00  0.0\n",
              "4    1.51742  13.27  3.62  1.24  73.08  0.55  8.07  0.00  0.0\n",
              "..       ...    ...   ...   ...    ...   ...   ...   ...  ...\n",
              "209  1.51623  14.14  0.00  2.88  72.61  0.08  9.18  1.06  0.0\n",
              "210  1.51685  14.92  0.00  1.99  73.06  0.00  8.40  1.59  0.0\n",
              "211  1.52065  14.36  0.00  2.02  73.42  0.00  8.44  1.64  0.0\n",
              "212  1.51651  14.38  0.00  1.94  73.61  0.00  8.48  1.57  0.0\n",
              "213  1.51711  14.23  0.00  2.08  73.36  0.00  8.62  1.67  0.0\n",
              "\n",
              "[214 rows x 9 columns]"
            ]
          },
          "metadata": {
            "tags": []
          },
          "execution_count": 90
        }
      ]
    },
    {
      "cell_type": "code",
      "metadata": {
        "id": "hy5hE7P3q6Pc"
      },
      "source": [
        "from sklearn.preprocessing import StandardScaler\n",
        "scaler = StandardScaler()\n",
        "X_train = scaler.fit_transform(df) "
      ],
      "execution_count": 91,
      "outputs": []
    },
    {
      "cell_type": "code",
      "metadata": {
        "colab": {
          "base_uri": "https://localhost:8080/"
        },
        "id": "8F68TBMNs8Eo",
        "outputId": "9552e9be-3c2f-47de-ade2-87df9577aacc"
      },
      "source": [
        "X_train"
      ],
      "execution_count": 92,
      "outputs": [
        {
          "output_type": "execute_result",
          "data": {
            "text/plain": [
              "array([[ 0.87286765,  0.28495326,  1.25463857, ..., -0.35287683,\n",
              "        -0.5864509 , -0.84827468],\n",
              "       [-0.24933347,  0.59181718,  0.63616803, ..., -0.35287683,\n",
              "        -0.5864509 , -0.84827468],\n",
              "       [-0.72131806,  0.14993314,  0.60142249, ..., -0.35287683,\n",
              "        -0.5864509 , -0.84827468],\n",
              "       ...,\n",
              "       [ 0.75404635,  1.16872135, -1.86551055, ...,  2.95320036,\n",
              "        -0.5864509 ,  2.01047778],\n",
              "       [-0.61239854,  1.19327046, -1.86551055, ...,  2.81208731,\n",
              "        -0.5864509 ,  2.01047778],\n",
              "       [-0.41436305,  1.00915211, -1.86551055, ...,  3.01367739,\n",
              "        -0.5864509 ,  2.01047778]])"
            ]
          },
          "metadata": {
            "tags": []
          },
          "execution_count": 92
        }
      ]
    },
    {
      "cell_type": "code",
      "metadata": {
        "id": "xGU0kFlIs9vo"
      },
      "source": [
        "[ 0.87082585,  0.2842867 ,  1.25170374, ..., -0.14542537,\n",
        "         -0.35205138, -0.58507908]],\n",
        "\n",
        "       [[-0.24875023,  0.59043281,  0.63467992, ..., -0.79187707,\n",
        "         -0.35205138, -0.58507908]],"
      ],
      "execution_count": null,
      "outputs": []
    }
  ]
}